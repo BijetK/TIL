{
 "cells": [
  {
   "cell_type": "markdown",
   "metadata": {},
   "source": [
    "# 기사단원의 무기\n",
    "\n",
    "난이도 : Lv.1\n",
    "\n",
    "[링크](https://school.programmers.co.kr/learn/courses/30/lessons/136798)"
   ]
  },
  {
   "cell_type": "markdown",
   "metadata": {},
   "source": [
    "## 문제 설명\n",
    "\n",
    "숫자나라 기사단의 각 기사에게는 1번부터 `number`까지 번호가 지정되어 있습니다. 기사들은 무기점에서 무기를 구매하려고 합니다.\n",
    "\n",
    "각 기사는 자신의 기사 번호의 약수 개수에 해당하는 공격력을 가진 무기를 구매하려 합니다. 단, 이웃나라와의 협약에 의해 공격력의 제한수치를 정하고, 제한수치보다 큰 공격력을 가진 무기를 구매해야 하는 기사는 협약기관에서 정한 공격력을 가지는 무기를 구매해야 합니다.\n",
    "\n",
    "예를 들어, 15번으로 지정된 기사단원은 15의 약수가 1, 3, 5, 15로 4개 이므로, 공격력이 4인 무기를 구매합니다. 만약, 이웃나라와의 협약으로 정해진 공격력의 제한수치가 3이고 제한수치를 초과한 기사가 사용할 무기의 공격력이 2라면, 15번으로 지정된 기사단원은 무기점에서 공격력이 2인 무기를 구매합니다. 무기를 만들 때, 무기의 공격력 1당 1kg의 철이 필요합니다. 그래서 무기점에서 무기를 모두 만들기 위해 필요한 철의 무게를 미리 계산하려 합니다.\n",
    "\n",
    "기사단원의 수를 나타내는 정수 `number`와 이웃나라와 협약으로 정해진 공격력의 제한수치를 나타내는 정수 `limit`와 제한수치를 초과한 기사가 사용할 무기의 공격력을 나타내는 정수 `power`가 주어졌을 때, 무기점의 주인이 무기를 모두 만들기 위해 필요한 철의 무게를 return 하는 solution 함수를 완성하시오."
   ]
  },
  {
   "cell_type": "markdown",
   "metadata": {},
   "source": [
    "## 제한사항\n",
    "\n",
    "- 1 ≤ `number` ≤ 100,000\n",
    "- 2 ≤ `limit` ≤ 100\n",
    "- 1 ≤ `power` ≤ `limit`"
   ]
  },
  {
   "cell_type": "markdown",
   "metadata": {},
   "source": [
    "## 입출력 예\n",
    "\n",
    "| number | limit | power | result |\n",
    "| ------ | ----- | ----- | ------ |\n",
    "| 5      | 3     | 2     | 10     |\n",
    "| 10     | 3     | 2     | 21     |"
   ]
  },
  {
   "cell_type": "markdown",
   "metadata": {},
   "source": [
    "## 입출력 예 설명\n",
    "\n",
    "**입출력 예 #1**\n",
    "\n",
    "1부터 5까지의 약수의 개수는 순서대로 [1, 2, 2, 3, 2]개입니다. 모두 공격력 제한 수치인 3을 넘지 않기 때문에 필요한 철의 무게는 해당 수들의 합인 10이 됩니다. 따라서 10을 return 합니다.\n",
    "\n",
    "**입출력 예 #2**\n",
    "\n",
    "1부터 10까지의 약수의 개수는 순서대로 [1, 2, 2, 3, 2, 4, 2, 4, 3, 4]개입니다. 공격력의 제한수치가 3이기 때문에, 6, 8, 10번 기사는 공격력이 2인 무기를 구매합니다. 따라서 해당 수들의 합인 21을 return 합니다."
   ]
  },
  {
   "cell_type": "markdown",
   "metadata": {},
   "source": [
    "## 정답"
   ]
  },
  {
   "cell_type": "code",
   "execution_count": 11,
   "metadata": {},
   "outputs": [],
   "source": [
    "def count_ys(no):\n",
    "    count = 1\n",
    "    for i in range(1, no):\n",
    "        if no % i == 0:\n",
    "            count+=1\n",
    "        \n",
    "    return count\n",
    "\n",
    "def solution(number, limit, power):\n",
    "    Fe_amount = 0\n",
    "\n",
    "    for knight in range(1, number+1):\n",
    "        knight_ys = count_ys(knight)\n",
    "        \n",
    "        if knight_ys > limit:\n",
    "            Fe_amount += power\n",
    "        else:\n",
    "            Fe_amount += knight_ys\n",
    "            \n",
    "    return Fe_amount"
   ]
  },
  {
   "cell_type": "markdown",
   "metadata": {},
   "source": [
    "### chatGPT 도움\n",
    "\n",
    "\n",
    "약수를 찾는 함수를 효율적으로 개선할 수 있습니다. 현재의 코드는 모든 수를 하나씩 확인하며 약수인지 판별하고 있습니다. 하지만 효율적인 알고리즘을 사용하면 더 빠르게 약수를 찾을 수 있습니다.\n",
    "\n",
    "여러 방법 중 하나는 제곱근을 이용하는 것입니다. 어떤 수의 약수는 해당 수의 제곱근을 기준으로 대칭적으로 분포하게 됩니다. 따라서 1부터 제곱근까지만 확인해도 충분합니다. 만약 어떤 수의 약수가 제곱근보다 큰 경우라면 해당 수의 작은 약수가 이미 찾아졌을 것이기 때문입니다.\n",
    "\n",
    "아래는 제곱근을 이용하여 약수를 찾는 개선된 코드입니다:"
   ]
  },
  {
   "cell_type": "code",
   "execution_count": null,
   "metadata": {},
   "outputs": [],
   "source": [
    "def count_ys(no):\n",
    "    count = 0\n",
    "    for i in range(1, int(no**0.5) + 1):\n",
    "        if no % i == 0:\n",
    "            # i가 no의 약수일 때, no // i 역시 약수임\n",
    "            count += 2 if i != no // i else 1\n",
    "    \n",
    "    return count\n",
    "\n",
    "def solution(number, limit, power):\n",
    "    Fe_amount = 0\n",
    "\n",
    "    for knight in range(1, number+1):\n",
    "        knight_ys = count_ys(knight)\n",
    "        \n",
    "        if knight_ys > limit:\n",
    "            Fe_amount += power\n",
    "        else:\n",
    "            Fe_amount += knight_ys\n",
    "            \n",
    "    return Fe_amount"
   ]
  },
  {
   "cell_type": "markdown",
   "metadata": {},
   "source": [
    "## 연습"
   ]
  },
  {
   "cell_type": "code",
   "execution_count": 1,
   "metadata": {},
   "outputs": [],
   "source": [
    "# 변수설정\n",
    "number = 5\n",
    "limit = 3\n",
    "power = 2"
   ]
  },
  {
   "cell_type": "code",
   "execution_count": 8,
   "metadata": {},
   "outputs": [],
   "source": [
    "# 약수 개수 구하기\n",
    "def count_ys(no):\n",
    "    count = 1\n",
    "    for i in range(1, no):\n",
    "        if no % i == 0:\n",
    "            count+=1\n",
    "        \n",
    "    return count"
   ]
  },
  {
   "cell_type": "code",
   "execution_count": 9,
   "metadata": {},
   "outputs": [
    {
     "data": {
      "text/plain": [
       "1"
      ]
     },
     "execution_count": 9,
     "metadata": {},
     "output_type": "execute_result"
    }
   ],
   "source": [
    "count_ys(1)"
   ]
  },
  {
   "cell_type": "code",
   "execution_count": 10,
   "metadata": {},
   "outputs": [
    {
     "data": {
      "text/plain": [
       "10"
      ]
     },
     "execution_count": 10,
     "metadata": {},
     "output_type": "execute_result"
    }
   ],
   "source": [
    "Fe_amount = 0\n",
    "\n",
    "for knight in range(1, number+1):\n",
    "    knight_ys = count_ys(knight)\n",
    "    \n",
    "    if knight_ys > limit:\n",
    "        Fe_amount += power\n",
    "    else:\n",
    "        Fe_amount += knight_ys\n",
    "        \n",
    "Fe_amount"
   ]
  }
 ],
 "metadata": {
  "kernelspec": {
   "display_name": "Python 3",
   "language": "python",
   "name": "python3"
  },
  "language_info": {
   "codemirror_mode": {
    "name": "ipython",
    "version": 3
   },
   "file_extension": ".py",
   "mimetype": "text/x-python",
   "name": "python",
   "nbconvert_exporter": "python",
   "pygments_lexer": "ipython3",
   "version": "3.8.5"
  }
 },
 "nbformat": 4,
 "nbformat_minor": 2
}
