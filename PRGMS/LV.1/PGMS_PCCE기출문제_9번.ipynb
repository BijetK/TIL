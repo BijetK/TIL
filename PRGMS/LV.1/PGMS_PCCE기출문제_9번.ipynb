{
 "cells": [
  {
   "cell_type": "markdown",
   "metadata": {},
   "source": [
    "# [PCCE 기출문제] 9번\n",
    "\n",
    "[링크](https://school.programmers.co.kr/learn/courses/30/lessons/250125)"
   ]
  },
  {
   "cell_type": "markdown",
   "metadata": {},
   "source": [
    "## 문제설명\n",
    "\n",
    "각 칸마다 색이 칠해진 2차원 격자 보드판이 있습니다. 그중 한 칸을 골랐을 때, 위, 아래, 왼쪽, 오른쪽 칸 중 같은 색깔로 칠해진 칸의 개수를 구하려고 합니다.\n",
    "\n",
    "보드의 각 칸에 칠해진 색깔 이름이 담긴 이차원 문자열 리스트 `board`와 고른 칸의 위치를 나타내는 두 정수 `h`, `w`가 주어질 때 `board[h][w]`와 이웃한 칸들 중 같은 색으로 칠해져 있는 칸의 개수를 return 하도록 solution 함수를 완성해 주세요.\n",
    "\n",
    "이웃한 칸들 중 몇 개의 칸이 같은 색으로 색칠되어 있는지 확인하는 과정은 다음과 같습니다.\n",
    "\n",
    "```\n",
    "1. 정수를 저장할 변수 n을 만들고 board의 길이를 저장합니다.\n",
    "2. 같은 색으로 색칠된 칸의 개수를 저장할 변수 count를 만들고 0을 저장합니다.\n",
    "3. h와 w의 변화량을 저장할 정수 리스트 dh, dw를 만들고 각각 [0, 1, -1, 0], [1, 0, 0, -1]을 저장합니다.\n",
    "4. 반복문을 이용해 i 값을 0부터 3까지 1 씩 증가시키며 아래 작업을 반복합니다.\n",
    "    4-1. 체크할 칸의 h, w 좌표를 나타내는 변수 h_check, w_check를 만들고 각각 h + dh[i], w + dw[i]를 저장합니다.\n",
    "    4-2. h_check가 0 이상 n 미만이고 w_check가 0 이상 n 미만이라면 다음을 수행합니다.\n",
    "        4-2-a. board[h][w]와 board[h_check][w_check]의 값이 동일하다면 count의 값을 1 증가시킵니다.\n",
    "5. count의 값을 return합니다.\n",
    "```\n",
    "\n",
    "- 위의 의사코드와 작동방식이 다른 코드를 작성해도 상관없습니다."
   ]
  },
  {
   "cell_type": "markdown",
   "metadata": {},
   "source": [
    "## 제한사항\n",
    "\n",
    "- 1 ≤  `board`의 길이 ≤ 7\n",
    "\n",
    "  - `board`의 길이와 `board[n]`의 길이는 동일합니다.\n",
    "\n",
    "- 0 ≤ `h`, `w` < `board`의 길이\n",
    "\n",
    "- 1 ≤ `board[h][w]`의 길이 ≤ 10\n",
    "\n",
    "  - `board[h][w]`는 영어 소문자로만 이루어져 있습니다."
   ]
  },
  {
   "cell_type": "markdown",
   "metadata": {},
   "source": [
    "## 입출력 예\n",
    "\n",
    "| board                                                        | h    | w    | result |\n",
    "| ------------------------------------------------------------ | ---- | ---- | ------ |\n",
    "| [[\"blue\", \"red\", \"orange\", \"red\"], [\"red\", \"red\", \"blue\", \"orange\"], [\"blue\", \"orange\", \"red\", \"red\"], [\"orange\", \"orange\", \"red\", \"blue\"]] | 1    | 1    | 2      |\n",
    "| [[\"yellow\", \"green\", \"blue\"], [\"blue\", \"green\", \"yellow\"], [\"yellow\", \"blue\", \"blue\"]] | 0    | 1    | 1      |"
   ]
  },
  {
   "cell_type": "markdown",
   "metadata": {},
   "source": [
    "## 입출력 예 설명\n",
    "\n",
    "입출력 예 #1\n",
    "\n",
    "- 주어진 보드를 나타내면 아래 그림과 같고, `board[1][1]`의 인접한 칸들은 화살표가 가리키는 칸들입니다. 따라서 `board[1][1]` 주변의 \"red\" 칸은 총 2개입니다.\n",
    "\n",
    "![9-1.jpg](https://grepp-programmers.s3.ap-northeast-2.amazonaws.com/files/production/cb8c0433-a307-4184-b224-6185c87dfc07/9-1.jpg)\n",
    "\n",
    "입출력 예 #2\n",
    "\n",
    "- 주어진 보드를 나타내면 아래 그림과 같고, `board[0][1]`의 인접한 칸들은 화살표가 가리키는 칸들입니다. 따라서 `board[0][1]` 주변의 \"green\"칸은 총 1개입니다.\n",
    "\n",
    "![9-2.jpg](https://grepp-programmers.s3.ap-northeast-2.amazonaws.com/files/production/a9fdec91-df64-4240-82b3-c63d9555e689/9-2.jpg)"
   ]
  },
  {
   "cell_type": "markdown",
   "metadata": {},
   "source": [
    "## 추가사항\n",
    "- cpp를 응시하는 경우 리스트는 배열과 동일한 의미이니 풀이에 참고해주세요.\n",
    "  - ex) 번호가 담긴 정수 **리스트** `numbers`가 주어집니다. => 번호가 담긴 정수 **배열** `numbers`가 주어집니다.\n",
    "- java를 응시하는 경우 리스트는 배열, 함수는 메소드와 동일한 의미이니 풀이에 참고해주세요.\n",
    "  - ex) solution **함수**가 올바르게 작동하도록 한 줄을 수정해 주세요. => solution **메소드**가 올바르게 작동하도록 한 줄을 수정해 주세요."
   ]
  },
  {
   "cell_type": "markdown",
   "metadata": {},
   "source": [
    "## 정답"
   ]
  },
  {
   "cell_type": "code",
   "execution_count": 17,
   "metadata": {},
   "outputs": [],
   "source": [
    "def solution(board, h, w):\n",
    "    # 보드 길이 \n",
    "    board_length = len(board)\n",
    "    # 선택받은 색\n",
    "    selected_color = board[h][w]\n",
    "\n",
    "    temp_list = [[1,0],[-1,0],[0,1],[0,-1]]\n",
    "    answer = 0\n",
    "    for temp in temp_list:\n",
    "        h_temp = h + temp[0]\n",
    "        w_temp = w + temp[1]\n",
    "\n",
    "        if h_temp < 0 or h_temp >= board_length or w_temp < 0 or w_temp >= board_length:\n",
    "            continue\n",
    "        else:\n",
    "            temp_color = board[h_temp][w_temp]\n",
    "        \n",
    "        if temp_color == selected_color:\n",
    "            answer += 1\n",
    "            \n",
    "    return answer"
   ]
  },
  {
   "cell_type": "markdown",
   "metadata": {},
   "source": [
    "## 연습"
   ]
  },
  {
   "cell_type": "code",
   "execution_count": 14,
   "metadata": {},
   "outputs": [],
   "source": [
    "# 변수칸\n",
    "board = [[\"blue\", \"red\", \"orange\", \"red\"], [\"red\", \"red\", \"blue\", \"orange\"], [\"blue\", \"orange\", \"red\", \"red\"], [\"orange\", \"orange\", \"red\", \"blue\"]]\n",
    "h = 1\n",
    "w = 2"
   ]
  },
  {
   "cell_type": "code",
   "execution_count": 4,
   "metadata": {},
   "outputs": [
    {
     "data": {
      "text/plain": [
       "4"
      ]
     },
     "execution_count": 4,
     "metadata": {},
     "output_type": "execute_result"
    }
   ],
   "source": [
    "# 보드 길이 \n",
    "board_length = len(board)\n",
    "board_length"
   ]
  },
  {
   "cell_type": "code",
   "execution_count": 15,
   "metadata": {},
   "outputs": [
    {
     "data": {
      "text/plain": [
       "'blue'"
      ]
     },
     "execution_count": 15,
     "metadata": {},
     "output_type": "execute_result"
    }
   ],
   "source": [
    "selected_color = board[h][w]\n",
    "selected_color"
   ]
  },
  {
   "cell_type": "code",
   "execution_count": 16,
   "metadata": {},
   "outputs": [
    {
     "name": "stdout",
     "output_type": "stream",
     "text": [
      "red\n",
      "orange\n",
      "orange\n",
      "red\n"
     ]
    },
    {
     "data": {
      "text/plain": [
       "0"
      ]
     },
     "execution_count": 16,
     "metadata": {},
     "output_type": "execute_result"
    }
   ],
   "source": [
    "temp_list = [[1,0],[-1,0],[0,1],[0,-1]]\n",
    "temp_color_list = list()\n",
    "answer = 0\n",
    "for temp in temp_list:\n",
    "    h_temp = h + temp[0]\n",
    "    w_temp = w + temp[1]\n",
    "\n",
    "    if h_temp < 0 or h_temp >= board_length or w_temp < 0 or w_temp >= board_length:\n",
    "        print(\"A\")\n",
    "        continue\n",
    "    else:\n",
    "        temp_color = board[h_temp][w_temp]\n",
    "    \n",
    "    print(temp_color)\n",
    "    # temp_color_list.append(temp_color)\n",
    "    if temp_color == selected_color:\n",
    "        answer += 1\n",
    "        \n",
    "answer"
   ]
  }
 ],
 "metadata": {
  "kernelspec": {
   "display_name": "Python 3",
   "language": "python",
   "name": "python3"
  },
  "language_info": {
   "codemirror_mode": {
    "name": "ipython",
    "version": 3
   },
   "file_extension": ".py",
   "mimetype": "text/x-python",
   "name": "python",
   "nbconvert_exporter": "python",
   "pygments_lexer": "ipython3",
   "version": "3.8.5"
  }
 },
 "nbformat": 4,
 "nbformat_minor": 2
}
