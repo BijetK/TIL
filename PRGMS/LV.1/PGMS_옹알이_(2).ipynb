{
 "cells": [
  {
   "cell_type": "markdown",
   "metadata": {},
   "source": [
    "# 옹알이\n",
    "\n",
    "난이도 : Lv.1\n",
    "\n",
    "[링크](https://school.programmers.co.kr/learn/courses/30/lessons/133499)"
   ]
  },
  {
   "cell_type": "markdown",
   "metadata": {},
   "source": [
    "## 문제 설명\n",
    "\n",
    "머쓱이는 태어난 지 11개월 된 조카를 돌보고 있습니다. 조카는 아직 \"aya\", \"ye\", \"woo\", \"ma\" 네 가지 발음과 네 가지 발음을 조합해서 만들 수 있는 발음밖에 하지 못하고 연속해서 같은 발음을 하는 것을 어려워합니다. 문자열 배열 `babbling`이 매개변수로 주어질 때, 머쓱이의 조카가 발음할 수 있는 단어의 개수를 return하도록 solution 함수를 완성해주세요."
   ]
  },
  {
   "cell_type": "markdown",
   "metadata": {},
   "source": [
    "## 제한사항\n",
    "\n",
    "- 1 ≤ `babbling`의 길이 ≤ 100\n",
    "- 1 ≤ `babbling[i]`의 길이 ≤ 30\n",
    "- 문자열은 알파벳 소문자로만 이루어져 있습니다."
   ]
  },
  {
   "cell_type": "markdown",
   "metadata": {},
   "source": [
    "## 입출력 예\n",
    "\n",
    "| babbling                                       | result |\n",
    "| ---------------------------------------------- | ------ |\n",
    "| [\"aya\", \"yee\", \"u\", \"maa\"]                     | 1      |\n",
    "| [\"ayaye\", \"uuu\", \"yeye\", \"yemawoo\", \"ayaayaa\"] | 2      |"
   ]
  },
  {
   "cell_type": "markdown",
   "metadata": {},
   "source": [
    "## 입출력 예 설명\n",
    "\n",
    "입출력 예 #1\n",
    "\n",
    "- [\"aya\", \"yee\", \"u\", \"maa\"]에서 발음할 수 있는 것은 \"aya\"뿐입니다. 따라서 1을 return합니다.\n",
    "\n",
    "입출력 예 #2\n",
    "\n",
    "- [\"ayaye\", \"uuuma\", \"yeye\", \"yemawoo\", \"ayaayaa\"]에서 발음할 수 있는 것은 \"aya\" + \"ye\" = \"ayaye\", \"ye\" + \"ma\" + \"woo\" = \"yemawoo\"로 2개입니다. \"yeye\"는 같은 발음이 연속되므로 발음할 수 없습니다. 따라서 2를 return합니다."
   ]
  },
  {
   "cell_type": "markdown",
   "metadata": {},
   "source": [
    "## 유의사항\n",
    "\n",
    "- 네 가지를 붙여 만들 수 있는 발음 이외에는 어떤 발음도 할 수 없는 것으로 규정합니다. 예를 들어 \"woowo\"는 \"woo\"는 발음할 수 있지만 \"wo\"를 발음할 수 없기 때문에 할 수 없는 발음입니다."
   ]
  },
  {
   "cell_type": "markdown",
   "metadata": {},
   "source": [
    "## 정답"
   ]
  },
  {
   "cell_type": "code",
   "execution_count": null,
   "metadata": {},
   "outputs": [],
   "source": [
    "def solution(babbling):\n",
    "    pronounce = [\"aya\", \"ye\", \"woo\", \"ma\"]\n",
    "    count = 0\n",
    "    \n",
    "    for babble in babbling:\n",
    "        temp_str = \"\"\n",
    "        check_str = \"\"\n",
    "        for alpha in babble:\n",
    "            temp_str += alpha\n",
    "\n",
    "            if temp_str in pronounce:\n",
    "                len_temp = len(temp_str)\n",
    "                if check_str[-len_temp:] == temp_str:\n",
    "                    break\n",
    "                check_str += temp_str\n",
    "                temp_str = \"\"\n",
    "        if check_str == babble:\n",
    "            count += 1\n",
    "\n",
    "    return count"
   ]
  },
  {
   "cell_type": "markdown",
   "metadata": {},
   "source": [
    "## 연습"
   ]
  },
  {
   "cell_type": "code",
   "execution_count": 1,
   "metadata": {},
   "outputs": [],
   "source": [
    "## 변수 설정\n",
    "babbling = [\"ayaye\", \"uuu\", \"yeye\", \"yemawoo\", \"ayaayaa\"]"
   ]
  },
  {
   "cell_type": "code",
   "execution_count": 10,
   "metadata": {},
   "outputs": [
    {
     "name": "stdout",
     "output_type": "stream",
     "text": [
      "A aya\n",
      "A ye\n",
      "C\n",
      "A ye\n",
      "D\n",
      "A ye\n",
      "A ma\n",
      "A woo\n",
      "C\n",
      "A aya\n",
      "D\n"
     ]
    },
    {
     "data": {
      "text/plain": [
       "2"
      ]
     },
     "execution_count": 10,
     "metadata": {},
     "output_type": "execute_result"
    }
   ],
   "source": [
    "## 발음할수 있는 말들\n",
    "pronounce = [\"aya\", \"ye\", \"woo\", \"ma\"]\n",
    "count = 0\n",
    "for babble in babbling:\n",
    "    temp_str = \"\"\n",
    "    check_str = \"\"\n",
    "    for alpha in babble:\n",
    "        temp_str += alpha\n",
    "        \n",
    "        if temp_str in pronounce:\n",
    "            len_temp = len(temp_str)\n",
    "            if check_str[-len_temp:] == temp_str:\n",
    "                print(\"D\")\n",
    "                break\n",
    "            check_str += temp_str\n",
    "            print(\"A\", temp_str)\n",
    "            temp_str = \"\"\n",
    "    if check_str == babble:\n",
    "        count += 1\n",
    "        print(\"C\")\n",
    "        \n",
    "count"
   ]
  }
 ],
 "metadata": {
  "kernelspec": {
   "display_name": "Python 3",
   "language": "python",
   "name": "python3"
  },
  "language_info": {
   "codemirror_mode": {
    "name": "ipython",
    "version": 3
   },
   "file_extension": ".py",
   "mimetype": "text/x-python",
   "name": "python",
   "nbconvert_exporter": "python",
   "pygments_lexer": "ipython3",
   "version": "3.8.5"
  }
 },
 "nbformat": 4,
 "nbformat_minor": 2
}
