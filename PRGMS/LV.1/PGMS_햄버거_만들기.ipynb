{
 "cells": [
  {
   "cell_type": "markdown",
   "metadata": {},
   "source": [
    "# 푸드 파이트 대회\n",
    "\n",
    "난이도 : Lv.1\n",
    "\n",
    "[링크](https://school.programmers.co.kr/learn/courses/30/lessons/134240)"
   ]
  },
  {
   "cell_type": "markdown",
   "metadata": {},
   "source": [
    "## 문제 설명\n",
    "\n",
    "햄버거 가게에서 일을 하는 상수는 햄버거를 포장하는 일을 합니다. 함께 일을 하는 다른 직원들이 햄버거에 들어갈 재료를 조리해 주면 조리된 순서대로 상수의 앞에 아래서부터 위로 쌓이게 되고, 상수는 순서에 맞게 쌓여서 완성된 햄버거를 따로 옮겨 포장을 하게 됩니다. 상수가 일하는 가게는 정해진 순서(아래서부터, 빵 – 야채 – 고기 - 빵)로 쌓인 햄버거만 포장을 합니다. 상수는 손이 굉장히 빠르기 때문에 상수가 포장하는 동안 속 재료가 추가적으로 들어오는 일은 없으며, 재료의 높이는 무시하여 재료가 높이 쌓여서 일이 힘들어지는 경우는 없습니다.\n",
    "\n",
    "예를 들어, 상수의 앞에 쌓이는 재료의 순서가 [야채, 빵, 빵, 야채, 고기, 빵, 야채, 고기, 빵]일 때, 상수는 여섯 번째 재료가 쌓였을 때, 세 번째 재료부터 여섯 번째 재료를 이용하여 햄버거를 포장하고, 아홉 번째 재료가 쌓였을 때, 두 번째 재료와 일곱 번째 재료부터 아홉 번째 재료를 이용하여 햄버거를 포장합니다. 즉, 2개의 햄버거를 포장하게 됩니다.\n",
    "\n",
    "상수에게 전해지는 재료의 정보를 나타내는 정수 배열 `ingredient`가 주어졌을 때, 상수가 포장하는 햄버거의 개수를 return 하도록 solution 함수를 완성하시오."
   ]
  },
  {
   "cell_type": "markdown",
   "metadata": {},
   "source": [
    "## 제한사항\n",
    "\n",
    "- 1 ≤ `ingredient`의 길이 ≤ 1,000,000\n",
    "- `ingredient`의 원소는 1, 2, 3 중 하나의 값이며, 순서대로 빵, 야채, 고기를 의미합니다."
   ]
  },
  {
   "cell_type": "markdown",
   "metadata": {},
   "source": [
    "## 입출력 예\n",
    "\n",
    "| ingredient                  | result |\n",
    "| --------------------------- | ------ |\n",
    "| [2, 1, 1, 2, 3, 1, 2, 3, 1] | 2      |\n",
    "| [1, 3, 2, 1, 2, 1, 3, 1, 2] | 0      |"
   ]
  },
  {
   "cell_type": "markdown",
   "metadata": {},
   "source": [
    "## 입출력 예 설명\n",
    "\n",
    "**입출력 예 #1**\n",
    "\n",
    "- 문제 예시와 같습니다.\n",
    "\n",
    "**입출력 예 #2**\n",
    "\n",
    "- 상수가 포장할 수 있는 햄버거가 없습니다."
   ]
  },
  {
   "cell_type": "markdown",
   "metadata": {},
   "source": [
    "## 정답"
   ]
  },
  {
   "cell_type": "code",
   "execution_count": 35,
   "metadata": {},
   "outputs": [],
   "source": [
    "def solution(ingredient):\n",
    "    bread_count = 0\n",
    "    \n",
    "    ingredient = ''.join(map(str, ingredient))\n",
    "    while True:\n",
    "        if \"1231\" in ingredient:\n",
    "            bread_count += 1\n",
    "            bread_index = ingredient.index(\"1231\")\n",
    "            ingredient = ingredient[:bread_index] + ingredient[bread_index+4:]\n",
    "        else:\n",
    "            return bread_count"
   ]
  },
  {
   "cell_type": "code",
   "execution_count": 37,
   "metadata": {},
   "outputs": [],
   "source": [
    "def solution(ingredient):\n",
    "    bread_count = 0\n",
    "    ingredient = ''.join(map(str, ingredient))\n",
    "    target_sequence = \"1231\"\n",
    "    target_length = len(target_sequence)\n",
    "    \n",
    "    while True:\n",
    "        try:\n",
    "            bread_index = ingredient.index(target_sequence)\n",
    "            bread_count += 1\n",
    "            ingredient = ingredient[:bread_index] + ingredient[bread_index + target_length:]\n",
    "        except ValueError:\n",
    "            return bread_count"
   ]
  },
  {
   "cell_type": "code",
   "execution_count": 39,
   "metadata": {},
   "outputs": [],
   "source": [
    "def solution(ingredient):\n",
    "    burger_count = 0\n",
    "    pattern = [1, 2, 3, 1]\n",
    "    stack = []\n",
    "\n",
    "    for i in range(len(ingredient)):\n",
    "        stack.append(ingredient[i])\n",
    "\n",
    "        # 스택의 높이가 패턴의 길이보다 크거나 같으면 패턴 검사\n",
    "        if len(stack) >= len(pattern):\n",
    "            if stack[-len(pattern):] == pattern:\n",
    "                burger_count += 1\n",
    "                # 패턴이 일치하면 스택에서 패턴에 해당하는 부분 제거\n",
    "                stack = stack[:-len(pattern)]\n",
    "\n",
    "    return burger_count"
   ]
  },
  {
   "cell_type": "code",
   "execution_count": 40,
   "metadata": {},
   "outputs": [
    {
     "data": {
      "text/plain": [
       "0"
      ]
     },
     "execution_count": 40,
     "metadata": {},
     "output_type": "execute_result"
    }
   ],
   "source": [
    "ingredient = [1, 3, 2, 1, 2, 1, 3, 1, 2]\n",
    "# ''.join(map(str, ingredient))\n",
    "solution(ingredient)"
   ]
  },
  {
   "cell_type": "markdown",
   "metadata": {},
   "source": [
    "## 연습"
   ]
  },
  {
   "cell_type": "code",
   "execution_count": 22,
   "metadata": {},
   "outputs": [],
   "source": [
    "# 변수 설정\n",
    "ingredient = [2, 1, 1, 2, 3, 1, 2, 3, 1]"
   ]
  },
  {
   "cell_type": "code",
   "execution_count": 23,
   "metadata": {},
   "outputs": [
    {
     "data": {
      "text/plain": [
       "'211231231'"
      ]
     },
     "execution_count": 23,
     "metadata": {},
     "output_type": "execute_result"
    }
   ],
   "source": [
    "ingredient = str(ingredient).replace(\"[\",\"\").replace(\", \",\"\").replace(\"]\",\"\")\n",
    "ingredient"
   ]
  },
  {
   "cell_type": "code",
   "execution_count": 24,
   "metadata": {},
   "outputs": [
    {
     "data": {
      "text/plain": [
       "2"
      ]
     },
     "execution_count": 24,
     "metadata": {},
     "output_type": "execute_result"
    }
   ],
   "source": [
    "bread_count = 0\n",
    "while True:\n",
    "    if \"1231\" in ingredient:\n",
    "        bread_count += 1\n",
    "        bread_index = ingredient.index(\"1231\")\n",
    "        ingredient = ingredient[:bread_index] + ingredient[bread_index+4:]\n",
    "    else:\n",
    "        break\n",
    "    \n",
    "bread_count"
   ]
  },
  {
   "cell_type": "code",
   "execution_count": 16,
   "metadata": {},
   "outputs": [],
   "source": [
    "bread_index = ingredient.index(\"1231\")"
   ]
  },
  {
   "cell_type": "code",
   "execution_count": 17,
   "metadata": {},
   "outputs": [
    {
     "data": {
      "text/plain": [
       "'21231'"
      ]
     },
     "execution_count": 17,
     "metadata": {},
     "output_type": "execute_result"
    }
   ],
   "source": [
    "ingredient = ingredient[:bread_index] + ingredient[bread_index+4:]\n",
    "ingredient"
   ]
  },
  {
   "cell_type": "code",
   "execution_count": 14,
   "metadata": {},
   "outputs": [
    {
     "data": {
      "text/plain": [
       "'231'"
      ]
     },
     "execution_count": 14,
     "metadata": {},
     "output_type": "execute_result"
    }
   ],
   "source": [
    "ingredient[2+4:]"
   ]
  }
 ],
 "metadata": {
  "kernelspec": {
   "display_name": "Python 3",
   "language": "python",
   "name": "python3"
  },
  "language_info": {
   "codemirror_mode": {
    "name": "ipython",
    "version": 3
   },
   "file_extension": ".py",
   "mimetype": "text/x-python",
   "name": "python",
   "nbconvert_exporter": "python",
   "pygments_lexer": "ipython3",
   "version": "3.8.5"
  }
 },
 "nbformat": 4,
 "nbformat_minor": 2
}
