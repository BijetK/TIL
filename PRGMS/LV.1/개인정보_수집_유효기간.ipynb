{
 "cells": [
  {
   "cell_type": "markdown",
   "metadata": {},
   "source": [
    "# 개인정보 수집 유효기간\n",
    "\n",
    "난이도 : Lv.1\n",
    "\n",
    "[링크](https://school.programmers.co.kr/learn/courses/30/lessons/150370)"
   ]
  },
  {
   "cell_type": "markdown",
   "metadata": {},
   "source": [
    "## 문제설명\n",
    "\n",
    "고객의 약관 동의를 얻어서 수집된 1~`n`번으로 분류되는 개인정보 `n`개가 있습니다. 약관 종류는 여러 가지 있으며 각 약관마다 개인정보 보관 유효기간이 정해져 있습니다. 당신은 각 개인정보가 어떤 약관으로 수집됐는지 알고 있습니다. 수집된 개인정보는 유효기간 전까지만 보관 가능하며, 유효기간이 지났다면 반드시 파기해야 합니다.\n",
    "\n",
    "예를 들어, A라는 약관의 유효기간이 12 달이고, 2021년 1월 5일에 수집된 개인정보가 A약관으로 수집되었다면 해당 개인정보는 2022년 1월 4일까지 보관 가능하며 2022년 1월 5일부터 파기해야 할 개인정보입니다.\n",
    "당신은 오늘 날짜로 파기해야 할 개인정보 번호들을 구하려 합니다.\n",
    "\n",
    "**모든 달은 28일까지 있다고 가정합니다.**\n",
    "\n",
    "다음은 오늘 날짜가 `2022.05.19`일 때의 예시입니다.\n",
    "\n",
    "| 약관 종류 | 유효기간 |\n",
    "| --------- | -------- |\n",
    "| A         | 6 달     |\n",
    "| B         | 12 달    |\n",
    "| C         | 3 달     |\n",
    "\n",
    "| 번호 | 개인정보 수집 일자 | 약관 종류 |\n",
    "| ---- | ------------------ | --------- |\n",
    "| 1    | `2021.05.02`       | A         |\n",
    "| 2    | `2021.07.01`       | B         |\n",
    "| 3    | `2022.02.19`       | C         |\n",
    "| 4    | `2022.02.20`       | C         |\n",
    "\n",
    "- 첫 번째 개인정보는 A약관에 의해 2021년 11월 1일까지 보관 가능하며, 유효기간이 지났으므로 파기해야 할 개인정보입니다.\n",
    "- 두 번째 개인정보는 B약관에 의해 2022년 6월 28일까지 보관 가능하며, 유효기간이 지나지 않았으므로 아직 보관 가능합니다.\n",
    "- 세 번째 개인정보는 C약관에 의해 2022년 5월 18일까지 보관 가능하며, 유효기간이 지났으므로 파기해야 할 개인정보입니다.\n",
    "- 네 번째 개인정보는 C약관에 의해 2022년 5월 19일까지 보관 가능하며, 유효기간이 지나지 않았으므로 아직 보관 가능합니다.\n",
    "\n",
    "따라서 파기해야 할 개인정보 번호는 [1, 3]입니다.\n",
    "\n",
    "오늘 날짜를 의미하는 문자열 `today`, 약관의 유효기간을 담은 1차원 문자열 배열 `terms`와 수집된 개인정보의 정보를 담은 1차원 문자열 배열 `privacies`가 매개변수로 주어집니다. 이때 파기해야 할 개인정보의 번호를 오름차순으로 1차원 정수 배열에 담아 return 하도록 solution 함수를 완성해 주세요."
   ]
  },
  {
   "cell_type": "markdown",
   "metadata": {},
   "source": [
    "## 제한사항\n",
    "\n",
    "- `today`는 \"`YYYY`.`MM`.`DD`\" 형태로 오늘 날짜를 나타냅니다.\n",
    "\n",
    "- 1 ≤ `terms`의 길이 ≤ 20\n",
    "\n",
    "  - `terms`의 원소는 \"`약관 종류` `유효기간`\" 형태의 `약관 종류`와 `유효기간`을 공백 하나로 구분한 문자열입니다.\n",
    "  - `약관 종류`는 `A`~`Z`중 알파벳 대문자 하나이며, `terms` 배열에서 `약관 종류`는 중복되지 않습니다.\n",
    "  - `유효기간`은 개인정보를 보관할 수 있는 달 수를 나타내는 정수이며, 1 이상 100 이하입니다.\n",
    "\n",
    "- 1 ≤ `privacies` 의 길이 ≤ 100\n",
    "\n",
    "  - `privacies[i]`는 `i+1`번 개인정보의 수집 일자와 약관 종류를 나타냅니다.\n",
    "  - `privacies`의 원소는 \"`날짜` `약관 종류`\" 형태의 `날짜`와 `약관 종류`를 공백 하나로 구분한 문자열입니다.\n",
    "  - `날짜`는 \"`YYYY`.`MM`.`DD`\" 형태의 개인정보가 수집된 날짜를 나타내며, `today` 이전의 날짜만 주어집니다.\n",
    "  - `privacies`의 `약관 종류`는 항상 `terms`에 나타난 `약관 종류`만 주어집니다.\n",
    "\n",
    "- `today`와 `privacies`에 등장하는 `날짜`의 `YYYY`는 연도, `MM`은 월, `DD`는 일을 나타내며 점(`.`) 하나로 구분되어 있습니다.\n",
    "\n",
    "  - 2000 ≤ `YYYY` ≤ 2022\n",
    "  - 1 ≤ `MM` ≤ 12\n",
    "  - `MM`이 한 자릿수인 경우 앞에 0이 붙습니다.\n",
    "  - 1 ≤ `DD` ≤ 28\n",
    "  - `DD`가 한 자릿수인 경우 앞에 0이 붙습니다.\n",
    "\n",
    "- 파기해야 할 개인정보가 하나 이상 존재하는 입력만 주어집니다."
   ]
  },
  {
   "cell_type": "markdown",
   "metadata": {},
   "source": [
    "## 입출력 예\n",
    "\n",
    "| today          | terms                    | privacies                                                    | result    |\n",
    "| -------------- | ------------------------ | ------------------------------------------------------------ | --------- |\n",
    "| `\"2022.05.19\"` | `[\"A 6\", \"B 12\", \"C 3\"]` | `[\"2021.05.02 A\", \"2021.07.01 B\", \"2022.02.19 C\", \"2022.02.20 C\"]` | [1, 3]    |\n",
    "| `\"2020.01.01\"` | `[\"Z 3\", \"D 5\"]`         | `[\"2019.01.01 D\", \"2019.11.15 Z\", \"2019.08.02 D\", \"2019.07.01 D\", \"2018.12.28 Z\"]` | [1, 4, 5] |"
   ]
  },
  {
   "cell_type": "markdown",
   "metadata": {},
   "source": [
    "## 입출력 예 설명\n",
    "\n",
    "**입출력 예 #1**\n",
    "\n",
    "- 문제 예시와 같습니다.\n",
    "\n",
    "**입출력 예 #2**\n",
    "\n",
    "| 약관 종류 | 유효기간 |\n",
    "| --------- | -------- |\n",
    "| Z         | 3 달     |\n",
    "| D         | 5 달     |\n",
    "\n",
    "| 번호 | 개인정보 수집 일자 | 약관 종류 |\n",
    "| ---- | ------------------ | --------- |\n",
    "| 1    | `2019.01.01`       | D         |\n",
    "| 2    | `2019.11.15`       | Z         |\n",
    "| 3    | `2019.08.02`       | D         |\n",
    "| 4    | `2019.07.01`       | D         |\n",
    "| 5    | `2018.12.28`       | Z         |\n",
    "\n",
    "오늘 날짜는 2020년 1월 1일입니다.\n",
    "\n",
    "- 첫 번째 개인정보는 D약관에 의해 2019년 5월 28일까지 보관 가능하며, 유효기간이 지났으므로 파기해야 할 개인정보입니다.\n",
    "- 두 번째 개인정보는 Z약관에 의해 2020년 2월 14일까지 보관 가능하며, 유효기간이 지나지 않았으므로 아직 보관 가능합니다.\n",
    "- 세 번째 개인정보는 D약관에 의해 2020년 1월 1일까지 보관 가능하며, 유효기간이 지나지 않았으므로 아직 보관 가능합니다.\n",
    "- 네 번째 개인정보는 D약관에 의해 2019년 11월 28일까지 보관 가능하며, 유효기간이 지났으므로 파기해야 할 개인정보입니다.\n",
    "- 다섯 번째 개인정보는 Z약관에 의해 2019년 3월 27일까지 보관 가능하며, 유효기간이 지났으므로 파기해야 할 개인정보입니다."
   ]
  },
  {
   "cell_type": "markdown",
   "metadata": {},
   "source": [
    "## 정답"
   ]
  },
  {
   "cell_type": "code",
   "execution_count": 36,
   "metadata": {},
   "outputs": [],
   "source": [
    "def solution(today, terms, privacies):\n",
    "    \n",
    "    from datetime import datetime\n",
    "    answer = []\n",
    "    \n",
    "    # 약관 딕셔너리화\n",
    "    term_dict = dict()\n",
    "    for term in terms:\n",
    "        term_key = term.split(\" \")[0]\n",
    "        term_value = term.split(\" \")[1]\n",
    "        term_dict[term_key] = term_value\n",
    "        \n",
    "    # 사용자 딕셔너리화\n",
    "    privacy_dict = dict()\n",
    "    for i, privacy in enumerate(privacies):\n",
    "        sub_dict = dict()\n",
    "        privacy_date = privacy.split(\" \")[0]\n",
    "        privacy_term = privacy.split(\" \")[1]\n",
    "        sub_dict[\"prv_date\"] = privacy_date\n",
    "        sub_dict[\"prv_term\"] = privacy_term\n",
    "        privacy_dict[i] = sub_dict\n",
    "        \n",
    "    for prv_i, sub_dict in privacy_dict.items():\n",
    "        prv_date = sub_dict[\"prv_date\"]\n",
    "        prv_term = sub_dict[\"prv_term\"]\n",
    "        \n",
    "        prv_year = int(prv_date.split(\".\")[0])\n",
    "        prv_month = int(prv_date.split(\".\")[1])\n",
    "        prv_day = int(prv_date.split(\".\")[2])\n",
    "        \n",
    "        term_month = int(term_dict[prv_term])\n",
    "        \n",
    "        # 년도에 더해줄 것\n",
    "        add_year = int(term_month // 12)\n",
    "        # 달에 더해줄 것\n",
    "        add_month = int(term_month % 12)\n",
    "        \n",
    "        # 날짜는 하루 뺌\n",
    "        need_day = prv_day - 1\n",
    "        \n",
    "        # 0일일 경우 한달 전으러\n",
    "        if need_day == 0:\n",
    "            add_month -= 1\n",
    "            need_day = 28\n",
    "            \n",
    "        # 달 더해줌\n",
    "        need_month = prv_month + add_month\n",
    "        \n",
    "        # 12월 넘어갈 경우 처리\n",
    "        if need_month >= 13:\n",
    "            add_year += 1\n",
    "            need_month -= 12\n",
    "            \n",
    "        # 년 더해줌\n",
    "        need_year = prv_year + add_year\n",
    "        \n",
    "        today_date = datetime.strptime(today, \"%Y.%m.%d\")\n",
    "        need_date = datetime.strptime(f\"{need_year}.{need_month}.{need_day}\", \"%Y.%m.%d\")\n",
    "        \n",
    "        if today_date > need_date:\n",
    "            answer.append(int(prv_i) + 1)\n",
    "            \n",
    "    return answer"
   ]
  },
  {
   "cell_type": "code",
   "execution_count": 37,
   "metadata": {},
   "outputs": [
    {
     "data": {
      "text/plain": [
       "[1, 4, 5]"
      ]
     },
     "execution_count": 37,
     "metadata": {},
     "output_type": "execute_result"
    }
   ],
   "source": [
    "solution(today, terms, privacies)"
   ]
  },
  {
   "cell_type": "markdown",
   "metadata": {},
   "source": [
    "## 연습"
   ]
  },
  {
   "cell_type": "code",
   "execution_count": 31,
   "metadata": {},
   "outputs": [],
   "source": [
    "## 변수 설정\n",
    "today = \"2020.01.01\"\n",
    "terms = [\"Z 3\", \"D 5\"]\n",
    "privacies = [\"2019.01.01 D\", \"2019.11.15 Z\", \"2019.08.02 D\", \"2019.07.01 D\", \"2018.12.28 Z\"]"
   ]
  },
  {
   "cell_type": "code",
   "execution_count": 32,
   "metadata": {},
   "outputs": [
    {
     "data": {
      "text/plain": [
       "{'Z': '3', 'D': '5'}"
      ]
     },
     "execution_count": 32,
     "metadata": {},
     "output_type": "execute_result"
    }
   ],
   "source": [
    "# 약관 딕셔너리화\n",
    "term_dict = dict()\n",
    "for term in terms:\n",
    "    term_key = term.split(\" \")[0]\n",
    "    term_value = term.split(\" \")[1]\n",
    "    term_dict[term_key] = term_value\n",
    "    \n",
    "term_dict"
   ]
  },
  {
   "cell_type": "code",
   "execution_count": 33,
   "metadata": {},
   "outputs": [
    {
     "data": {
      "text/plain": [
       "{0: {'prv_date': '2019.01.01', 'prv_term': 'D'},\n",
       " 1: {'prv_date': '2019.11.15', 'prv_term': 'Z'},\n",
       " 2: {'prv_date': '2019.08.02', 'prv_term': 'D'},\n",
       " 3: {'prv_date': '2019.07.01', 'prv_term': 'D'},\n",
       " 4: {'prv_date': '2018.12.28', 'prv_term': 'Z'}}"
      ]
     },
     "execution_count": 33,
     "metadata": {},
     "output_type": "execute_result"
    }
   ],
   "source": [
    "# 사용자 딕셔너리화\n",
    "privacy_dict = dict()\n",
    "for i, privacy in enumerate(privacies):\n",
    "    sub_dict = dict()\n",
    "    privacy_date = privacy.split(\" \")[0]\n",
    "    privacy_term = privacy.split(\" \")[1]\n",
    "    sub_dict[\"prv_date\"] = privacy_date\n",
    "    sub_dict[\"prv_term\"] = privacy_term\n",
    "    privacy_dict[i] = sub_dict\n",
    "    \n",
    "privacy_dict"
   ]
  },
  {
   "cell_type": "code",
   "execution_count": 35,
   "metadata": {},
   "outputs": [
    {
     "name": "stdout",
     "output_type": "stream",
     "text": [
      "prv_date, prv_term : 2019.01.01 D\n",
      "prv_year, prv_month, prv_day : 2019 1 1\n",
      "term_month : 5\n",
      "2019.5.28\n",
      "today_date : 2020-01-01 00:00:00\n",
      "need_date : 2019-05-28 00:00:00\n",
      "prv_date, prv_term : 2019.11.15 Z\n",
      "prv_year, prv_month, prv_day : 2019 11 15\n",
      "term_month : 3\n",
      "2020.2.14\n",
      "today_date : 2020-01-01 00:00:00\n",
      "need_date : 2020-02-14 00:00:00\n",
      "prv_date, prv_term : 2019.08.02 D\n",
      "prv_year, prv_month, prv_day : 2019 8 2\n",
      "term_month : 5\n",
      "2020.1.1\n",
      "today_date : 2020-01-01 00:00:00\n",
      "need_date : 2020-01-01 00:00:00\n",
      "prv_date, prv_term : 2019.07.01 D\n",
      "prv_year, prv_month, prv_day : 2019 7 1\n",
      "term_month : 5\n",
      "2019.11.28\n",
      "today_date : 2020-01-01 00:00:00\n",
      "need_date : 2019-11-28 00:00:00\n",
      "prv_date, prv_term : 2018.12.28 Z\n",
      "prv_year, prv_month, prv_day : 2018 12 28\n",
      "term_month : 3\n",
      "2019.3.27\n",
      "today_date : 2020-01-01 00:00:00\n",
      "need_date : 2019-03-27 00:00:00\n"
     ]
    },
    {
     "data": {
      "text/plain": [
       "[1, 4, 5]"
      ]
     },
     "execution_count": 35,
     "metadata": {},
     "output_type": "execute_result"
    }
   ],
   "source": [
    "from datetime import datetime\n",
    "answer = []\n",
    "for prv_i, sub_dict in privacy_dict.items():\n",
    "    prv_date = sub_dict[\"prv_date\"]\n",
    "    prv_term = sub_dict[\"prv_term\"]\n",
    "    print(\"prv_date, prv_term :\", prv_date, prv_term)\n",
    "    \n",
    "    prv_year = int(prv_date.split(\".\")[0])\n",
    "    prv_month = int(prv_date.split(\".\")[1])\n",
    "    prv_day = int(prv_date.split(\".\")[2])\n",
    "    print(\"prv_year, prv_month, prv_day :\", prv_year, prv_month, prv_day)\n",
    "    \n",
    "    term_month = int(term_dict[prv_term])\n",
    "    print(\"term_month :\",term_month)\n",
    "    \n",
    "    # 년도에 더해줄 것\n",
    "    add_year = int(term_month // 12)\n",
    "    # 달에 더핼줄 것\n",
    "    add_month = int(term_month % 12)\n",
    "    \n",
    "    # 날짜는 하루 뺌\n",
    "    need_day = prv_day - 1\n",
    "    \n",
    "    # 0일일 경우 한달 전으러\n",
    "    if need_day == 0:\n",
    "        add_month -= 1\n",
    "        need_day = 28\n",
    "        \n",
    "    # 달 더해줌\n",
    "    need_month = prv_month + add_month\n",
    "    \n",
    "    # 12월 넘어갈 경우 처리\n",
    "    if need_month >= 13:\n",
    "        add_year += 1\n",
    "        need_month -= 12\n",
    "        \n",
    "    # 년 더해줌\n",
    "    need_year = prv_year + add_year\n",
    "    \n",
    "    print(f\"{need_year}.{need_month}.{need_day}\")\n",
    "    \n",
    "    today_date = datetime.strptime(today, \"%Y.%m.%d\")\n",
    "    need_date = datetime.strptime(f\"{need_year}.{need_month}.{need_day}\", \"%Y.%m.%d\")\n",
    "    print(\"today_date :\", today_date)\n",
    "    print(\"need_date :\", need_date)\n",
    "    \n",
    "    if today_date > need_date:\n",
    "        answer.append(int(prv_i) + 1)\n",
    "        \n",
    "answer"
   ]
  },
  {
   "cell_type": "code",
   "execution_count": 19,
   "metadata": {},
   "outputs": [
    {
     "name": "stdout",
     "output_type": "stream",
     "text": [
      "1\n",
      "3\n"
     ]
    }
   ],
   "source": [
    "# 몫\n",
    "print(12 // 12)\n",
    "# 나머지\n",
    "print(15 % 12)"
   ]
  },
  {
   "cell_type": "markdown",
   "metadata": {},
   "source": [
    "## 다른 사람 풀이"
   ]
  },
  {
   "cell_type": "code",
   "execution_count": null,
   "metadata": {},
   "outputs": [],
   "source": [
    "def to_days(date):\n",
    "    year, month, day = map(int, date.split(\".\"))\n",
    "    return year * 28 * 12 + month * 28 + day\n",
    "\n",
    "def solution(today, terms, privacies):\n",
    "    months = {v[0]: int(v[2:]) * 28 for v in terms}\n",
    "    today = to_days(today)\n",
    "    expire = [\n",
    "        i + 1 for i, privacy in enumerate(privacies)\n",
    "        if to_days(privacy[:-2]) + months[privacy[-1]] <= today\n",
    "    ]\n",
    "    return expire"
   ]
  }
 ],
 "metadata": {
  "kernelspec": {
   "display_name": "Python 3",
   "language": "python",
   "name": "python3"
  },
  "language_info": {
   "codemirror_mode": {
    "name": "ipython",
    "version": 3
   },
   "file_extension": ".py",
   "mimetype": "text/x-python",
   "name": "python",
   "nbconvert_exporter": "python",
   "pygments_lexer": "ipython3",
   "version": "3.8.5"
  }
 },
 "nbformat": 4,
 "nbformat_minor": 2
}
