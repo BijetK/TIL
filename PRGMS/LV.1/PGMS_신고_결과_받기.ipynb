{
 "cells": [
  {
   "cell_type": "markdown",
   "metadata": {},
   "source": [
    "# 신고 결과 받기\n",
    "\n",
    "난이도 : Lv.1\n",
    "\n",
    "[링크](https://school.programmers.co.kr/learn/courses/30/lessons/92334)"
   ]
  },
  {
   "cell_type": "markdown",
   "metadata": {},
   "source": [
    "## 문제 설명\n",
    "\n",
    "신입사원 무지는 게시판 불량 이용자를 신고하고 처리 결과를 메일로 발송하는 시스템을 개발하려 합니다. 무지가 개발하려는 시스템은 다음과 같습니다.\n",
    "\n",
    "- 각 유저는 한 번에 한 명의 유저를 신고할 수 있습니다.\n",
    "  - 신고 횟수에 제한은 없습니다. 서로 다른 유저를 계속해서 신고할 수 있습니다.\n",
    "  - 한 유저를 여러 번 신고할 수도 있지만, 동일한 유저에 대한 신고 횟수는 1회로 처리됩니다.\n",
    "- k번 이상 신고된 유저는 게시판 이용이 정지되며, 해당 유저를 신고한 모든 유저에게 정지 사실을 메일로 발송합니다.\n",
    "  - 유저가 신고한 모든 내용을 취합하여 마지막에 한꺼번에 게시판 이용 정지를 시키면서 정지 메일을 발송합니다.\n",
    "\n",
    "다음은 전체 유저 목록이 [\"muzi\", \"frodo\", \"apeach\", \"neo\"]이고, k = 2(즉, 2번 이상 신고당하면 이용 정지)인 경우의 예시입니다.\n",
    "\n",
    "| 유저 ID  | 유저가 신고한 ID | 설명                               |\n",
    "| -------- | ---------------- | ---------------------------------- |\n",
    "| \"muzi\"   | \"frodo\"          | \"muzi\"가 \"frodo\"를 신고했습니다.   |\n",
    "| \"apeach\" | \"frodo\"          | \"apeach\"가 \"frodo\"를 신고했습니다. |\n",
    "| \"frodo\"  | \"neo\"            | \"frodo\"가 \"neo\"를 신고했습니다.    |\n",
    "| \"muzi\"   | \"neo\"            | \"muzi\"가 \"neo\"를 신고했습니다.     |\n",
    "| \"apeach\" | \"muzi\"           | \"apeach\"가 \"muzi\"를 신고했습니다.  |\n",
    "\n",
    "각 유저별로 신고당한 횟수는 다음과 같습니다.\n",
    "\n",
    "| 유저 ID  | 신고당한 횟수 |\n",
    "| -------- | ------------- |\n",
    "| \"muzi\"   | 1             |\n",
    "| \"frodo\"  | 2             |\n",
    "| \"apeach\" | 0             |\n",
    "| \"neo\"    | 2             |\n",
    "\n",
    "위 예시에서는 2번 이상 신고당한 \"frodo\"와 \"neo\"의 게시판 이용이 정지됩니다. 이때, 각 유저별로 신고한 아이디와 정지된 아이디를 정리하면 다음과 같습니다.\n",
    "\n",
    "| 유저 ID  | 유저가 신고한 ID  | 정지된 ID        |\n",
    "| -------- | ----------------- | ---------------- |\n",
    "| \"muzi\"   | [\"frodo\", \"neo\"]  | [\"frodo\", \"neo\"] |\n",
    "| \"frodo\"  | [\"neo\"]           | [\"neo\"]          |\n",
    "| \"apeach\" | [\"muzi\", \"frodo\"] | [\"frodo\"]        |\n",
    "| \"neo\"    | 없음              | 없음             |\n",
    "\n",
    "따라서 \"muzi\"는 처리 결과 메일을 2회, \"frodo\"와 \"apeach\"는 각각 처리 결과 메일을 1회 받게 됩니다.\n",
    "\n",
    "이용자의 ID가 담긴 문자열 배열 `id_list`, 각 이용자가 신고한 이용자의 ID 정보가 담긴 문자열 배열 `report`, 정지 기준이 되는 신고 횟수 `k`가 매개변수로 주어질 때, 각 유저별로 처리 결과 메일을 받은 횟수를 배열에 담아 return 하도록 solution 함수를 완성해주세요."
   ]
  },
  {
   "cell_type": "markdown",
   "metadata": {},
   "source": [
    "## 제한사항\n",
    "\n",
    "- 2 ≤`id_list` 의 길이 ≤ 1,000\n",
    "\n",
    "  - 1 ≤ `id_list`의 원소 길이 ≤ 10\n",
    "  - `id_list`의 원소는 이용자의 id를 나타내는 문자열이며 알파벳 소문자로만 이루어져 있습니다.\n",
    "  - `id_list`에는 같은 아이디가 중복해서 들어있지 않습니다.\n",
    "\n",
    "- 1 ≤`report` 의 길이 ≤ 200,000\n",
    "\n",
    "  - 3 ≤ `report`의 원소 길이 ≤ 21\n",
    "  - `report`의 원소는 \"이용자id 신고한id\"형태의 문자열입니다.\n",
    "  - 예를 들어 \"muzi frodo\"의 경우 \"muzi\"가 \"frodo\"를 신고했다는 의미입니다.\n",
    "  - id는 알파벳 소문자로만 이루어져 있습니다.\n",
    "  - 이용자id와 신고한id는 공백(스페이스)하나로 구분되어 있습니다.\n",
    "  - 자기 자신을 신고하는 경우는 없습니다.\n",
    "\n",
    "- 1 ≤ `k` ≤ 200, `k`는 자연수입니다.\n",
    "\n",
    "- return 하는 배열은 `id_list`에 담긴 id 순서대로 각 유저가 받은 결과 메일 수를 담으면 됩니다."
   ]
  },
  {
   "cell_type": "markdown",
   "metadata": {},
   "source": [
    "## 입출력 예\n",
    "\n",
    "| id_list                              | report                                                       | k    | result    |\n",
    "| ------------------------------------ | ------------------------------------------------------------ | ---- | --------- |\n",
    "| `[\"muzi\", \"frodo\", \"apeach\", \"neo\"]` | `[\"muzi frodo\",\"apeach frodo\",\"frodo neo\",\"muzi neo\",\"apeach muzi\"]` | 2    | [2,1,1,0] |\n",
    "| `[\"con\", \"ryan\"]`                    | `[\"ryan con\", \"ryan con\", \"ryan con\", \"ryan con\"]`           | 3    | [0,0]     |"
   ]
  },
  {
   "cell_type": "markdown",
   "metadata": {},
   "source": [
    "## 입출력 예 설명\n",
    "\n",
    "**입출력 예 #1**\n",
    "\n",
    "문제의 예시와 같습니다.\n",
    "\n",
    "**입출력 예 #2**\n",
    "\n",
    "\"ryan\"이 \"con\"을 4번 신고했으나, 주어진 조건에 따라 한 유저가 같은 유저를 여러 번 신고한 경우는 신고 횟수 1회로 처리합니다. 따라서 \"con\"은 1회 신고당했습니다. 3번 이상 신고당한 이용자는 없으며, \"con\"과 \"ryan\"은 결과 메일을 받지 않습니다. 따라서 [0, 0]을 return 합니다."
   ]
  },
  {
   "cell_type": "markdown",
   "metadata": {},
   "source": [
    "## 제한시간 안내\n",
    "\n",
    "- 정확성 테스트 : 10초"
   ]
  },
  {
   "cell_type": "markdown",
   "metadata": {},
   "source": [
    "## 정답"
   ]
  },
  {
   "cell_type": "code",
   "execution_count": 46,
   "metadata": {},
   "outputs": [],
   "source": [
    "def solution(id_list, report, k):\n",
    "    \n",
    "    # 1. 같은 신고는 누적 처리 되지 않으므로 set으로 중복 제거\n",
    "    report = list(set(report))\n",
    "\n",
    "    # 2. 각 아이디가 몇번 신고당했는지 파악\n",
    "    reported_dict = dict()\n",
    "    reporting_dict = dict()\n",
    "    mail_dict = dict()\n",
    "    over_list = list()\n",
    "\n",
    "    for id in id_list:\n",
    "        reported_dict[id] = 0\n",
    "        reporting_dict[id] = []\n",
    "        mail_dict[id] = 0\n",
    "\n",
    "    for report_each in report:\n",
    "        reporting_name = report_each.split(\" \")[-0] \n",
    "        reported_name = report_each.split(\" \")[-1]\n",
    "        reporting_dict[reporting_name] += [reported_name]\n",
    "        reported_dict[reported_name] += 1\n",
    "        \n",
    "    # 4. 신고 횟수 k 이상인 이름 찾기\n",
    "\n",
    "    for id in id_list:\n",
    "        if reported_dict[id] >= k:\n",
    "            over_list.append(id)\n",
    "\n",
    "    for id in id_list:\n",
    "        if list(set(reporting_dict[id])&set(over_list)):\n",
    "            mail_dict[id] += len(list(set(reporting_dict[id])&set(over_list)))\n",
    "            \n",
    "    return list(mail_dict.values())"
   ]
  },
  {
   "cell_type": "code",
   "execution_count": 47,
   "metadata": {},
   "outputs": [
    {
     "data": {
      "text/plain": [
       "[2, 1, 1, 0]"
      ]
     },
     "execution_count": 47,
     "metadata": {},
     "output_type": "execute_result"
    }
   ],
   "source": [
    "id_list = [\"muzi\", \"frodo\", \"apeach\", \"neo\"]\n",
    "report = [\"muzi frodo\",\"apeach frodo\",\"frodo neo\",\"muzi neo\",\"apeach muzi\"]\n",
    "k = 2\n",
    "solution(id_list, report, k)"
   ]
  },
  {
   "cell_type": "code",
   "execution_count": 48,
   "metadata": {},
   "outputs": [
    {
     "data": {
      "text/plain": [
       "[0, 0]"
      ]
     },
     "execution_count": 48,
     "metadata": {},
     "output_type": "execute_result"
    }
   ],
   "source": [
    "id_list = [\"con\", \"ryan\"]\n",
    "report = [\"ryan con\", \"ryan con\", \"ryan con\", \"ryan con\"]\n",
    "k = 3\n",
    "solution(id_list, report, k)"
   ]
  },
  {
   "cell_type": "markdown",
   "metadata": {},
   "source": [
    "## 연습"
   ]
  },
  {
   "cell_type": "code",
   "execution_count": 5,
   "metadata": {},
   "outputs": [],
   "source": [
    "# 변수 설정\n",
    "id_list = [\"muzi\", \"frodo\", \"apeach\", \"neo\"]\n",
    "report = [\"muzi frodo\",\"apeach frodo\",\"frodo neo\",\"muzi neo\",\"apeach muzi\"]\n",
    "k = 2"
   ]
  },
  {
   "cell_type": "code",
   "execution_count": 2,
   "metadata": {},
   "outputs": [
    {
     "data": {
      "text/plain": [
       "['frodo neo', 'muzi neo', 'apeach frodo', 'apeach muzi', 'muzi frodo']"
      ]
     },
     "execution_count": 2,
     "metadata": {},
     "output_type": "execute_result"
    }
   ],
   "source": [
    "# 1. 같은 신고는 누적 처리 되지 않으므로 set으로 중복 제거\n",
    "report = list(set(report))\n",
    "report"
   ]
  },
  {
   "cell_type": "code",
   "execution_count": 39,
   "metadata": {},
   "outputs": [
    {
     "data": {
      "text/plain": [
       "{'muzi': 0, 'frodo': 0, 'apeach': 0, 'neo': 0}"
      ]
     },
     "metadata": {},
     "output_type": "display_data"
    },
    {
     "data": {
      "text/plain": [
       "{'muzi': [], 'frodo': [], 'apeach': [], 'neo': []}"
      ]
     },
     "metadata": {},
     "output_type": "display_data"
    },
    {
     "data": {
      "text/plain": [
       "{'muzi': 0, 'frodo': 0, 'apeach': 0, 'neo': 0}"
      ]
     },
     "metadata": {},
     "output_type": "display_data"
    },
    {
     "data": {
      "text/plain": [
       "{'muzi': 1, 'frodo': 2, 'apeach': 0, 'neo': 2}"
      ]
     },
     "metadata": {},
     "output_type": "display_data"
    },
    {
     "data": {
      "text/plain": [
       "{'muzi': ['frodo', 'neo'],\n",
       " 'frodo': ['neo'],\n",
       " 'apeach': ['frodo', 'muzi'],\n",
       " 'neo': []}"
      ]
     },
     "metadata": {},
     "output_type": "display_data"
    }
   ],
   "source": [
    "# 2. 각 아이디가 몇번 신고당했는지 파악\n",
    "reported_dict = dict()\n",
    "reporting_dict = dict()\n",
    "mail_dict = dict()\n",
    "\n",
    "for id in id_list:\n",
    "    reported_dict[id] = 0\n",
    "    reporting_dict[id] = []\n",
    "    mail_dict[id] = 0\n",
    "    \n",
    "display(reported_dict)\n",
    "display(reporting_dict)\n",
    "display(mail_dict)\n",
    "\n",
    "for report_each in report:\n",
    "    reporting_name = report_each.split(\" \")[-0] \n",
    "    reported_name = report_each.split(\" \")[-1]\n",
    "    reporting_dict[reporting_name] += [reported_name]\n",
    "    reported_dict[reported_name] += 1\n",
    "    \n",
    "display(reported_dict)\n",
    "display(reporting_dict)"
   ]
  },
  {
   "cell_type": "code",
   "execution_count": 40,
   "metadata": {},
   "outputs": [
    {
     "data": {
      "text/plain": [
       "{'muzi': ['frodo', 'neo'],\n",
       " 'frodo': ['neo'],\n",
       " 'apeach': ['frodo', 'muzi'],\n",
       " 'neo': []}"
      ]
     },
     "execution_count": 40,
     "metadata": {},
     "output_type": "execute_result"
    }
   ],
   "source": [
    "# 3. 각 아이디가 신고한 횟수 파악\n",
    "reporting_dict = dict()\n",
    "\n",
    "for id in id_list:\n",
    "    reporting_dict[id] = []\n",
    "    \n",
    "for report_each in report:\n",
    "    reporting_name = report_each.split(\" \")[-0] \n",
    "    reported_name = report_each.split(\" \")[-1]\n",
    "    \n",
    "    reporting_dict[reporting_name] += [reported_name]\n",
    "    \n",
    "reporting_dict"
   ]
  },
  {
   "cell_type": "code",
   "execution_count": 41,
   "metadata": {},
   "outputs": [
    {
     "data": {
      "text/plain": [
       "['frodo', 'neo']"
      ]
     },
     "execution_count": 41,
     "metadata": {},
     "output_type": "execute_result"
    }
   ],
   "source": [
    "# 4. 신고 횟수 k 이상인 이름 찾기\n",
    "over_list = list()\n",
    "\n",
    "for id in id_list:\n",
    "    if reported_dict[id] >= k:\n",
    "        over_list.append(id)\n",
    "        \n",
    "over_list"
   ]
  },
  {
   "cell_type": "code",
   "execution_count": 42,
   "metadata": {},
   "outputs": [
    {
     "name": "stdout",
     "output_type": "stream",
     "text": [
      "muzi {'neo', 'frodo'}\n",
      "frodo {'neo'}\n",
      "apeach {'frodo', 'muzi'}\n",
      "neo set()\n"
     ]
    },
    {
     "data": {
      "text/plain": [
       "{'muzi': 2, 'frodo': 1, 'apeach': 1, 'neo': 0}"
      ]
     },
     "execution_count": 42,
     "metadata": {},
     "output_type": "execute_result"
    }
   ],
   "source": [
    "for id in id_list:\n",
    "    print(id, set(reporting_dict[id]))\n",
    "    if list(set(reporting_dict[id])&set(over_list)):\n",
    "        mail_dict[id] += len(list(set(reporting_dict[id])&set(over_list)))\n",
    "        \n",
    "mail_dict"
   ]
  },
  {
   "cell_type": "code",
   "execution_count": 25,
   "metadata": {},
   "outputs": [],
   "source": [
    "a = [\"frodo\", \"neo\"]\n",
    "b = [\"apeach\"]"
   ]
  },
  {
   "cell_type": "code",
   "execution_count": 26,
   "metadata": {},
   "outputs": [],
   "source": [
    "if list(set(a)&set(b)):\n",
    "    print(\"A\")"
   ]
  },
  {
   "cell_type": "code",
   "execution_count": 43,
   "metadata": {},
   "outputs": [
    {
     "data": {
      "text/plain": [
       "[2, 1, 1, 0]"
      ]
     },
     "execution_count": 43,
     "metadata": {},
     "output_type": "execute_result"
    }
   ],
   "source": [
    "list(mail_dict.values())"
   ]
  },
  {
   "cell_type": "markdown",
   "metadata": {},
   "source": [
    "## 다른 사람 풀이"
   ]
  },
  {
   "cell_type": "code",
   "execution_count": null,
   "metadata": {},
   "outputs": [],
   "source": [
    "def solution(id_list, report, k):\n",
    "    answer = [0] * len(id_list)    \n",
    "    reports = {x : 0 for x in id_list}\n",
    "\n",
    "    for r in set(report):\n",
    "        reports[r.split()[1]] += 1\n",
    "\n",
    "    for r in set(report):\n",
    "        if reports[r.split()[1]] >= k:\n",
    "            answer[id_list.index(r.split()[0])] += 1\n",
    "\n",
    "    return answer"
   ]
  }
 ],
 "metadata": {
  "kernelspec": {
   "display_name": "Python 3",
   "language": "python",
   "name": "python3"
  },
  "language_info": {
   "codemirror_mode": {
    "name": "ipython",
    "version": 3
   },
   "file_extension": ".py",
   "mimetype": "text/x-python",
   "name": "python",
   "nbconvert_exporter": "python",
   "pygments_lexer": "ipython3",
   "version": "3.8.5"
  }
 },
 "nbformat": 4,
 "nbformat_minor": 2
}
