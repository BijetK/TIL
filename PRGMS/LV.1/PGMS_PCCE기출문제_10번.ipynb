{
 "cells": [
  {
   "cell_type": "markdown",
   "metadata": {},
   "source": [
    "# [PCCE 기출문제] 10번\n",
    "\n",
    "[링크](https://school.programmers.co.kr/learn/courses/30/lessons/250121)"
   ]
  },
  {
   "cell_type": "markdown",
   "metadata": {},
   "source": [
    "## 문제 설명\n",
    "\n",
    "AI 엔지니어인 현식이는 데이터를 분석하는 작업을 진행하고 있습니다. 데이터는 [\"코드 번호(code)\", \"제조일(date)\", \"최대 수량(maximum)\", \"현재 수량(remain)\"]으로 구성되어 있으며 현식이는 이 데이터들 중 조건을 만족하는 데이터만 뽑아서 정렬하려 합니다.\n",
    "\n",
    "예를 들어 다음과 같이 데이터가 주어진다면\n",
    "\n",
    "```python\n",
    "data = [[1, 20300104, 100, 80], [2, 20300804, 847, 37], [3, 20300401, 10, 8]]\n",
    "```\n",
    "\n",
    "이 데이터는 다음 표처럼 나타낼 수 있습니다.\n",
    "\n",
    "| code | date     | maximum | remain |\n",
    "| ---- | -------- | ------- | ------ |\n",
    "| 1    | 20300104 | 100     | 80     |\n",
    "| 2    | 20300804 | 847     | 37     |\n",
    "| 3    | 20300401 | 10      | 8      |\n",
    "\n",
    "주어진 데이터 중 \"제조일이 20300501 이전인 물건들을 현재 수량이 적은 순서\"로 정렬해야 한다면 조건에 맞게 가공된 데이터는 다음과 같습니다.\n",
    "\n",
    "```python\n",
    "data = [[3,20300401,10,8],[1,20300104,100,80]]\n",
    "```\n",
    "\n",
    "정렬한 데이터들이 담긴 이차원 정수 리스트 `data`와 어떤 정보를 기준으로 데이터를 뽑아낼지를 의미하는 문자열 `ext`, 뽑아낼 정보의 기준값을 나타내는 정수 `val_ext`, 정보를 정렬할 기준이 되는 문자열 `sort_by`가 주어집니다.\n",
    "\n",
    "**`data`에서 `ext` 값이 `val_ext`보다 작은 데이터만 뽑은 후, `sort_by`에 해당하는 값을 기준으로 오름차순으로 정렬**하여 return 하도록 solution 함수를 완성해 주세요. 단, 조건을 만족하는 데이터는 항상 한 개 이상 존재합니다."
   ]
  },
  {
   "cell_type": "markdown",
   "metadata": {},
   "source": [
    "## 제한사항\n",
    "\n",
    "- 1 ≤ `data` 의 길이 ≤ 500\n",
    "  - `data[i]`의 원소는 [코드 번호(code), 제조일(date), 최대 수량(maximum), 현재 수량(remain)] 형태입니다.\n",
    "  - 1 ≤ 코드 번호≤ 100,000\n",
    "  - 20000101 ≤ 제조일≤ 29991231\n",
    "  - `data[i][1]`은 yyyymmdd 형태의 값을 가지며, 올바른 날짜만 주어집니다. (yyyy : 연도, mm : 월, dd : 일)\n",
    "  - 1 ≤ 최대 수량≤ 10,000\n",
    "  - 1 ≤ 현재 수량≤ 최대 수량\n",
    "\n",
    "- `ext`와`sort_by` 의 값은 다음 중 한 가지를 가집니다.\n",
    "  - \"code\", \"date\", \"maximum\", \"remain\"\n",
    "  - 순서대로 코드 번호, 제조일, 최대 수량, 현재 수량을 의미합니다.\n",
    "\n",
    "- `val_ext`는 `ext`에 따라 올바른 범위의 숫자로 주어집니다.\n",
    "\n",
    "- 정렬 기준에 해당하는 값이 서로 같은 경우는 없습니다."
   ]
  },
  {
   "cell_type": "markdown",
   "metadata": {},
   "source": [
    "## 입출력 예\n",
    "\n",
    "| data                                                         | ext    | val_ext  | sort_by  | result                                  |\n",
    "| ------------------------------------------------------------ | ------ | -------- | -------- | --------------------------------------- |\n",
    "| [[1, 20300104, 100, 80], [2, 20300804, 847, 37], [3, 20300401, 10, 8]] | \"date\" | 20300501 | \"remain\" | [[3,20300401,10,8],[1,20300104,100,80]] |"
   ]
  },
  {
   "cell_type": "markdown",
   "metadata": {},
   "source": [
    "## 입출력 예 설명\n",
    "\n",
    "입출력 예 #1\n",
    "\n",
    "- 본문의 내용과 동일합니다."
   ]
  },
  {
   "cell_type": "markdown",
   "metadata": {},
   "source": [
    "## 추가사항\n",
    "\n",
    "- cpp를 응시하는 경우 리스트는 배열과 동일한 의미이니 풀이에 참고해주세요.\n",
    "  - ex) 번호가 담긴 정수 **리스트** `numbers`가 주어집니다. => 번호가 담긴 정수 **배열** `numbers`가 주어집니다.\n",
    "- java를 응시하는 경우 리스트는 배열, 함수는 메소드와 동일한 의미이니 풀이에 참고해주세요.\n",
    "  - ex) solution **함수**가 올바르게 작동하도록 한 줄을 수정해 주세요. => solution **메소드**가 올바르게 작동하도록 한 줄을 수정해 주세요."
   ]
  },
  {
   "cell_type": "markdown",
   "metadata": {},
   "source": [
    "## 정답"
   ]
  },
  {
   "cell_type": "code",
   "execution_count": 16,
   "metadata": {},
   "outputs": [],
   "source": [
    "def solution(data, ext, val_ext, sort_by):\n",
    "    import pandas as pd\n",
    "\n",
    "    data_df = pd.DataFrame(data)\n",
    "    data_df.columns = [\"code\", \"date\", \"maximum\", \"remain\"]\n",
    "    # 조건에 맞는 값만 골라내기\n",
    "    data_df = data_df[data_df[ext] < val_ext]\n",
    "    # 정력\n",
    "    data_df = data_df.sort_values(by=sort_by)\n",
    "    # 데이터프레임을 리스트화\n",
    "    answer = data_df.to_numpy().tolist()\n",
    "    \n",
    "    return answer\n"
   ]
  },
  {
   "cell_type": "code",
   "execution_count": 17,
   "metadata": {},
   "outputs": [
    {
     "data": {
      "text/plain": [
       "[[3, 20300401, 10, 8], [1, 20300104, 100, 80]]"
      ]
     },
     "execution_count": 17,
     "metadata": {},
     "output_type": "execute_result"
    }
   ],
   "source": [
    "data = [[1, 20300104, 100, 80], [2, 20300804, 847, 37], [3, 20300401, 10, 8]]\n",
    "ext = \"date\"\n",
    "val_ext = 20300501\n",
    "sort_by = \"remain\"\n",
    "\n",
    "solution(data, ext, val_ext, sort_by)"
   ]
  },
  {
   "cell_type": "markdown",
   "metadata": {},
   "source": [
    "## 연습"
   ]
  },
  {
   "cell_type": "code",
   "execution_count": 1,
   "metadata": {},
   "outputs": [],
   "source": [
    "# 변수\n",
    "data = [[1, 20300104, 100, 80], [2, 20300804, 847, 37], [3, 20300401, 10, 8]]\n",
    "ext = \"date\"\n",
    "val_ext = 20300501\n",
    "sort_by = \"remain\""
   ]
  },
  {
   "cell_type": "code",
   "execution_count": 3,
   "metadata": {},
   "outputs": [
    {
     "data": {
      "text/html": [
       "<div>\n",
       "<style scoped>\n",
       "    .dataframe tbody tr th:only-of-type {\n",
       "        vertical-align: middle;\n",
       "    }\n",
       "\n",
       "    .dataframe tbody tr th {\n",
       "        vertical-align: top;\n",
       "    }\n",
       "\n",
       "    .dataframe thead th {\n",
       "        text-align: right;\n",
       "    }\n",
       "</style>\n",
       "<table border=\"1\" class=\"dataframe\">\n",
       "  <thead>\n",
       "    <tr style=\"text-align: right;\">\n",
       "      <th></th>\n",
       "      <th>code</th>\n",
       "      <th>date</th>\n",
       "      <th>maximum</th>\n",
       "      <th>remain</th>\n",
       "    </tr>\n",
       "  </thead>\n",
       "  <tbody>\n",
       "    <tr>\n",
       "      <th>0</th>\n",
       "      <td>1</td>\n",
       "      <td>20300104</td>\n",
       "      <td>100</td>\n",
       "      <td>80</td>\n",
       "    </tr>\n",
       "    <tr>\n",
       "      <th>1</th>\n",
       "      <td>2</td>\n",
       "      <td>20300804</td>\n",
       "      <td>847</td>\n",
       "      <td>37</td>\n",
       "    </tr>\n",
       "    <tr>\n",
       "      <th>2</th>\n",
       "      <td>3</td>\n",
       "      <td>20300401</td>\n",
       "      <td>10</td>\n",
       "      <td>8</td>\n",
       "    </tr>\n",
       "  </tbody>\n",
       "</table>\n",
       "</div>"
      ],
      "text/plain": [
       "   code      date  maximum  remain\n",
       "0     1  20300104      100      80\n",
       "1     2  20300804      847      37\n",
       "2     3  20300401       10       8"
      ]
     },
     "execution_count": 3,
     "metadata": {},
     "output_type": "execute_result"
    }
   ],
   "source": [
    "import pandas as pd\n",
    "\n",
    "data_df = pd.DataFrame(data)\n",
    "data_df.columns = [\"code\", \"date\", \"maximum\", \"remain\"]\n",
    "data_df"
   ]
  },
  {
   "cell_type": "code",
   "execution_count": 8,
   "metadata": {},
   "outputs": [
    {
     "data": {
      "text/html": [
       "<div>\n",
       "<style scoped>\n",
       "    .dataframe tbody tr th:only-of-type {\n",
       "        vertical-align: middle;\n",
       "    }\n",
       "\n",
       "    .dataframe tbody tr th {\n",
       "        vertical-align: top;\n",
       "    }\n",
       "\n",
       "    .dataframe thead th {\n",
       "        text-align: right;\n",
       "    }\n",
       "</style>\n",
       "<table border=\"1\" class=\"dataframe\">\n",
       "  <thead>\n",
       "    <tr style=\"text-align: right;\">\n",
       "      <th></th>\n",
       "      <th>code</th>\n",
       "      <th>date</th>\n",
       "      <th>maximum</th>\n",
       "      <th>remain</th>\n",
       "    </tr>\n",
       "  </thead>\n",
       "  <tbody>\n",
       "    <tr>\n",
       "      <th>0</th>\n",
       "      <td>1</td>\n",
       "      <td>20300104</td>\n",
       "      <td>100</td>\n",
       "      <td>80</td>\n",
       "    </tr>\n",
       "    <tr>\n",
       "      <th>2</th>\n",
       "      <td>3</td>\n",
       "      <td>20300401</td>\n",
       "      <td>10</td>\n",
       "      <td>8</td>\n",
       "    </tr>\n",
       "  </tbody>\n",
       "</table>\n",
       "</div>"
      ],
      "text/plain": [
       "   code      date  maximum  remain\n",
       "0     1  20300104      100      80\n",
       "2     3  20300401       10       8"
      ]
     },
     "execution_count": 8,
     "metadata": {},
     "output_type": "execute_result"
    }
   ],
   "source": [
    "ext_data_df = data_df[data_df[ext] < val_ext]\n",
    "ext_data_df"
   ]
  },
  {
   "cell_type": "code",
   "execution_count": 9,
   "metadata": {},
   "outputs": [
    {
     "data": {
      "text/html": [
       "<div>\n",
       "<style scoped>\n",
       "    .dataframe tbody tr th:only-of-type {\n",
       "        vertical-align: middle;\n",
       "    }\n",
       "\n",
       "    .dataframe tbody tr th {\n",
       "        vertical-align: top;\n",
       "    }\n",
       "\n",
       "    .dataframe thead th {\n",
       "        text-align: right;\n",
       "    }\n",
       "</style>\n",
       "<table border=\"1\" class=\"dataframe\">\n",
       "  <thead>\n",
       "    <tr style=\"text-align: right;\">\n",
       "      <th></th>\n",
       "      <th>code</th>\n",
       "      <th>date</th>\n",
       "      <th>maximum</th>\n",
       "      <th>remain</th>\n",
       "    </tr>\n",
       "  </thead>\n",
       "  <tbody>\n",
       "    <tr>\n",
       "      <th>2</th>\n",
       "      <td>3</td>\n",
       "      <td>20300401</td>\n",
       "      <td>10</td>\n",
       "      <td>8</td>\n",
       "    </tr>\n",
       "    <tr>\n",
       "      <th>0</th>\n",
       "      <td>1</td>\n",
       "      <td>20300104</td>\n",
       "      <td>100</td>\n",
       "      <td>80</td>\n",
       "    </tr>\n",
       "  </tbody>\n",
       "</table>\n",
       "</div>"
      ],
      "text/plain": [
       "   code      date  maximum  remain\n",
       "2     3  20300401       10       8\n",
       "0     1  20300104      100      80"
      ]
     },
     "execution_count": 9,
     "metadata": {},
     "output_type": "execute_result"
    }
   ],
   "source": [
    "ext_data_df = ext_data_df.sort_values(by=sort_by)\n",
    "ext_data_df"
   ]
  },
  {
   "cell_type": "code",
   "execution_count": 15,
   "metadata": {},
   "outputs": [
    {
     "data": {
      "text/plain": [
       "[[3, 20300401, 10, 8], [1, 20300104, 100, 80]]"
      ]
     },
     "execution_count": 15,
     "metadata": {},
     "output_type": "execute_result"
    }
   ],
   "source": [
    "ext_data_df.to_numpy().tolist()"
   ]
  },
  {
   "cell_type": "markdown",
   "metadata": {},
   "source": [
    "## 다른사람 풀이"
   ]
  },
  {
   "cell_type": "code",
   "execution_count": null,
   "metadata": {},
   "outputs": [],
   "source": [
    "def solution(data, ext, val_ext, sort_by):\n",
    "    case={'code':0,'date':1,'maximum':2,'remain':3}\n",
    "    print(case.get(ext))\n",
    "    newData=[]\n",
    "    for singleData in data:\n",
    "        if singleData[case.get(ext)]<val_ext:\n",
    "            newData.append(singleData)\n",
    "    return sorted(newData,key=lambda x:x[case.get(sort_by)])"
   ]
  }
 ],
 "metadata": {
  "kernelspec": {
   "display_name": "Python 3",
   "language": "python",
   "name": "python3"
  },
  "language_info": {
   "codemirror_mode": {
    "name": "ipython",
    "version": 3
   },
   "file_extension": ".py",
   "mimetype": "text/x-python",
   "name": "python",
   "nbconvert_exporter": "python",
   "pygments_lexer": "ipython3",
   "version": "3.8.5"
  }
 },
 "nbformat": 4,
 "nbformat_minor": 2
}
