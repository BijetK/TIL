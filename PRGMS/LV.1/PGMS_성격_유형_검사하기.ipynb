{
 "cells": [
  {
   "cell_type": "markdown",
   "metadata": {},
   "source": [
    "# 성격 유형 검사하기\n",
    "\n",
    "난이도 : Lv.1\n",
    "\n",
    "[링크](https://school.programmers.co.kr/learn/courses/30/lessons/118666)"
   ]
  },
  {
   "cell_type": "markdown",
   "metadata": {},
   "source": [
    "## 문제 설명\n",
    "\n",
    "나만의 카카오 성격 유형 검사지를 만들려고 합니다.\n",
    "성격 유형 검사는 다음과 같은 4개 지표로 성격 유형을 구분합니다. 성격은 각 지표에서 두 유형 중 하나로 결정됩니다.\n",
    "\n",
    "| 지표 번호 | 성격 유형              |\n",
    "| --------- | ---------------------- |\n",
    "| 1번 지표  | 라이언형(R), 튜브형(T) |\n",
    "| 2번 지표  | 콘형(C), 프로도형(F)   |\n",
    "| 3번 지표  | 제이지형(J), 무지형(M) |\n",
    "| 4번 지표  | 어피치형(A), 네오형(N) |\n",
    "\n",
    "4개의 지표가 있으므로 성격 유형은 총 16(=2 x 2 x 2 x 2)가지가 나올 수 있습니다. 예를 들어, \"RFMN\"이나 \"TCMA\"와 같은 성격 유형이 있습니다.\n",
    "\n",
    "검사지에는 총 `n`개의 질문이 있고, 각 질문에는 아래와 같은 7개의 선택지가 있습니다.\n",
    "\n",
    "- `매우 비동의`\n",
    "- `비동의`\n",
    "- `약간 비동의`\n",
    "- `모르겠음`\n",
    "- `약간 동의`\n",
    "- `동의`\n",
    "- `매우 동의`\n",
    "\n",
    "각 질문은 1가지 지표로 성격 유형 점수를 판단합니다.\n",
    "\n",
    "예를 들어, 어떤 한 질문에서 4번 지표로 아래 표처럼 점수를 매길 수 있습니다.\n",
    "\n",
    "| 선택지        | 성격 유형 점수                        |\n",
    "| ------------- | ------------------------------------- |\n",
    "| `매우 비동의` | 네오형 3점                            |\n",
    "| `비동의`      | 네오형 2점                            |\n",
    "| `약간 비동의` | 네오형 1점                            |\n",
    "| `모르겠음`    | 어떤 성격 유형도 점수를 얻지 않습니다 |\n",
    "| `약간 동의`   | 어피치형 1점                          |\n",
    "| `동의`        | 어피치형 2점                          |\n",
    "| `매우 동의`   | 어피치형 3점                          |\n",
    "\n",
    "이때 검사자가 질문에서 `약간 동의` 선택지를 선택할 경우 어피치형(A) 성격 유형 1점을 받게 됩니다. 만약 검사자가 `매우 비동의` 선택지를 선택할 경우 네오형(N) 성격 유형 3점을 받게 됩니다.\n",
    "\n",
    "**위 예시처럼 네오형이 비동의, 어피치형이 동의인 경우만 주어지지 않고, 질문에 따라 네오형이 동의, 어피치형이 비동의인 경우도 주어질 수 있습니다.**\n",
    "하지만 각 선택지는 고정적인 크기의 점수를 가지고 있습니다.\n",
    "\n",
    "- `매우 동의`나 `매우 비동의` 선택지를 선택하면 3점을 얻습니다.\n",
    "- `동의`나 `비동의` 선택지를 선택하면 2점을 얻습니다.\n",
    "- `약간 동의`나 `약간 비동의` 선택지를 선택하면 1점을 얻습니다.\n",
    "- `모르겠음` 선택지를 선택하면 점수를 얻지 않습니다.\n",
    "\n",
    "검사 결과는 모든 질문의 성격 유형 점수를 더하여 각 지표에서 더 높은 점수를 받은 성격 유형이 검사자의 성격 유형이라고 판단합니다. 단, 하나의 지표에서 각 성격 유형 점수가 같으면, 두 성격 유형 중 사전 순으로 빠른 성격 유형을 검사자의 성격 유형이라고 판단합니다.\n",
    "\n",
    "질문마다 판단하는 지표를 담은 1차원 문자열 배열 `survey`와 검사자가 각 질문마다 선택한 선택지를 담은 1차원 정수 배열 `choices`가 매개변수로 주어집니다. 이때, 검사자의 성격 유형 검사 결과를 지표 번호 순서대로 return 하도록 solution 함수를 완성해주세요."
   ]
  },
  {
   "cell_type": "markdown",
   "metadata": {},
   "source": [
    "## 제한사항\n",
    "\n",
    "- 1 ≤ `survey`의 길이 ( =`n`) ≤ 1,000\n",
    "\n",
    "  - `survey`의 원소는 `\"RT\", \"TR\", \"FC\", \"CF\", \"MJ\", \"JM\", \"AN\", \"NA\"` 중 하나입니다.\n",
    "  - `survey[i]`의 첫 번째 캐릭터는 i+1번 질문의 비동의 관련 선택지를 선택하면 받는 성격 유형을 의미합니다.\n",
    "  - `survey[i]`의 두 번째 캐릭터는 i+1번 질문의 동의 관련 선택지를 선택하면 받는 성격 유형을 의미합니다.\n",
    "\n",
    "- `choices`의 길이 = `survey`의 길이\n",
    "\n",
    "  - `choices[i]`는 검사자가 선택한 i+1번째 질문의 선택지를 의미합니다.\n",
    "  - 1 ≤ `choices`의 원소 ≤ 7\n",
    "\n",
    "  | `choices` | 뜻          |\n",
    "  | --------- | ----------- |\n",
    "  | 1         | 매우 비동의 |\n",
    "  | 2         | 비동의      |\n",
    "  | 3         | 약간 비동의 |\n",
    "  | 4         | 모르겠음    |\n",
    "  | 5         | 약간 동의   |\n",
    "  | 6         | 동의        |\n",
    "  | 7         | 매우 동의   |"
   ]
  },
  {
   "cell_type": "markdown",
   "metadata": {},
   "source": [
    "## 입출력 예\n",
    "\n",
    "| survey                           | choices         | result   |\n",
    "| -------------------------------- | --------------- | -------- |\n",
    "| `[\"AN\", \"CF\", \"MJ\", \"RT\", \"NA\"]` | [5, 3, 2, 7, 5] | `\"TCMA\"` |\n",
    "| `[\"TR\", \"RT\", \"TR\"]`             | [7, 1, 3]       | `\"RCJA\"` |"
   ]
  },
  {
   "cell_type": "markdown",
   "metadata": {},
   "source": [
    "## 입출력 예 설명\n",
    "\n",
    "**입출력 예 #1**\n",
    "\n",
    "1번 질문의 점수 배치는 아래 표와 같습니다.\n",
    "\n",
    "| 선택지        | 성격 유형 점수                        |\n",
    "| ------------- | ------------------------------------- |\n",
    "| 매우 비동의   | 어피치형 3점                          |\n",
    "| 비동의        | 어피치형 2점                          |\n",
    "| 약간 비동의   | 어피치형 1점                          |\n",
    "| 모르겠음      | 어떤 성격 유형도 점수를 얻지 않습니다 |\n",
    "| **약간 동의** | **네오형 1점**                        |\n",
    "| 동의          | 네오형 2점                            |\n",
    "| 매우 동의     | 네오형 3점                            |\n",
    "\n",
    "1번 질문에서는 지문의 예시와 다르게 비동의 관련 선택지를 선택하면 어피치형(A) 성격 유형의 점수를 얻고, 동의 관련 선택지를 선택하면 네오형(N) 성격 유형의 점수를 얻습니다.\n",
    "1번 질문에서 검사자는 `약간 동의` 선택지를 선택했으므로 네오형(N) 성격 유형 점수 1점을 얻게 됩니다.\n",
    "\n",
    "2번 질문의 점수 배치는 아래 표와 같습니다.\n",
    "\n",
    "| 선택지          | 성격 유형 점수                        |\n",
    "| --------------- | ------------------------------------- |\n",
    "| 매우 비동의     | 콘형 3점                              |\n",
    "| 비동의          | 콘형 2점                              |\n",
    "| **약간 비동의** | **콘형 1점**                          |\n",
    "| 모르겠음        | 어떤 성격 유형도 점수를 얻지 않습니다 |\n",
    "| 약간 동의       | 프로도형 1점                          |\n",
    "| 동의            | 프로도형 2점                          |\n",
    "| 매우 동의       | 프로도형 3점                          |\n",
    "\n",
    "2번 질문에서 검사자는 `약간 비동의` 선택지를 선택했으므로 콘형(C) 성격 유형 점수 1점을 얻게 됩니다.\n",
    "\n",
    "3번 질문의 점수 배치는 아래 표와 같습니다.\n",
    "\n",
    "| 선택지      | 성격 유형 점수                        |\n",
    "| ----------- | ------------------------------------- |\n",
    "| 매우 비동의 | 무지형 3점                            |\n",
    "| **비동의**  | **무지형 2점**                        |\n",
    "| 약간 비동의 | 무지형 1점                            |\n",
    "| 모르겠음    | 어떤 성격 유형도 점수를 얻지 않습니다 |\n",
    "| 약간 동의   | 제이지형 1점                          |\n",
    "| 동의        | 제이지형 2점                          |\n",
    "| 매우 동의   | 제이지형 3점                          |\n",
    "\n",
    "3번 질문에서 검사자는 `비동의` 선택지를 선택했으므로 무지형(M) 성격 유형 점수 2점을 얻게 됩니다.\n",
    "\n",
    "4번 질문의 점수 배치는 아래 표와 같습니다.\n",
    "\n",
    "| 선택지        | 성격 유형 점수                        |\n",
    "| ------------- | ------------------------------------- |\n",
    "| 매우 비동의   | 라이언형 3점                          |\n",
    "| 비동의        | 라이언형 2점                          |\n",
    "| 약간 비동의   | 라이언형 1점                          |\n",
    "| 모르겠음      | 어떤 성격 유형도 점수를 얻지 않습니다 |\n",
    "| 약간 동의     | 튜브형 1점                            |\n",
    "| 동의          | 튜브형 2점                            |\n",
    "| **매우 동의** | **튜브형 3점**                        |\n",
    "\n",
    "4번 질문에서 검사자는 `매우 동의` 선택지를 선택했으므로 튜브형(T) 성격 유형 점수 3점을 얻게 됩니다.\n",
    "\n",
    "5번 질문의 점수 배치는 아래 표와 같습니다.\n",
    "\n",
    "| 선택지        | 성격 유형 점수                        |\n",
    "| ------------- | ------------------------------------- |\n",
    "| 매우 비동의   | 네오형 3점                            |\n",
    "| 비동의        | 네오형 2점                            |\n",
    "| 약간 비동의   | 네오형 1점                            |\n",
    "| 모르겠음      | 어떤 성격 유형도 점수를 얻지 않습니다 |\n",
    "| **약간 동의** | **어피치형 1점**                      |\n",
    "| 동의          | 어피치형 2점                          |\n",
    "| 매우 동의     | 어피치형 3점                          |\n",
    "\n",
    "5번 질문에서 검사자는 `약간 동의` 선택지를 선택했으므로 어피치형(A) 성격 유형 점수 1점을 얻게 됩니다.\n",
    "\n",
    "1번부터 5번까지 질문의 성격 유형 점수를 합치면 아래 표와 같습니다.\n",
    "\n",
    "| 지표 번호 | 성격 유형   | 점수 | 성격 유형   | 점수 |\n",
    "| --------- | ----------- | ---- | ----------- | ---- |\n",
    "| 1번 지표  | 라이언형(R) | 0    | 튜브형(T)   | 3    |\n",
    "| 2번 지표  | 콘형(C)     | 1    | 프로도형(F) | 0    |\n",
    "| 3번 지표  | 제이지형(J) | 0    | 무지형(M)   | 2    |\n",
    "| 4번 지표  | 어피치형(A) | 1    | 네오형(N)   | 1    |\n",
    "\n",
    "각 지표에서 더 점수가 높은 `T`,`C`,`M`이 성격 유형입니다.\n",
    "하지만, 4번 지표는 1점으로 동일한 점수입니다. 따라서, 4번 지표의 성격 유형은 사전순으로 빠른 `A`입니다.\n",
    "\n",
    "따라서 `\"TCMA\"`를 return 해야 합니다.\n",
    "\n",
    "**입출력 예 #2**\n",
    "\n",
    "1번부터 3번까지 질문의 성격 유형 점수를 합치면 아래 표와 같습니다.\n",
    "\n",
    "| 지표 번호 | 성격 유형   | 점수 | 성격 유형   | 점수 |\n",
    "| --------- | ----------- | ---- | ----------- | ---- |\n",
    "| 1번 지표  | 라이언형(R) | 6    | 튜브형(T)   | 1    |\n",
    "| 2번 지표  | 콘형(C)     | 0    | 프로도형(F) | 0    |\n",
    "| 3번 지표  | 제이지형(J) | 0    | 무지형(M)   | 0    |\n",
    "| 4번 지표  | 어피치형(A) | 0    | 네오형(N)   | 0    |\n",
    "\n",
    "1번 지표는 튜브형(T)보다 라이언형(R)의 점수가 더 높습니다. 따라서 첫 번째 지표의 성격 유형은 `R`입니다.\n",
    "하지만, 2, 3, 4번 지표는 모두 0점으로 동일한 점수입니다. 따라서 2, 3, 4번 지표의 성격 유형은 사전순으로 빠른 `C`, `J`, `A`입니다.\n",
    "\n",
    "따라서 `\"RCJA\"`를 return 해야 합니다."
   ]
  },
  {
   "cell_type": "markdown",
   "metadata": {},
   "source": [
    "## 정답"
   ]
  },
  {
   "cell_type": "code",
   "execution_count": 16,
   "metadata": {},
   "outputs": [],
   "source": [
    "def survey_check(each_survey, choice, result_dict):\n",
    "    a = each_survey[0]\n",
    "    b = each_survey[1]\n",
    "    if choice > 4:\n",
    "        score = choice - 4\n",
    "        result_dict[b] += score\n",
    "        \n",
    "    elif choice < 4:\n",
    "        score = 4 - choice\n",
    "        result_dict[a] += score\n",
    "        \n",
    "    return result_dict\n",
    "\n",
    "def solution(survey, choices):\n",
    "    answer = \"\"\n",
    "    result_dict = {\"R\":0, \"T\":0, \"C\":0, \"F\":0, \"J\":0, \"M\":0, \"A\":0, \"N\":0}\n",
    "    \n",
    "    for i in range(len(choices)):\n",
    "        each_survey = survey[i]\n",
    "        choice = choices[i]\n",
    "\n",
    "        result_dict = survey_check(each_survey, choice, result_dict)\n",
    "        \n",
    "    for i in [0,2,4,6]:\n",
    "        aa = list(result_dict.keys())[i]s\n",
    "        bb = list(result_dict.keys())[i+1]\n",
    "        \n",
    "        if result_dict[aa] >= result_dict[bb]:\n",
    "            answer += aa\n",
    "        else:\n",
    "            answer += bb\n",
    "            \n",
    "    return answer"
   ]
  },
  {
   "cell_type": "code",
   "execution_count": 17,
   "metadata": {},
   "outputs": [
    {
     "data": {
      "text/plain": [
       "'TCMA'"
      ]
     },
     "execution_count": 17,
     "metadata": {},
     "output_type": "execute_result"
    }
   ],
   "source": [
    "# 변수 설정\n",
    "survey = [\"AN\", \"CF\", \"MJ\", \"RT\", \"NA\"]\n",
    "choices = [5, 3, 2, 7, 5]\n",
    "\n",
    "solution(survey, choices)"
   ]
  },
  {
   "cell_type": "markdown",
   "metadata": {},
   "source": [
    "## 연습"
   ]
  },
  {
   "cell_type": "code",
   "execution_count": 1,
   "metadata": {},
   "outputs": [],
   "source": [
    "# 변수 설정\n",
    "survey = [\"AN\", \"CF\", \"MJ\", \"RT\", \"NA\"]\n",
    "choices = [5, 3, 2, 7, 5]"
   ]
  },
  {
   "cell_type": "code",
   "execution_count": 7,
   "metadata": {},
   "outputs": [],
   "source": [
    "result_dict = {\"R\":0, \"T\":0, \"C\":0, \"F\":0, \"J\":0, \"M\":0, \"A\":0, \"N\":0}"
   ]
  },
  {
   "cell_type": "code",
   "execution_count": 3,
   "metadata": {},
   "outputs": [],
   "source": [
    "def survey_check(each_survey, choice, result_dict):\n",
    "    a = each_survey[0]\n",
    "    b = each_survey[1]\n",
    "    if choice > 4:\n",
    "        score = choice - 4\n",
    "        result_dict[b] += score\n",
    "        \n",
    "    elif choice < 4:\n",
    "        score = 4 - choice\n",
    "        result_dict[a] += score\n",
    "        \n",
    "    return result_dict"
   ]
  },
  {
   "cell_type": "code",
   "execution_count": 8,
   "metadata": {},
   "outputs": [],
   "source": [
    "for i in range(len(choices)):\n",
    "    each_survey = survey[i]\n",
    "    choice = choices[i]\n",
    "\n",
    "    survey_check(each_survey, choice, result_dict)"
   ]
  },
  {
   "cell_type": "code",
   "execution_count": 9,
   "metadata": {},
   "outputs": [
    {
     "data": {
      "text/plain": [
       "{'R': 0, 'T': 3, 'C': 1, 'F': 0, 'J': 0, 'M': 2, 'A': 1, 'N': 1}"
      ]
     },
     "execution_count": 9,
     "metadata": {},
     "output_type": "execute_result"
    }
   ],
   "source": [
    "result_dict"
   ]
  },
  {
   "cell_type": "code",
   "execution_count": 14,
   "metadata": {},
   "outputs": [
    {
     "data": {
      "text/plain": [
       "'R'"
      ]
     },
     "execution_count": 14,
     "metadata": {},
     "output_type": "execute_result"
    }
   ],
   "source": [
    "list(result_dict.keys())[0]"
   ]
  },
  {
   "cell_type": "code",
   "execution_count": 15,
   "metadata": {},
   "outputs": [
    {
     "data": {
      "text/plain": [
       "'TCMA'"
      ]
     },
     "execution_count": 15,
     "metadata": {},
     "output_type": "execute_result"
    }
   ],
   "source": [
    "answer = \"\"\n",
    "\n",
    "for i in [0,2,4,6]:\n",
    "    aa = list(result_dict.keys())[i]\n",
    "    bb = list(result_dict.keys())[i+1]\n",
    "    \n",
    "    if result_dict[aa] >= result_dict[bb]:\n",
    "        answer += aa\n",
    "    else:\n",
    "        answer += bb\n",
    "        \n",
    "answer"
   ]
  }
 ],
 "metadata": {
  "kernelspec": {
   "display_name": "Python 3",
   "language": "python",
   "name": "python3"
  },
  "language_info": {
   "codemirror_mode": {
    "name": "ipython",
    "version": 3
   },
   "file_extension": ".py",
   "mimetype": "text/x-python",
   "name": "python",
   "nbconvert_exporter": "python",
   "pygments_lexer": "ipython3",
   "version": "3.8.5"
  }
 },
 "nbformat": 4,
 "nbformat_minor": 2
}
