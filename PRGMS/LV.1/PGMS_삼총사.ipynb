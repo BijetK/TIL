{
 "cells": [
  {
   "cell_type": "markdown",
   "metadata": {},
   "source": [
    "# 삼총사\n",
    "\n",
    "난이도 : Lv.1\n",
    "\n",
    "[링크](https://school.programmers.co.kr/learn/courses/30/lessons/131705)"
   ]
  },
  {
   "cell_type": "markdown",
   "metadata": {},
   "source": [
    "## 문제 설명\n",
    "\n",
    "한국중학교에 다니는 학생들은 각자 정수 번호를 갖고 있습니다. 이 학교 학생 3명의 정수 번호를 더했을 때 0이 되면 3명의 학생은 삼총사라고 합니다. 예를 들어, 5명의 학생이 있고, 각각의 정수 번호가 순서대로 -2, 3, 0, 2, -5일 때, 첫 번째, 세 번째, 네 번째 학생의 정수 번호를 더하면 0이므로 세 학생은 삼총사입니다. 또한, 두 번째, 네 번째, 다섯 번째 학생의 정수 번호를 더해도 0이므로 세 학생도 삼총사입니다. 따라서 이 경우 한국중학교에서는 두 가지 방법으로 삼총사를 만들 수 있습니다.\n",
    "\n",
    "한국중학교 학생들의 번호를 나타내는 정수 배열 `number`가 매개변수로 주어질 때, 학생들 중 삼총사를 만들 수 있는 방법의 수를 return 하도록 solution 함수를 완성하세요."
   ]
  },
  {
   "cell_type": "markdown",
   "metadata": {},
   "source": [
    "## 제한사항\n",
    "\n",
    "- 3 ≤ `number`의 길이 ≤ 13\n",
    "- -1,000 ≤ `number`의 각 원소 ≤ 1,000\n",
    "- 서로 다른 학생의 정수 번호가 같을 수 있습니다."
   ]
  },
  {
   "cell_type": "markdown",
   "metadata": {},
   "source": [
    "## 입출력 예\n",
    "\n",
    "| number                   | result |\n",
    "| ------------------------ | ------ |\n",
    "| [-2, 3, 0, 2, -5]        | 2      |\n",
    "| [-3, -2, -1, 0, 1, 2, 3] | 5      |\n",
    "| [-1, 1, -1, 1]           | 0      |"
   ]
  },
  {
   "cell_type": "markdown",
   "metadata": {},
   "source": [
    "## 입출력 예 설명\n",
    "\n",
    "**입출력 예 #1**\n",
    "\n",
    "- 문제 예시와 같습니다.\n",
    "\n",
    "**입출력 예 #2**\n",
    "\n",
    "- 학생들의 정수 번호 쌍 (-3, 0, 3), (-2, 0, 2), (-1, 0, 1), (-2, -1, 3), (-3, 1, 2) 이 삼총사가 될 수 있으므로, 5를 return 합니다.\n",
    "\n",
    "**입출력 예 #3**\n",
    "\n",
    "- 삼총사가 될 수 있는 방법이 없습니다."
   ]
  },
  {
   "cell_type": "markdown",
   "metadata": {},
   "source": [
    "## 정답"
   ]
  },
  {
   "cell_type": "code",
   "execution_count": 18,
   "metadata": {},
   "outputs": [],
   "source": [
    "def solution(number):\n",
    "    len_number = len(number)\n",
    "    count = 0\n",
    "    for first_index in range(len_number):\n",
    "        for second_index in range(first_index+1, len_number):\n",
    "            for third_index in range(second_index+1, len_number):\n",
    "                # print(number[first_index],number[second_index],number[third_index])\n",
    "                if (number[first_index] + number[second_index] + number[third_index]) == 0:\n",
    "                    print(number[first_index],number[second_index],number[third_index])\n",
    "                    count += 1\n",
    "    return count"
   ]
  },
  {
   "cell_type": "markdown",
   "metadata": {},
   "source": [
    "## 연습"
   ]
  },
  {
   "cell_type": "code",
   "execution_count": 10,
   "metadata": {},
   "outputs": [],
   "source": [
    "# 변수 설정\n",
    "number = [-2,3,0,2,-5]"
   ]
  },
  {
   "cell_type": "code",
   "execution_count": 12,
   "metadata": {},
   "outputs": [
    {
     "name": "stdout",
     "output_type": "stream",
     "text": [
      "-2 0 2\n",
      "3 2 -5\n"
     ]
    },
    {
     "data": {
      "text/plain": [
       "2"
      ]
     },
     "execution_count": 12,
     "metadata": {},
     "output_type": "execute_result"
    }
   ],
   "source": [
    "len_number = len(number)\n",
    "count = 0\n",
    "for first_index in range(len_number):\n",
    "    for second_index in range(first_index+1, len_number):\n",
    "        for third_index in range(second_index+1, len_number):\n",
    "            # print(number[first_index],number[second_index],number[third_index])\n",
    "            if (number[first_index] + number[second_index] + number[third_index]) == 0:\n",
    "                print(number[first_index],number[second_index],number[third_index])\n",
    "                count += 1\n",
    "                \n",
    "count"
   ]
  },
  {
   "cell_type": "code",
   "execution_count": 17,
   "metadata": {},
   "outputs": [
    {
     "name": "stdout",
     "output_type": "stream",
     "text": [
      "-3 0 3\n",
      "-3 1 2\n",
      "-2 -1 3\n",
      "-2 0 2\n",
      "-1 0 1\n"
     ]
    },
    {
     "data": {
      "text/plain": [
       "5"
      ]
     },
     "execution_count": 17,
     "metadata": {},
     "output_type": "execute_result"
    }
   ],
   "source": [
    "number = [-3, -2, -1, 0, 1, 2, 3]\n",
    "\n",
    "len_number = len(number)\n",
    "count = 0\n",
    "for first_index in range(len_number-2):\n",
    "    for second_index in range(first_index+1, len_number-1):\n",
    "        for third_index in range(second_index+1, len_number):\n",
    "            # print(first_index, second_index, third_index)\n",
    "            # print(number[first_index],number[second_index],number[third_index])\n",
    "            if (number[first_index] + number[second_index] + number[third_index]) == 0:\n",
    "                # print(number[first_index],number[second_index],number[third_index])\n",
    "                count += 1\n",
    "                \n",
    "count"
   ]
  },
  {
   "cell_type": "markdown",
   "metadata": {},
   "source": [
    "## 다른 사람 풀이"
   ]
  },
  {
   "cell_type": "code",
   "execution_count": null,
   "metadata": {},
   "outputs": [],
   "source": [
    "def solution (number) :\n",
    "    from itertools import combinations\n",
    "    cnt = 0\n",
    "    for i in combinations(number,3) :\n",
    "        if sum(i) == 0 :\n",
    "            cnt += 1\n",
    "    return cnt"
   ]
  }
 ],
 "metadata": {
  "kernelspec": {
   "display_name": "Python 3",
   "language": "python",
   "name": "python3"
  },
  "language_info": {
   "codemirror_mode": {
    "name": "ipython",
    "version": 3
   },
   "file_extension": ".py",
   "mimetype": "text/x-python",
   "name": "python",
   "nbconvert_exporter": "python",
   "pygments_lexer": "ipython3",
   "version": "3.8.5"
  }
 },
 "nbformat": 4,
 "nbformat_minor": 2
}
