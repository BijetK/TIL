{
 "cells": [
  {
   "cell_type": "markdown",
   "metadata": {},
   "source": [
    "# 둘만의 암호\n",
    "\n",
    "난이도 : Lv.1\n",
    "\n",
    "[링크](https://school.programmers.co.kr/learn/courses/30/lessons/159994)"
   ]
  },
  {
   "cell_type": "markdown",
   "metadata": {},
   "source": [
    "## 문제 설명\n",
    "\n",
    "코니는 영어 단어가 적힌 카드 뭉치 두 개를 선물로 받았습니다. 코니는 다음과 같은 규칙으로 카드에 적힌 단어들을 사용해 원하는 순서의 단어 배열을 만들 수 있는지 알고 싶습니다.\n",
    "\n",
    "- 원하는 카드 뭉치에서 카드를 순서대로 한 장씩 사용합니다.\n",
    "- 한 번 사용한 카드는 다시 사용할 수 없습니다.\n",
    "- 카드를 사용하지 않고 다음 카드로 넘어갈 수 없습니다.\n",
    "- 기존에 주어진 카드 뭉치의 단어 순서는 바꿀 수 없습니다.\n",
    "\n",
    "예를 들어 첫 번째 카드 뭉치에 순서대로 [\"i\", \"drink\", \"water\"], 두 번째 카드 뭉치에 순서대로 [\"want\", \"to\"]가 적혀있을 때 [\"i\", \"want\", \"to\", \"drink\", \"water\"] 순서의 단어 배열을 만들려고 한다면 첫 번째 카드 뭉치에서 \"i\"를 사용한 후 두 번째 카드 뭉치에서 \"want\"와 \"to\"를 사용하고 첫 번째 카드뭉치에 \"drink\"와 \"water\"를 차례대로 사용하면 원하는 순서의 단어 배열을 만들 수 있습니다.\n",
    "\n",
    "문자열로 이루어진 배열 `cards1`, `cards2`와 원하는 단어 배열 `goal`이 매개변수로 주어질 때, `cards1`과 `cards2`에 적힌 단어들로 `goal`를 만들 있다면 \"Yes\"를, 만들 수 없다면 \"No\"를 return하는 solution 함수를 완성해주세요."
   ]
  },
  {
   "cell_type": "markdown",
   "metadata": {},
   "source": [
    "## 제한사항\n",
    "- 1 ≤ `cards1`의 길이, `cards2`의 길이 ≤ 10\n",
    "    - 1 ≤ `cards1[i]`의 길이, `cards2[i]`의 길이 ≤ 10\n",
    "    - `cards1`과 `cards2`에는 서로 다른 단어만 존재합니다.\n",
    "- 2 ≤ `goal`의 길이 ≤ `cards1`의 길이 + `cards2`의 길이\n",
    "    - 1 ≤ `goal[i]`의 길이 ≤ 10\n",
    "    - `goal`의 원소는 `cards1`과 `cards2`의 원소들로만 이루어져 있습니다.\n",
    "- `cards1`, `cards2`, `goal`의 문자열들은 모두 알파벳 소문자로만 이루어져 있습니다."
   ]
  },
  {
   "cell_type": "markdown",
   "metadata": {},
   "source": [
    "## 입출력 예\n",
    "\n",
    "| cards1                  | cards2         | goal                                  | result |\n",
    "| ----------------------- | -------------- | ------------------------------------- | ------ |\n",
    "| [\"i\", \"drink\", \"water\"] | [\"want\", \"to\"] | [\"i\", \"want\", \"to\", \"drink\", \"water\"] | \"Yes\"  |\n",
    "| [\"i\", \"water\", \"drink\"] | [\"want\", \"to\"] | [\"i\", \"want\", \"to\", \"drink\", \"water\"] | \"No\"   |"
   ]
  },
  {
   "cell_type": "markdown",
   "metadata": {},
   "source": [
    "## 입출력 예 설명\n",
    "\n",
    "입출력 예 #1\n",
    "\n",
    "본문과 같습니다.\n",
    "\n",
    "입출력 예 #2\n",
    "\n",
    "`cards1`에서 \"i\"를 사용하고 `cards2`에서 \"want\"와 \"to\"를 사용하여 \"i want to\"까지는 만들 수 있지만 \"water\"가 \"drink\"보다 먼저 사용되어야 하기 때문에 해당 문장을 완성시킬 수 없습니다. 따라서 \"No\"를 반환합니다."
   ]
  },
  {
   "cell_type": "markdown",
   "metadata": {},
   "source": [
    "## 정답"
   ]
  },
  {
   "cell_type": "code",
   "execution_count": null,
   "metadata": {},
   "outputs": [],
   "source": [
    "def solution(cards1, cards2, goal):\n",
    "    answer = \"Yes\"\n",
    "    cards1_dict, cards2_dict = dict(), dict()\n",
    "\n",
    "    for card1_i, card1 in enumerate(cards1):\n",
    "        cards1_dict[card1] = card1_i\n",
    "\n",
    "    for card2_i, card2 in enumerate(cards2):\n",
    "        cards2_dict[card2] = card2_i    \n",
    "        \n",
    "    for goal_word in goal:\n",
    "\n",
    "        if goal_word in cards1:\n",
    "            if cards1_dict[goal_word] != min(cards1_dict.values()):\n",
    "                answer = \"No\"\n",
    "                break\n",
    "            else:\n",
    "                del cards1_dict[goal_word]\n",
    "\n",
    "        else:\n",
    "            if cards2_dict[goal_word] != min(cards2_dict.values()):\n",
    "                answer = \"No\"\n",
    "                break\n",
    "            else:\n",
    "                del cards2_dict[goal_word]\n",
    "    return answer"
   ]
  },
  {
   "cell_type": "markdown",
   "metadata": {},
   "source": [
    "## 연습"
   ]
  },
  {
   "cell_type": "code",
   "execution_count": 18,
   "metadata": {},
   "outputs": [],
   "source": [
    "# 변수 설정\n",
    "cards1 = [\"i\", \"water\", \"drink\"]\n",
    "cards2 = [\"want\", \"to\"]\n",
    "goal = [\"i\", \"want\", \"to\", \"drink\", \"water\"]"
   ]
  },
  {
   "cell_type": "code",
   "execution_count": 19,
   "metadata": {},
   "outputs": [
    {
     "data": {
      "text/plain": [
       "{'i': 0, 'water': 1, 'drink': 2}"
      ]
     },
     "metadata": {},
     "output_type": "display_data"
    },
    {
     "data": {
      "text/plain": [
       "{'want': 0, 'to': 1}"
      ]
     },
     "metadata": {},
     "output_type": "display_data"
    }
   ],
   "source": [
    "cards1_dict, cards2_dict = dict(), dict()\n",
    "\n",
    "for card1_i, card1 in enumerate(cards1):\n",
    "    cards1_dict[card1] = card1_i\n",
    "    \n",
    "for card2_i, card2 in enumerate(cards2):\n",
    "    cards2_dict[card2] = card2_i    \n",
    "\n",
    "display(cards1_dict)\n",
    "display(cards2_dict)"
   ]
  },
  {
   "cell_type": "code",
   "execution_count": 20,
   "metadata": {},
   "outputs": [
    {
     "data": {
      "text/plain": [
       "'No'"
      ]
     },
     "metadata": {},
     "output_type": "display_data"
    }
   ],
   "source": [
    "answer = \"Yes\"\n",
    "for goal_word in goal:\n",
    "    \n",
    "    if goal_word in cards1:\n",
    "        if cards1_dict[goal_word] != min(cards1_dict.values()):\n",
    "            answer = \"No\"\n",
    "            break\n",
    "        else:\n",
    "            del cards1_dict[goal_word]\n",
    "            \n",
    "    else:\n",
    "        if cards2_dict[goal_word] != min(cards2_dict.values()):\n",
    "            answer = \"No\"\n",
    "            break\n",
    "        else:\n",
    "            del cards2_dict[goal_word]\n",
    "            \n",
    "display(answer)"
   ]
  },
  {
   "cell_type": "code",
   "execution_count": 6,
   "metadata": {},
   "outputs": [
    {
     "data": {
      "text/plain": [
       "{1: 'a',\n",
       " 2: 'b',\n",
       " 3: 'c',\n",
       " 4: 'd',\n",
       " 5: 'e',\n",
       " 6: 'f',\n",
       " 7: 'g',\n",
       " 8: 'h',\n",
       " 9: 'i',\n",
       " 10: 'j',\n",
       " 11: 'k'}"
      ]
     },
     "execution_count": 6,
     "metadata": {},
     "output_type": "execute_result"
    }
   ],
   "source": [
    "aa = 'abcdefghijk'\n",
    "a_dict = dict()\n",
    "for index, a in enumerate(aa):\n",
    "    a_dict[index+1] = a\n",
    "    \n",
    "a_dict"
   ]
  },
  {
   "cell_type": "code",
   "execution_count": 7,
   "metadata": {},
   "outputs": [
    {
     "data": {
      "text/plain": [
       "1"
      ]
     },
     "execution_count": 7,
     "metadata": {},
     "output_type": "execute_result"
    }
   ],
   "source": [
    "min(a_dict.keys())"
   ]
  }
 ],
 "metadata": {
  "kernelspec": {
   "display_name": "Python 3",
   "language": "python",
   "name": "python3"
  },
  "language_info": {
   "codemirror_mode": {
    "name": "ipython",
    "version": 3
   },
   "file_extension": ".py",
   "mimetype": "text/x-python",
   "name": "python",
   "nbconvert_exporter": "python",
   "pygments_lexer": "ipython3",
   "version": "3.8.5"
  }
 },
 "nbformat": 4,
 "nbformat_minor": 2
}
