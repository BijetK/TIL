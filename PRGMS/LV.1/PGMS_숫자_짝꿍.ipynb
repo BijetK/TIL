{
 "cells": [
  {
   "cell_type": "markdown",
   "metadata": {},
   "source": [
    "# 숫자 짝꿍\n",
    "\n",
    "난이도 : Lv.1\n",
    "\n",
    "[링크](https://school.programmers.co.kr/learn/courses/30/lessons/131128)"
   ]
  },
  {
   "cell_type": "markdown",
   "metadata": {},
   "source": [
    "## 문제 설명\n",
    "\n",
    "두 정수 `X`, `Y`의 임의의 자리에서 공통으로 나타나는 정수 k(0 ≤ k ≤ 9)들을 이용하여 만들 수 있는 가장 큰 정수를 두 수의 짝꿍이라 합니다(단, 공통으로 나타나는 정수 중 서로 짝지을 수 있는 숫자만 사용합니다). `X`, `Y`의 짝꿍이 존재하지 않으면, 짝꿍은 -1입니다. `X`, `Y`의 짝꿍이 0으로만 구성되어 있다면, 짝꿍은 0입니다.\n",
    "\n",
    "예를 들어, `X` = 3403이고 `Y` = 13203이라면, `X`와 `Y`의 짝꿍은 `X`와 `Y`에서 공통으로 나타나는 3, 0, 3으로 만들 수 있는 가장 큰 정수인 330입니다. 다른 예시로 `X` = 5525이고 `Y` = 1255이면 `X`와 `Y`의 짝꿍은 `X`와 `Y`에서 공통으로 나타나는 2, 5, 5로 만들 수 있는 가장 큰 정수인 552입니다(`X`에는 5가 3개, `Y`에는 5가 2개 나타나므로 남는 5 한 개는 짝 지을 수 없습니다.)\n",
    "두 정수 `X`, `Y`가 주어졌을 때, `X`, `Y`의 짝꿍을 return하는 solution 함수를 완성해주세요."
   ]
  },
  {
   "cell_type": "markdown",
   "metadata": {},
   "source": [
    "## 제한사항\n",
    "\n",
    "- 3 ≤ `X`, `Y`의 길이(자릿수) ≤ 3,000,000입니다.\n",
    "- `X`, `Y`는 0으로 시작하지 않습니다.\n",
    "- `X`, `Y`의 짝꿍은 상당히 큰 정수일 수 있으므로, 문자열로 반환합니다."
   ]
  },
  {
   "cell_type": "markdown",
   "metadata": {},
   "source": [
    "## 입출력 예\n",
    "\n",
    "| X       | Y        | result |\n",
    "| ------- | -------- | ------ |\n",
    "| \"100\"   | \"2345\"   | \"-1\"   |\n",
    "| \"100\"   | \"203045\" | \"0\"    |\n",
    "| \"100\"   | \"123450\" | \"10\"   |\n",
    "| \"12321\" | \"42531\"  | \"321\"  |\n",
    "| \"5525\"  | \"1255\"   | \"552\"  |"
   ]
  },
  {
   "cell_type": "markdown",
   "metadata": {},
   "source": [
    "## 입출력 예 설명\n",
    "\n",
    "**입출력 예 #1**\n",
    "\n",
    "- `X`, `Y`의 짝꿍은 존재하지 않습니다. 따라서 \"-1\"을 return합니다.\n",
    "\n",
    "**입출력 예 #2**\n",
    "\n",
    "- `X`, `Y`의 공통된 숫자는 0으로만 구성되어 있기 때문에, 두 수의 짝꿍은 정수 0입니다. 따라서 \"0\"을 return합니다.\n",
    "\n",
    "**입출력 예 #3**\n",
    "\n",
    "- `X`, `Y`의 짝꿍은 10이므로, \"10\"을 return합니다.\n",
    "\n",
    "**입출력 예 #4**\n",
    "\n",
    "- `X`, `Y`의 짝꿍은 321입니다. 따라서 \"321\"을 return합니다.\n",
    "\n",
    "**입출력 예 #5**\n",
    "\n",
    "- 지문에 설명된 예시와 같습니다."
   ]
  },
  {
   "cell_type": "markdown",
   "metadata": {},
   "source": [
    "## 정답"
   ]
  },
  {
   "cell_type": "code",
   "execution_count": 55,
   "metadata": {},
   "outputs": [],
   "source": [
    "# 시간초과\n",
    "def solution(X, Y):\n",
    "\n",
    "    answer_list = list()\n",
    "    for i in X:\n",
    "        try:\n",
    "            a = Y.index(i)\n",
    "            Y = Y[:a] + Y[a+1:]\n",
    "            answer_list.append(i)\n",
    "        except:\n",
    "            continue\n",
    "        \n",
    "    answer_list.sort(reverse=True)\n",
    "    \n",
    "    answer = ''.join(answer_list)\n",
    "    \n",
    "    if answer == \"\":\n",
    "        answer = \"-1\"\n",
    "    else:\n",
    "        answer = str(int(answer))\n",
    "    return answer"
   ]
  },
  {
   "cell_type": "code",
   "execution_count": 61,
   "metadata": {},
   "outputs": [
    {
     "data": {
      "text/plain": [
       "'203045'"
      ]
     },
     "execution_count": 61,
     "metadata": {},
     "output_type": "execute_result"
    }
   ],
   "source": [
    "Y"
   ]
  },
  {
   "cell_type": "code",
   "execution_count": 60,
   "metadata": {},
   "outputs": [
    {
     "data": {
      "text/plain": [
       "True"
      ]
     },
     "execution_count": 60,
     "metadata": {},
     "output_type": "execute_result"
    }
   ],
   "source": [
    "\"0\" in y_dict.values()"
   ]
  },
  {
   "cell_type": "code",
   "execution_count": 56,
   "metadata": {},
   "outputs": [
    {
     "data": {
      "text/plain": [
       "{'0'}"
      ]
     },
     "execution_count": 56,
     "metadata": {},
     "output_type": "execute_result"
    }
   ],
   "source": [
    "answer_list = [\"0\", \"0\"]\n",
    "\n",
    "set(answer_list)"
   ]
  },
  {
   "cell_type": "code",
   "execution_count": 54,
   "metadata": {},
   "outputs": [
    {
     "data": {
      "text/plain": [
       "'0'"
      ]
     },
     "execution_count": 54,
     "metadata": {},
     "output_type": "execute_result"
    }
   ],
   "source": [
    "# 변수 설정\n",
    "X = \"100\"\n",
    "Y = \"203045\"\n",
    "solution(X, Y)"
   ]
  },
  {
   "cell_type": "markdown",
   "metadata": {},
   "source": [
    "## 정답 2"
   ]
  },
  {
   "cell_type": "code",
   "execution_count": 76,
   "metadata": {},
   "outputs": [],
   "source": [
    "def solution(X, Y):\n",
    "    answer_list = list()\n",
    "    for i in range(10):\n",
    "        x_count = X.count(str(i))\n",
    "        y_count = Y.count(str(i))\n",
    "        if x_count != 0 and y_count != 0:\n",
    "            count = min(x_count, y_count)\n",
    "            answer_list += [str(i)] * count\n",
    "            \n",
    "    answer_list.sort(reverse=True)\n",
    "        \n",
    "    answer = ''.join(answer_list)\n",
    "\n",
    "    if answer_list == []:\n",
    "        return \"-1\"\n",
    "    elif set(answer_list) =={\"0\"}:\n",
    "        return \"0\"\n",
    "    else:\n",
    "        return answer"
   ]
  },
  {
   "cell_type": "code",
   "execution_count": 77,
   "metadata": {},
   "outputs": [
    {
     "data": {
      "text/plain": [
       "'0'"
      ]
     },
     "execution_count": 77,
     "metadata": {},
     "output_type": "execute_result"
    }
   ],
   "source": [
    "# 변수 설정\n",
    "X = \"100\"\n",
    "Y = \"203045\"\n",
    "solution(X, Y)"
   ]
  },
  {
   "cell_type": "markdown",
   "metadata": {},
   "source": [
    "## 연습"
   ]
  },
  {
   "cell_type": "code",
   "execution_count": 2,
   "metadata": {},
   "outputs": [],
   "source": [
    "# 변수 설정\n",
    "X = \"100\"\n",
    "Y = \"123450\""
   ]
  },
  {
   "cell_type": "code",
   "execution_count": 14,
   "metadata": {},
   "outputs": [
    {
     "data": {
      "text/plain": [
       "'12350'"
      ]
     },
     "execution_count": 14,
     "metadata": {},
     "output_type": "execute_result"
    }
   ],
   "source": [
    "Y = Y[:3] + Y[4:]\n",
    "Y"
   ]
  },
  {
   "cell_type": "code",
   "execution_count": 11,
   "metadata": {},
   "outputs": [
    {
     "ename": "ValueError",
     "evalue": "substring not found",
     "output_type": "error",
     "traceback": [
      "\u001b[1;31m---------------------------------------------------------------------------\u001b[0m",
      "\u001b[1;31mValueError\u001b[0m                                Traceback (most recent call last)",
      "\u001b[1;32mc:\\WorkSpace\\BeomJin\\2_SelfStudy\\TIL\\PRGMS\\LV.1\\PGMS_숫자_짝꿍.ipynb Cell 9\u001b[0m line \u001b[0;36m1\n\u001b[1;32m----> <a href='vscode-notebook-cell:/c%3A/WorkSpace/BeomJin/2_SelfStudy/TIL/PRGMS/LV.1/PGMS_%EC%88%AB%EC%9E%90_%EC%A7%9D%EA%BF%8D.ipynb#X12sZmlsZQ%3D%3D?line=0'>1</a>\u001b[0m Y\u001b[39m.\u001b[39;49mindex(\u001b[39m\"\u001b[39;49m\u001b[39m6\u001b[39;49m\u001b[39m\"\u001b[39;49m)\n",
      "\u001b[1;31mValueError\u001b[0m: substring not found"
     ]
    }
   ],
   "source": [
    "Y.index(\"6\")"
   ]
  },
  {
   "cell_type": "code",
   "execution_count": 32,
   "metadata": {},
   "outputs": [
    {
     "data": {
      "text/plain": [
       "['5', '5', '2', '6']"
      ]
     },
     "execution_count": 32,
     "metadata": {},
     "output_type": "execute_result"
    }
   ],
   "source": [
    "X = \"55256\"\n",
    "Y = \"12556\"\n",
    "answer_list = list()\n",
    "for i in X:\n",
    "    # print(i)\n",
    "    try:\n",
    "        a = Y.index(i)\n",
    "        Y = Y[:a] + Y[a+1:]\n",
    "        answer_list.append(i)\n",
    "    except:\n",
    "        continue\n",
    "    \n",
    "answer_list"
   ]
  },
  {
   "cell_type": "code",
   "execution_count": 33,
   "metadata": {},
   "outputs": [
    {
     "data": {
      "text/plain": [
       "['6', '5', '5', '2']"
      ]
     },
     "execution_count": 33,
     "metadata": {},
     "output_type": "execute_result"
    }
   ],
   "source": [
    "answer_list.sort(reverse=True)\n",
    "answer_list"
   ]
  },
  {
   "cell_type": "code",
   "execution_count": 36,
   "metadata": {},
   "outputs": [
    {
     "data": {
      "text/plain": [
       "['6', '5', '5', '2']"
      ]
     },
     "execution_count": 36,
     "metadata": {},
     "output_type": "execute_result"
    }
   ],
   "source": [
    "answer_list"
   ]
  },
  {
   "cell_type": "code",
   "execution_count": 37,
   "metadata": {},
   "outputs": [
    {
     "data": {
      "text/plain": [
       "'6552'"
      ]
     },
     "execution_count": 37,
     "metadata": {},
     "output_type": "execute_result"
    }
   ],
   "source": [
    "''.join(answer_list)"
   ]
  },
  {
   "cell_type": "code",
   "execution_count": 21,
   "metadata": {},
   "outputs": [
    {
     "ename": "TypeError",
     "evalue": "sequence item 0: expected str instance, int found",
     "output_type": "error",
     "traceback": [
      "\u001b[1;31m---------------------------------------------------------------------------\u001b[0m",
      "\u001b[1;31mTypeError\u001b[0m                                 Traceback (most recent call last)",
      "\u001b[1;32mc:\\WorkSpace\\BeomJin\\2_SelfStudy\\TIL\\PRGMS\\LV.1\\PGMS_숫자_짝꿍.ipynb Cell 13\u001b[0m line \u001b[0;36m1\n\u001b[1;32m----> <a href='vscode-notebook-cell:/c%3A/WorkSpace/BeomJin/2_SelfStudy/TIL/PRGMS/LV.1/PGMS_%EC%88%AB%EC%9E%90_%EC%A7%9D%EA%BF%8D.ipynb#X15sZmlsZQ%3D%3D?line=0'>1</a>\u001b[0m answer \u001b[39m=\u001b[39m\u001b[39mint\u001b[39m(\u001b[39m'\u001b[39;49m\u001b[39m'\u001b[39;49m\u001b[39m.\u001b[39;49mjoin(answer_list))\n\u001b[0;32m      <a href='vscode-notebook-cell:/c%3A/WorkSpace/BeomJin/2_SelfStudy/TIL/PRGMS/LV.1/PGMS_%EC%88%AB%EC%9E%90_%EC%A7%9D%EA%BF%8D.ipynb#X15sZmlsZQ%3D%3D?line=1'>2</a>\u001b[0m answer\n",
      "\u001b[1;31mTypeError\u001b[0m: sequence item 0: expected str instance, int found"
     ]
    }
   ],
   "source": [
    "answer =int(\n",
    "answer"
   ]
  },
  {
   "cell_type": "code",
   "execution_count": 62,
   "metadata": {},
   "outputs": [
    {
     "data": {
      "text/plain": [
       "'203045'"
      ]
     },
     "execution_count": 62,
     "metadata": {},
     "output_type": "execute_result"
    }
   ],
   "source": [
    "Y"
   ]
  },
  {
   "cell_type": "code",
   "execution_count": 63,
   "metadata": {},
   "outputs": [
    {
     "data": {
      "text/plain": [
       "2"
      ]
     },
     "execution_count": 63,
     "metadata": {},
     "output_type": "execute_result"
    }
   ],
   "source": [
    "Y.count(\"0\")"
   ]
  },
  {
   "cell_type": "code",
   "execution_count": 72,
   "metadata": {},
   "outputs": [
    {
     "data": {
      "text/plain": [
       "[0, 0]"
      ]
     },
     "execution_count": 72,
     "metadata": {},
     "output_type": "execute_result"
    }
   ],
   "source": [
    "x_dict, y_dict = dict(), dict()\n",
    "answer_list = list()\n",
    "for i in range(10):\n",
    "    x_count = X.count(str(i))\n",
    "    y_count = Y.count(str(i))\n",
    "    if x_count != 0 and y_count != 0:\n",
    "        count = min(x_count, y_count)\n",
    "        answer_list += [i] * count\n",
    "answer_list"
   ]
  },
  {
   "cell_type": "code",
   "execution_count": 68,
   "metadata": {},
   "outputs": [
    {
     "data": {
      "text/plain": [
       "[1, 1]"
      ]
     },
     "execution_count": 68,
     "metadata": {},
     "output_type": "execute_result"
    }
   ],
   "source": [
    "[1] * 2"
   ]
  },
  {
   "cell_type": "code",
   "execution_count": 70,
   "metadata": {},
   "outputs": [
    {
     "data": {
      "text/plain": [
       "[0, 0]"
      ]
     },
     "execution_count": 70,
     "metadata": {},
     "output_type": "execute_result"
    }
   ],
   "source": [
    "answer_list = list()\n",
    "for i in range(10):\n",
    "    if x_dict[i] != 0 and y_dict != 0:\n",
    "        count = min(x_dict[i], y_dict[i])\n",
    "        answer_list += [i] * count\n",
    "answer_list"
   ]
  },
  {
   "cell_type": "markdown",
   "metadata": {},
   "source": [
    "## 다른 사람 풀이"
   ]
  },
  {
   "cell_type": "code",
   "execution_count": null,
   "metadata": {},
   "outputs": [],
   "source": [
    "def solution(X, Y):\n",
    "    answer = ''\n",
    "\n",
    "    for i in range(9,-1,-1) :\n",
    "        answer += (str(i) * min(X.count(str(i)), Y.count(str(i))))\n",
    "\n",
    "    if answer == '' :\n",
    "        return '-1'\n",
    "    elif len(answer) == answer.count('0'):\n",
    "        return '0'\n",
    "    else :\n",
    "        return answer"
   ]
  }
 ],
 "metadata": {
  "kernelspec": {
   "display_name": "Python 3",
   "language": "python",
   "name": "python3"
  },
  "language_info": {
   "codemirror_mode": {
    "name": "ipython",
    "version": 3
   },
   "file_extension": ".py",
   "mimetype": "text/x-python",
   "name": "python",
   "nbconvert_exporter": "python",
   "pygments_lexer": "ipython3",
   "version": "3.8.5"
  }
 },
 "nbformat": 4,
 "nbformat_minor": 2
}
