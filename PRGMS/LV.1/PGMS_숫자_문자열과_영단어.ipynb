{
 "cells": [
  {
   "cell_type": "markdown",
   "metadata": {},
   "source": [
    "# 숫자 문자열과 영단어\n",
    "\n",
    "난이도 : Lv.1\n",
    "\n",
    "[링크](https://school.programmers.co.kr/learn/courses/30/lessons/81301)"
   ]
  },
  {
   "cell_type": "markdown",
   "metadata": {},
   "source": [
    "## 문제 설명\n",
    "\n",
    "![img1.png](https://grepp-programmers.s3.ap-northeast-2.amazonaws.com/files/production/d31cb063-4025-4412-8cbc-6ac6909cf93e/img1.png)\n",
    "\n",
    "네오와 프로도가 숫자놀이를 하고 있습니다. 네오가 프로도에게 숫자를 건넬 때 일부 자릿수를 영단어로 바꾼 카드를 건네주면 프로도는 원래 숫자를 찾는 게임입니다.\n",
    "\n",
    "다음은 숫자의 일부 자릿수를 영단어로 바꾸는 예시입니다.\n",
    "\n",
    "- 1478 → \"one4seveneight\"\n",
    "- 234567 → \"23four5six7\"\n",
    "- 10203 → \"1zerotwozero3\"\n",
    "\n",
    "이렇게 숫자의 일부 자릿수가 영단어로 바뀌어졌거나, 혹은 바뀌지 않고 그대로인 문자열 `s`가 매개변수로 주어집니다. `s`가 의미하는 원래 숫자를 return 하도록 solution 함수를 완성해주세요.\n",
    "\n",
    "참고로 각 숫자에 대응되는 영단어는 다음 표와 같습니다.\n",
    "\n",
    "| 숫자 | 영단어 |\n",
    "| ---- | ------ |\n",
    "| 0    | zero   |\n",
    "| 1    | one    |\n",
    "| 2    | two    |\n",
    "| 3    | three  |\n",
    "| 4    | four   |\n",
    "| 5    | five   |\n",
    "| 6    | six    |\n",
    "| 7    | seven  |\n",
    "| 8    | eight  |\n",
    "| 9    | nine   |"
   ]
  },
  {
   "cell_type": "markdown",
   "metadata": {},
   "source": [
    "## 제한사항\n",
    "\n",
    "- 1 ≤ `s`의 길이 ≤ 50\n",
    "- `s`가 \"zero\" 또는 \"0\"으로 시작하는 경우는 주어지지 않습니다.\n",
    "- return 값이 1 이상 2,000,000,000 이하의 정수가 되는 올바른 입력만 `s`로 주어집니다."
   ]
  },
  {
   "cell_type": "markdown",
   "metadata": {},
   "source": [
    "## 입출력 예\n",
    "\n",
    "| s                    | result |\n",
    "| -------------------- | ------ |\n",
    "| `\"one4seveneight\"`   | 1478   |\n",
    "| `\"23four5six7\"`      | 234567 |\n",
    "| `\"2three45sixseven\"` | 234567 |\n",
    "| `\"123\"`              | 123    |"
   ]
  },
  {
   "cell_type": "markdown",
   "metadata": {},
   "source": [
    "## 입출력 예 설명\n",
    "\n",
    "**입출력 예 #1**\n",
    "\n",
    "- 문제 예시와 같습니다.\n",
    "\n",
    "**입출력 예 #2**\n",
    "\n",
    "- 문제 예시와 같습니다.\n",
    "\n",
    "**입출력 예 #3**\n",
    "\n",
    "- \"three\"는 3, \"six\"는 6, \"seven\"은 7에 대응되기 때문에 정답은 입출력 예 #2와 같은 234567이 됩니다.\n",
    "- 입출력 예 #2와 #3과 같이 같은 정답을 가리키는 문자열이 여러 가지가 나올 수 있습니다.\n",
    "\n",
    "**입출력 예 #4**\n",
    "\n",
    "- `s`에는 영단어로 바뀐 부분이 없습니다."
   ]
  },
  {
   "cell_type": "markdown",
   "metadata": {},
   "source": [
    "## 제한시간 안내\n",
    "\n",
    "- 정확성 테스트 : 10초"
   ]
  },
  {
   "cell_type": "markdown",
   "metadata": {},
   "source": [
    "## 정답"
   ]
  },
  {
   "cell_type": "code",
   "execution_count": null,
   "metadata": {},
   "outputs": [],
   "source": [
    "def solution(s):\n",
    "    temp = \"\"\n",
    "    answer = \"\"\n",
    "    \n",
    "    num_dict = {\"zero\":0, \"one\":1, \"two\":2, \"three\":3, \"four\":4, \"five\":5, \"six\":6, \"seven\":7, \"eight\":8, \"nine\":9}\n",
    "    \n",
    "    for i in s:\n",
    "    \n",
    "        try :\n",
    "            int(i)\n",
    "            answer += i\n",
    "        except:\n",
    "            temp += i\n",
    "            if temp in num_dict.keys():\n",
    "                answer += str(num_dict[temp])\n",
    "                temp = \"\"\n",
    "                \n",
    "    return int(answer)"
   ]
  },
  {
   "cell_type": "markdown",
   "metadata": {},
   "source": [
    "## 연습"
   ]
  },
  {
   "cell_type": "code",
   "execution_count": 5,
   "metadata": {},
   "outputs": [],
   "source": [
    "# 변수 설정\n",
    "s = \"23four5six7\""
   ]
  },
  {
   "cell_type": "code",
   "execution_count": 2,
   "metadata": {},
   "outputs": [
    {
     "data": {
      "text/plain": [
       "{'zero': 0,\n",
       " 'one': 1,\n",
       " 'two': 2,\n",
       " 'three': 3,\n",
       " 'four': 4,\n",
       " 'five': 5,\n",
       " 'six': 6,\n",
       " 'seven': 7,\n",
       " 'eight': 8,\n",
       " 'nine': 9}"
      ]
     },
     "execution_count": 2,
     "metadata": {},
     "output_type": "execute_result"
    }
   ],
   "source": [
    "num_dict = {\"zero\":0, \"one\":1, \"two\":2, \"three\":3, \"four\":4, \"five\":5, \"six\":6, \"seven\":7, \"eight\":8, \"nine\":9}\n",
    "num_dict"
   ]
  },
  {
   "cell_type": "code",
   "execution_count": 9,
   "metadata": {},
   "outputs": [
    {
     "name": "stdout",
     "output_type": "stream",
     "text": [
      "234567\n",
      "\n"
     ]
    }
   ],
   "source": [
    "temp = \"\"\n",
    "answer = \"\"\n",
    "for i in s:\n",
    "    \n",
    "    try :\n",
    "        int(i)\n",
    "        answer += i\n",
    "    except:\n",
    "        temp += i\n",
    "        if temp in num_dict.keys():\n",
    "            answer += str(num_dict[temp])\n",
    "            temp = \"\"\n",
    "    \n",
    "print(answer)\n",
    "print(temp)"
   ]
  },
  {
   "cell_type": "markdown",
   "metadata": {},
   "source": [
    "## 다른 사람 풀이"
   ]
  },
  {
   "cell_type": "code",
   "execution_count": null,
   "metadata": {},
   "outputs": [],
   "source": [
    "num_dic = {\"zero\":\"0\", \"one\":\"1\", \"two\":\"2\", \"three\":\"3\", \"four\":\"4\", \"five\":\"5\", \"six\":\"6\", \"seven\":\"7\", \"eight\":\"8\", \"nine\":\"9\"}\n",
    "\n",
    "def solution(s):\n",
    "    answer = s\n",
    "    for key, value in num_dic.items():\n",
    "        answer = answer.replace(key, value)\n",
    "    return int(answer)"
   ]
  }
 ],
 "metadata": {
  "kernelspec": {
   "display_name": "Python 3",
   "language": "python",
   "name": "python3"
  },
  "language_info": {
   "codemirror_mode": {
    "name": "ipython",
    "version": 3
   },
   "file_extension": ".py",
   "mimetype": "text/x-python",
   "name": "python",
   "nbconvert_exporter": "python",
   "pygments_lexer": "ipython3",
   "version": "3.8.5"
  }
 },
 "nbformat": 4,
 "nbformat_minor": 2
}
