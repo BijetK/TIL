{
 "cells": [
  {
   "cell_type": "markdown",
   "metadata": {},
   "source": [
    "# 푸드 파이트 대회\n",
    "\n",
    "난이도 : Lv.1\n",
    "\n",
    "[링크](https://school.programmers.co.kr/learn/courses/30/lessons/134240)"
   ]
  },
  {
   "cell_type": "markdown",
   "metadata": {},
   "source": [
    "## 문제 설명\n",
    "\n",
    "수웅이는 매달 주어진 음식을 빨리 먹는 푸드 파이트 대회를 개최합니다. 이 대회에서 선수들은 1대 1로 대결하며, 매 대결마다 음식의 종류와 양이 바뀝니다. 대결은 준비된 음식들을 일렬로 배치한 뒤, 한 선수는 제일 왼쪽에 있는 음식부터 오른쪽으로, 다른 선수는 제일 오른쪽에 있는 음식부터 왼쪽으로 순서대로 먹는 방식으로 진행됩니다. 중앙에는 물을 배치하고, 물을 먼저 먹는 선수가 승리하게 됩니다.\n",
    "\n",
    "이때, 대회의 공정성을 위해 두 선수가 먹는 음식의 종류와 양이 같아야 하며, 음식을 먹는 순서도 같아야 합니다. 또한, 이번 대회부터는 칼로리가 낮은 음식을 먼저 먹을 수 있게 배치하여 선수들이 음식을 더 잘 먹을 수 있게 하려고 합니다. 이번 대회를 위해 수웅이는 음식을 주문했는데, 대회의 조건을 고려하지 않고 음식을 주문하여 몇 개의 음식은 대회에 사용하지 못하게 되었습니다.\n",
    "\n",
    "예를 들어, 3가지의 음식이 준비되어 있으며, 칼로리가 적은 순서대로 1번 음식을 3개, 2번 음식을 4개, 3번 음식을 6개 준비했으며, 물을 편의상 0번 음식이라고 칭한다면, 두 선수는 1번 음식 1개, 2번 음식 2개, 3번 음식 3개씩을 먹게 되므로 음식의 배치는 \"1223330333221\"이 됩니다. 따라서 1번 음식 1개는 대회에 사용하지 못합니다.\n",
    "\n",
    "수웅이가 준비한 음식의 양을 칼로리가 적은 순서대로 나타내는 정수 배열 `food`가 주어졌을 때, 대회를 위한 음식의 배치를 나타내는 문자열을 return 하는 solution 함수를 완성해주세요."
   ]
  },
  {
   "cell_type": "markdown",
   "metadata": {},
   "source": [
    "## 제한사항\n",
    "\n",
    "- 2 ≤ `food`의 길이 ≤ 9\n",
    "- 1 ≤ `food`의 각 원소 ≤ 1,000\n",
    "- `food`에는 칼로리가 적은 순서대로 음식의 양이 담겨 있습니다.\n",
    "- `food[i]`는 i번 음식의 수입니다.\n",
    "- `food[0]`은 수웅이가 준비한 물의 양이며, 항상 1입니다.\n",
    "- 정답의 길이가 3 이상인 경우만 입력으로 주어집니다."
   ]
  },
  {
   "cell_type": "markdown",
   "metadata": {},
   "source": [
    "## 입출력 예\n",
    "\n",
    "| food         | result          |\n",
    "| ------------ | --------------- |\n",
    "| [1, 3, 4, 6] | \"1223330333221\" |\n",
    "| [1, 7, 1, 2] | \"111303111\"     |"
   ]
  },
  {
   "cell_type": "markdown",
   "metadata": {},
   "source": [
    "## 입출력 예 설명\n",
    "\n",
    "**입출력 예 #1**\n",
    "\n",
    "- 문제 예시와 같습니다.\n",
    "\n",
    "**입출력 예 #2**\n",
    "\n",
    "- 두 선수는 1번 음식 3개, 3번 음식 1개를 먹게 되므로 음식의 배치는 \"111303111\"입니다."
   ]
  },
  {
   "cell_type": "markdown",
   "metadata": {},
   "source": [
    "## 정답"
   ]
  },
  {
   "cell_type": "code",
   "execution_count": null,
   "metadata": {},
   "outputs": [],
   "source": [
    "def solution(food):\n",
    "    \n",
    "    food_dict = dict()\n",
    "    for i in range(1, len(food)):\n",
    "        food_dict[i] = food[i]\n",
    "        \n",
    "    food_order = \"\"\n",
    "\n",
    "    for food_no, food_count in food_dict.items():\n",
    "        real_food_count = int(food_count) // 2\n",
    "        \n",
    "        food_order += str(food_no) * real_food_count\n",
    "        \n",
    "    return food_order + \"0\" + food_order[::-1]"
   ]
  },
  {
   "cell_type": "markdown",
   "metadata": {},
   "source": [
    "## 연습"
   ]
  },
  {
   "cell_type": "code",
   "execution_count": 1,
   "metadata": {},
   "outputs": [],
   "source": [
    "# 변수 설정\n",
    "food = [1, 3, 4, 6]"
   ]
  },
  {
   "cell_type": "code",
   "execution_count": 2,
   "metadata": {},
   "outputs": [
    {
     "data": {
      "text/plain": [
       "{1: 3, 2: 4, 3: 6}"
      ]
     },
     "execution_count": 2,
     "metadata": {},
     "output_type": "execute_result"
    }
   ],
   "source": [
    "food_dict = dict()\n",
    "for i in range(1, len(food)):\n",
    "    food_dict[i] = food[i]\n",
    "    \n",
    "food_dict"
   ]
  },
  {
   "cell_type": "code",
   "execution_count": 8,
   "metadata": {},
   "outputs": [
    {
     "data": {
      "text/plain": [
       "'1223330333221'"
      ]
     },
     "execution_count": 8,
     "metadata": {},
     "output_type": "execute_result"
    }
   ],
   "source": [
    "food_order = \"\"\n",
    "\n",
    "for food_no, food_count in food_dict.items():\n",
    "    real_food_count = int(food_count) // 2\n",
    "    \n",
    "    food_order += str(food_no) * real_food_count\n",
    "    \n",
    "food_order + \"0\" + food_order[::-1]"
   ]
  },
  {
   "cell_type": "code",
   "execution_count": 6,
   "metadata": {},
   "outputs": [
    {
     "data": {
      "text/plain": [
       "'333221'"
      ]
     },
     "execution_count": 6,
     "metadata": {},
     "output_type": "execute_result"
    }
   ],
   "source": [
    "food_order[::-1]"
   ]
  },
  {
   "cell_type": "code",
   "execution_count": 3,
   "metadata": {},
   "outputs": [
    {
     "data": {
      "text/plain": [
       "1"
      ]
     },
     "execution_count": 3,
     "metadata": {},
     "output_type": "execute_result"
    }
   ],
   "source": [
    "3 // 2"
   ]
  },
  {
   "cell_type": "markdown",
   "metadata": {},
   "source": [
    "## 다른 사람 풀이"
   ]
  },
  {
   "cell_type": "code",
   "execution_count": null,
   "metadata": {},
   "outputs": [],
   "source": [
    "def solution(food):\n",
    "    answer =\"0\"\n",
    "    for i in range(len(food)-1, 0,-1):\n",
    "        c = int(food[i]/2)\n",
    "        while c>0:\n",
    "            answer = str(i) + answer + str(i)\n",
    "            c -= 1\n",
    "    return answer"
   ]
  }
 ],
 "metadata": {
  "kernelspec": {
   "display_name": "Python 3",
   "language": "python",
   "name": "python3"
  },
  "language_info": {
   "codemirror_mode": {
    "name": "ipython",
    "version": 3
   },
   "file_extension": ".py",
   "mimetype": "text/x-python",
   "name": "python",
   "nbconvert_exporter": "python",
   "pygments_lexer": "ipython3",
   "version": "3.8.5"
  }
 },
 "nbformat": 4,
 "nbformat_minor": 2
}
