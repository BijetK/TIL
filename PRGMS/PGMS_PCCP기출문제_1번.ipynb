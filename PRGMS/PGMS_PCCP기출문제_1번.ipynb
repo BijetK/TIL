{
 "cells": [
  {
   "cell_type": "markdown",
   "metadata": {},
   "source": [
    "# [PCCP 기출문제] 1번\n",
    "\n",
    "[링크](https://school.programmers.co.kr/learn/courses/30/lessons/250137)"
   ]
  },
  {
   "cell_type": "markdown",
   "metadata": {},
   "source": [
    "## 문제설명\n",
    "\n",
    "어떤 게임에는 `붕대 감기`라는 기술이 있습니다.\n",
    "\n",
    "`붕대 감기`는 `t`초 동안 붕대를 감으면서 1초마다 `x`만큼의 체력을 회복합니다. `t`초 연속으로 붕대를 감는 데 성공한다면 `y`만큼의 체력을 추가로 회복합니다. 게임 캐릭터에는 최대 체력이 존재해 현재 체력이 최대 체력보다 커지는 것은 불가능합니다.\n",
    "\n",
    "기술을 쓰는 도중 몬스터에게 공격을 당하면 기술이 취소되고, 공격을 당하는 순간에는 체력을 회복할 수 없습니다. 몬스터에게 공격당해 기술이 취소당하거나 기술이 끝나면 그 즉시 `붕대 감기`를 다시 사용하며, 연속 성공 시간이 0으로 초기화됩니다.\n",
    "\n",
    "몬스터의 공격을 받으면 정해진 피해량만큼 현재 체력이 줄어듭니다. 이때, 현재 체력이 0 이하가 되면 캐릭터가 죽으며 더 이상 체력을 회복할 수 없습니다.\n",
    "\n",
    "당신은 `붕대감기` 기술의 정보, 캐릭터가 가진 최대 체력과 몬스터의 공격 패턴이 주어질 때 캐릭터가 끝까지 생존할 수 있는지 궁금합니다.\n",
    "\n",
    "`붕대 감기` 기술의 시전 시간, 1초당 회복량, 추가 회복량을 담은 1차원 정수 배열 `bandage`와 최대 체력을 의미하는 정수 `health`, 몬스터의 공격 시간과 피해량을 담은 2차원 정수 배열 `attacks`가 매개변수로 주어집니다. 모든 공격이 끝난 직후 남은 체력을 return 하도록 solution 함수를 완성해 주세요. **만약 몬스터의 공격을 받고 캐릭터의 체력이 0 이하가 되어 죽는다면 -1을 return 해주세요.**"
   ]
  },
  {
   "cell_type": "markdown",
   "metadata": {},
   "source": [
    "## 제한사항\n",
    "\n",
    "- `bandage`는 [`시전 시간`, `초당 회복량`, `추가 회복량`] 형태의 길이가 3인 정수 배열입니다.\n",
    "    - 1 ≤ `시전 시간` = `t` ≤ 50\n",
    "    - 1 ≤ `초당 회복량` = `x` ≤ 100\n",
    "    - 1 ≤ `추가 회복량` = `y` ≤ 100\n",
    "- 1 ≤ `health` ≤ 1,000\n",
    "- 1 ≤ `attacks`의 길이 ≤ 100\n",
    "    - `attacks[i]`는 [`공격 시간`, `피해량`] 형태의 길이가 2인 정수 배열입니다.\n",
    "    - `attacks`는 `공격 시간`을 기준으로 오름차순 정렬된 상태입니다.\n",
    "    - `attacks`의 `공격 시간`은 모두 다릅니다.\n",
    "    - 1 ≤ `공격 시간` ≤ 1,000\n",
    "    - 1 ≤ `피해량` ≤ 100"
   ]
  },
  {
   "cell_type": "markdown",
   "metadata": {},
   "source": [
    "## 입출력 예\n",
    "\n",
    "| bandage   | health | attacks                              | result |\n",
    "| --------- | ------ | ------------------------------------ | ------ |\n",
    "| [5, 1, 5] | 30     | [[2, 10], [9, 15], [10, 5], [11, 5]] | 5      |\n",
    "| [3, 2, 7] | 20     | [[1, 15], [5, 16], [8, 6]]           | -1     |\n",
    "| [4, 2, 7] | 20     | [[1, 15], [5, 16], [8, 6]]           | -1     |\n",
    "| [1, 1, 1] | 5      | [[1, 2], [3, 2]]                     | 3      |"
   ]
  },
  {
   "cell_type": "markdown",
   "metadata": {},
   "source": [
    "## 입출력 예 설명\n",
    "\n",
    "**입출력 예 #1**\n",
    "\n",
    "몬스터의 마지막 공격은 11초에 이루어집니다. 0초부터 11초까지 캐릭터의 상태는 아래 표와 같습니다.\n",
    "\n",
    "| 시간 | 현재 체력(변화량) | 연속 성공 | 공격 | 설명                                                         |\n",
    "| ---- | ----------------- | --------- | ---- | ------------------------------------------------------------ |\n",
    "| 0    | 30                | 0         | X    | 초기 상태                                                    |\n",
    "| 1    | 30(+0)            | 1         | X    | 최대 체력 이상의 체력을 가질 수 없습니다.                    |\n",
    "| 2    | 20(-10)           | 0         | O    | 몬스터의 공격으로 연속 성공이 초기화됩니다.                  |\n",
    "| 3    | 21(+1)            | 1         | X    |                                                              |\n",
    "| 4    | 22(+1)            | 2         | X    |                                                              |\n",
    "| 5    | 23(+1)            | 3         | X    |                                                              |\n",
    "| 6    | 24(+1)            | 4         | X    |                                                              |\n",
    "| 7    | 30(+6)            | 5 → 0     | X    | 5초 연속 성공해 체력을 5만큼 추가 회복하고 연속 성공이 초기화됩니다. |\n",
    "| 8    | 30(+0)            | 1         | X    | 최대 체력 이상의 체력을 가질 수 없습니다.                    |\n",
    "| 9    | 15(-15)           | 0         | O    | 몬스터의 공격으로 연속 성공이 초기화됩니다.                  |\n",
    "| 10   | 10(-5)            | 0         | O    | 몬스터의 공격으로 연속 성공이 초기화됩니다.                  |\n",
    "| 11   | 5(-5)             | 0         | O    | 몬스터의 마지막 공격입니다.                                  |\n",
    "\n",
    "몬스터의 마지막 공격 직후 캐릭터의 체력은 5입니다. 따라서 `5`을 return 해야 합니다.\n",
    "\n",
    "**입출력 예 #2**\n",
    "\n",
    "몬스터의 마지막 공격은 8초에 이루어집니다. 0초부터 8초까지 캐릭터의 상태는 아래 표와 같습니다.\n",
    "\n",
    "| 시간 | 현재 체력(변화량) | 연속 성공 | 공격 | 설명                                                         |\n",
    "| ---- | ----------------- | --------- | ---- | ------------------------------------------------------------ |\n",
    "| 0    | 20                | 0         | X    | 초기 상태                                                    |\n",
    "| 1    | 5(-15)            | 0         | O    | 몬스터의 공격으로 연속 성공이 초기화됩니다.                  |\n",
    "| 2    | 7(+2)             | 1         | X    |                                                              |\n",
    "| 3    | 9(+2)             | 2         | X    |                                                              |\n",
    "| 4    | 18(+9)            | 3 → 0     | X    | 3초 연속 성공해 체력을 7만큼 추가 회복하고 연속 성공이 초기화됩니다. |\n",
    "| 5    | 2(-16)            | 0         | O    | 몬스터의 공격으로 연속 성공이 초기화됩니다.                  |\n",
    "| 6    | 4(+2)             | 1         | X    |                                                              |\n",
    "| 7    | 6(+2)             | 2         | X    |                                                              |\n",
    "| 8    | 0(-6)             | 0         | O    | 몬스터의 마지막 공격을 받아 캐릭터의 체력이 0 이하가 됩니다. |\n",
    "\n",
    "몬스터의 공격을 받아 캐릭터의 체력이 0 이하가 됩니다. 따라서 `-1`을 return 해야 합니다.\n",
    "\n",
    "**입출력 예 #3**\n",
    "\n",
    "몬스터의 마지막 공격은 8초에 이루어집니다. 0초부터 5초까지 캐릭터의 상태는 아래 표와 같습니다.\n",
    "\n",
    "| 시간 | 현재 체력(변화량) | 연속 성공 | 공격 | 설명                                                  |\n",
    "| ---- | ----------------- | --------- | ---- | ----------------------------------------------------- |\n",
    "| 0    | 20                | 0         | X    | 초기 상태                                             |\n",
    "| 1    | 5(-15)            | 0         | O    | 몬스터의 공격으로 연속 성공이 초기화됩니다.           |\n",
    "| 2    | 7(+2)             | 1         | X    |                                                       |\n",
    "| 3    | 9(+2)             | 2         | X    |                                                       |\n",
    "| 4    | 11(+2)            | 3         | X    |                                                       |\n",
    "| 5    | -5(-16)           | 0         | O    | 몬스터의 공격을 받아 캐릭터의 체력이 0 이하가 됩니다. |\n",
    "\n",
    "몬스터의 공격을 받아 캐릭터의 체력이 0 이하가 됩니다. 따라서 `-1`을 return 해야 합니다.\n",
    "\n",
    "**입출력 예 #4**\n",
    "\n",
    "몬스터의 마지막 공격은 3초에 이루어집니다. 0초부터 3초까지 캐릭터의 상태는 아래 표와 같습니다.\n",
    "\n",
    "| 시간 | 현재 체력(변화량) | 연속 성공 | 공격 | 설명                                                         |\n",
    "| ---- | ----------------- | --------- | ---- | ------------------------------------------------------------ |\n",
    "| 0    | 5                 | 0         | X    | 초기 상태                                                    |\n",
    "| 1    | 3(-2)             | 0         | O    | 몬스터의 공격으로 연속 성공이 초기화됩니다.                  |\n",
    "| 2    | 5(+2)             | 1 → 0     | X    | 1초 연속 성공해 체력을 1만큼 추가 회복하고 연속 성공이 초기화됩니다. |\n",
    "| 3    | 3(-2)             | 0         | O    | 몬스터의 마지막 공격입니다.                                  |\n",
    "\n",
    "몬스터의 마지막 공격 직후 캐릭터의 체력은 3입니다. 따라서 `3`을 return 해야 합니다."
   ]
  },
  {
   "cell_type": "markdown",
   "metadata": {},
   "source": [
    "## 정답"
   ]
  },
  {
   "cell_type": "code",
   "execution_count": 1,
   "metadata": {},
   "outputs": [],
   "source": [
    "def heal(bandage_time, current_heal_time, bandage_basic_heal, bandage_adv_heal):\n",
    "    result_heal = 0\n",
    "    if current_heal_time == bandage_time:\n",
    "        result_heal += bandage_adv_heal\n",
    "        current_heal_time = 0\n",
    "    result_heal += bandage_basic_heal\n",
    "    \n",
    "    return result_heal, current_heal_time\n",
    "\n",
    "def solution(bandage, health, attacks):\n",
    "    # 공격에 대한 정보를 담은 딕셔너리\n",
    "    attack_dict = dict()\n",
    "    for attack in attacks:\n",
    "        attack_dict[attack[0]] = attack[1]\n",
    "    # 마지막 공격 시간\n",
    "    final_attack_time = attacks[-1][0]\n",
    "    # 최대체력은 시작할때의 체력\n",
    "    max_health = health\n",
    "    # 시전시간, 가본힐량, 추가힐량\n",
    "    bandage_time, bandage_basic_heal, bandage_adv_heal = bandage\n",
    "    \n",
    "    current_heal_time = 0\n",
    "    \n",
    "    for battle_time in range(1, final_attack_time+1):\n",
    "        \n",
    "        # 1. 현재 battle time에 몬스터에 공격이 있는지 확인\n",
    "        if battle_time in attack_dict.keys():\n",
    "            health -= attack_dict[battle_time]\n",
    "            current_heal_time = 0\n",
    "            \n",
    "        else:\n",
    "            current_heal_time += 1\n",
    "            result_heal, current_heal_time = heal(bandage_time, current_heal_time, bandage_basic_heal, bandage_adv_heal)\n",
    "            health += result_heal\n",
    "            \n",
    "            if health >= max_health:\n",
    "                health = max_health\n",
    "            \n",
    "        if health <= 0:\n",
    "            return -1\n",
    "\n",
    "    return health"
   ]
  },
  {
   "cell_type": "code",
   "execution_count": 2,
   "metadata": {},
   "outputs": [
    {
     "data": {
      "text/plain": [
       "3"
      ]
     },
     "execution_count": 2,
     "metadata": {},
     "output_type": "execute_result"
    }
   ],
   "source": [
    "bandage = [1, 1, 1]\n",
    "health = 5\n",
    "attacks = [[1, 2], [3, 2]]\n",
    "\n",
    "solution(bandage, health, attacks)"
   ]
  },
  {
   "cell_type": "markdown",
   "metadata": {},
   "source": [
    "## 다른 사람 풀이"
   ]
  },
  {
   "cell_type": "code",
   "execution_count": 3,
   "metadata": {},
   "outputs": [],
   "source": [
    "def solution1(bandage, health, attacks):\n",
    "    currentHealth = health  # 현재 체력\n",
    "    success = 0             # 연속 성공\n",
    "    attack = False\n",
    "    bandageTime, recoveryBySecond, additionalRecovery = bandage\n",
    "\n",
    "    attacksSecond = [ attack[0] for attack in attacks ]     # 공격을 받은 시간\n",
    "\n",
    "    print(f\"{0} {currentHealth} {success} {attack}\")\n",
    "    for second in range(1, attacksSecond[-1]+1):\n",
    "        if second in attacksSecond:     # 공격 받음\n",
    "            attack = True\n",
    "            success = 0     # 기술 취소\n",
    "            currentHealth -= attacks[attacksSecond.index(second)][1]    # 공격 피해\n",
    "        else:\n",
    "            attack = False\n",
    "            currentHealth += recoveryBySecond   # 초당 회복\n",
    "            success += 1\n",
    "            if success >= bandageTime:          # 연속 성공이면 추가 회복\n",
    "                currentHealth += additionalRecovery\n",
    "                success = 0\n",
    "            if currentHealth > health:          # 최대 체력 보정\n",
    "                currentHealth = health\n",
    "        print(f\"{second} {currentHealth} {success} {attack}\")\n",
    "        if currentHealth <= 0:\n",
    "            return -1\n",
    "    return currentHealth"
   ]
  },
  {
   "cell_type": "code",
   "execution_count": 4,
   "metadata": {},
   "outputs": [
    {
     "name": "stdout",
     "output_type": "stream",
     "text": [
      "0 5 0 False\n",
      "1 3 0 True\n",
      "2 5 0 False\n",
      "3 3 0 True\n"
     ]
    },
    {
     "data": {
      "text/plain": [
       "3"
      ]
     },
     "execution_count": 4,
     "metadata": {},
     "output_type": "execute_result"
    }
   ],
   "source": [
    "bandage = [1, 1, 1]\n",
    "health = 5\n",
    "attacks = [[1, 2], [3, 2]]\n",
    "\n",
    "solution1(bandage, health, attacks)"
   ]
  }
 ],
 "metadata": {
  "kernelspec": {
   "display_name": "Python 3",
   "language": "python",
   "name": "python3"
  },
  "language_info": {
   "codemirror_mode": {
    "name": "ipython",
    "version": 3
   },
   "file_extension": ".py",
   "mimetype": "text/x-python",
   "name": "python",
   "nbconvert_exporter": "python",
   "pygments_lexer": "ipython3",
   "version": "3.8.5"
  }
 },
 "nbformat": 4,
 "nbformat_minor": 2
}
