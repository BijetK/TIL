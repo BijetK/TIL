{
 "cells": [
  {
   "cell_type": "code",
   "execution_count": 10,
   "metadata": {},
   "outputs": [
    {
     "data": {
      "text/plain": [
       "[0,\n",
       " 0,\n",
       " 0,\n",
       " 0,\n",
       " 0,\n",
       " 0,\n",
       " 0,\n",
       " 0,\n",
       " 0,\n",
       " 0,\n",
       " 0,\n",
       " 0,\n",
       " 0,\n",
       " 0,\n",
       " 0,\n",
       " 1,\n",
       " 0,\n",
       " 0,\n",
       " 0,\n",
       " 0,\n",
       " 0,\n",
       " 0,\n",
       " 0,\n",
       " 0,\n",
       " 0,\n",
       " 0,\n",
       " 1,\n",
       " 0,\n",
       " 0,\n",
       " 0,\n",
       " 1,\n",
       " 0,\n",
       " 1,\n",
       " 0,\n",
       " 0,\n",
       " 0,\n",
       " 0,\n",
       " 0,\n",
       " 2,\n",
       " 0,\n",
       " 1,\n",
       " 0,\n",
       " 0,\n",
       " 3,\n",
       " 1,\n",
       " 0,\n",
       " 0,\n",
       " 0,\n",
       " 0,\n",
       " 0,\n",
       " 0,\n",
       " 0]"
      ]
     },
     "execution_count": 10,
     "metadata": {},
     "output_type": "execute_result"
    }
   ],
   "source": [
    "answer = list()\n",
    "my_string = \"Programmers\"\t\n",
    "\n",
    "for alphabet in [\"a\", \"b\", \"c\", \"d\", \"e\",\"f\",\"g\",\"h\",\"i\",\"j\",\"k\",\"l\",\"m\",\"n\",\"o\",\"p\",\"q\",\"r\",\"s\",\"t\",\"u\",\"v\",\"w\",\"x\",\"y\",\"z\"]:\n",
    "    answer.append(my_string.count(alphabet.upper()))\n",
    "    \n",
    "for alphabet in [\"a\", \"b\", \"c\", \"d\", \"e\",\"f\",\"g\",\"h\",\"i\",\"j\",\"k\",\"l\",\"m\",\"n\",\"o\",\"p\",\"q\",\"r\",\"s\",\"t\",\"u\",\"v\",\"w\",\"x\",\"y\",\"z\"]:\n",
    "    answer.append(my_string.count(alphabet))\n",
    "\n",
    "\n",
    "    \n",
    "answer"
   ]
  },
  {
   "cell_type": "code",
   "execution_count": 22,
   "metadata": {},
   "outputs": [
    {
     "data": {
      "text/plain": [
       "3"
      ]
     },
     "execution_count": 22,
     "metadata": {},
     "output_type": "execute_result"
    }
   ],
   "source": [
    "arr = [1, 0, 0, 1, 0, 0]\n",
    "idx = 0\n",
    "answer = -1\n",
    "arr = arr[idx:]\n",
    "for index, elmt in enumerate(arr):\n",
    "    if elmt == 1:\n",
    "        answer = idx + index\n",
    "        break\n",
    "answer"
   ]
  },
  {
   "cell_type": "code",
   "execution_count": 23,
   "metadata": {},
   "outputs": [
    {
     "data": {
      "text/plain": [
       "[1, 0, 0, 1, 0, 0]"
      ]
     },
     "execution_count": 23,
     "metadata": {},
     "output_type": "execute_result"
    }
   ],
   "source": [
    "arr = [1, 0, 0, 1, 0, 0]\n",
    "idx = 0\n",
    "arr = arr[idx:]\n",
    "arr"
   ]
  },
  {
   "cell_type": "code",
   "execution_count": 32,
   "metadata": {},
   "outputs": [
    {
     "data": {
      "text/plain": [
       "[2, 4, 6]"
      ]
     },
     "execution_count": 32,
     "metadata": {},
     "output_type": "execute_result"
    }
   ],
   "source": [
    "n = 3\n",
    "slicer = [1,5,2]\n",
    "num_list = [1,2,3,4,5,6,7,8,9]\n",
    "\n",
    "num_list[1:5+1:2]"
   ]
  },
  {
   "cell_type": "code",
   "execution_count": 41,
   "metadata": {},
   "outputs": [],
   "source": [
    "arr= \t[0, 1, 2, 3, 4, 5]\n",
    "query = [4,1,2]\n"
   ]
  },
  {
   "cell_type": "code",
   "execution_count": 46,
   "metadata": {},
   "outputs": [
    {
     "name": "stdout",
     "output_type": "stream",
     "text": [
      "0 4\n",
      "[0, 1, 2, 3, 4]\n",
      "1 1\n",
      "[1, 2, 3, 4]\n",
      "2 2\n",
      "[1, 2, 3]\n"
     ]
    },
    {
     "data": {
      "text/plain": [
       "[1, 2, 3]"
      ]
     },
     "execution_count": 46,
     "metadata": {},
     "output_type": "execute_result"
    }
   ],
   "source": [
    "arr= [0, 1, 2, 3, 4, 5]\n",
    "for index, que in enumerate(query):\n",
    "    print(index, que)\n",
    "    if index % 2 == 0:\n",
    "        arr = arr[:que+1]\n",
    "    else:\n",
    "        arr = arr[que:]\n",
    "    print(arr)\n",
    "arr"
   ]
  },
  {
   "cell_type": "code",
   "execution_count": 51,
   "metadata": {},
   "outputs": [
    {
     "data": {
      "text/plain": [
       "12"
      ]
     },
     "execution_count": 51,
     "metadata": {},
     "output_type": "execute_result"
    }
   ],
   "source": [
    "box = [10, 8, 6]\n",
    "n = 3\n",
    "\n",
    "garo = (box[0] // n)\n",
    "sero = (box[1] // n)\n",
    "nopi = (box[2] // n)\n",
    "answer = int(garo*sero*nopi)\n",
    "answer"
   ]
  },
  {
   "cell_type": "code",
   "execution_count": 56,
   "metadata": {},
   "outputs": [],
   "source": [
    "n = 7\n",
    "answer = 1\n",
    "i = 0\n",
    "while answer <= n:\n",
    "    i += 1\n",
    "    answer *= i\n",
    "    \n"
   ]
  },
  {
   "cell_type": "code",
   "execution_count": 65,
   "metadata": {},
   "outputs": [
    {
     "data": {
      "text/plain": [
       "5"
      ]
     },
     "execution_count": 65,
     "metadata": {},
     "output_type": "execute_result"
    }
   ],
   "source": [
    "10 // 2"
   ]
  },
  {
   "cell_type": "code",
   "execution_count": 70,
   "metadata": {},
   "outputs": [],
   "source": [
    "n = 17\n",
    "answer = []\n",
    "for i in range(2, n+1):\n",
    "    if i % 2 == 0:\n",
    "        # 짝수일때\n",
    "        if i == 2:\n",
    "            while True:\n",
    "                if n % i == 0:\n",
    "                    n = n / i\n",
    "                    answer.append(i)\n",
    "                else:\n",
    "                    break\n",
    "        else:\n",
    "            continue\n",
    "    else:\n",
    "        while True:\n",
    "            if n % i == 0:\n",
    "                n = n / i\n",
    "                answer.append(i)\n",
    "            else:\n",
    "                break"
   ]
  },
  {
   "cell_type": "code",
   "execution_count": 74,
   "metadata": {},
   "outputs": [
    {
     "data": {
      "text/plain": [
       "{'mumu': 0, 'soe': 1, 'poe': 2, 'kai': 3, 'mine': 4}"
      ]
     },
     "execution_count": 74,
     "metadata": {},
     "output_type": "execute_result"
    }
   ],
   "source": [
    "playerDict = dict()\n",
    "players = [\"mumu\", \"soe\", \"poe\", \"kai\", \"mine\"]\n",
    "for idx, player in enumerate(players):\n",
    "    playerDict[player] = idx\n",
    "    \n",
    "playerDict"
   ]
  },
  {
   "cell_type": "code",
   "execution_count": 77,
   "metadata": {},
   "outputs": [
    {
     "data": {
      "text/plain": [
       "(3, 3)"
      ]
     },
     "execution_count": 77,
     "metadata": {},
     "output_type": "execute_result"
    }
   ],
   "source": [
    "import numpy\n",
    "park = [\"SOO\",\"OOO\",\"OOO\"]\n",
    "park.shape()"
   ]
  },
  {
   "cell_type": "code",
   "execution_count": 117,
   "metadata": {},
   "outputs": [],
   "source": [
    "park = [\"OSO\",\"OOO\",\"OXO\",\"OOO\"]\t\n",
    "park_size = (len(park), len(park[0]), )\n",
    "obst_list = list()\n",
    "for i, sebu in enumerate(park):\n",
    "    for j, sebu_str in enumerate(sebu):\n",
    "        if sebu_str == \"S\":\n",
    "            start_point = (i,j)\n",
    "        elif sebu_str == \"X\":\n",
    "            obst_list.append((i,j))"
   ]
  },
  {
   "cell_type": "code",
   "execution_count": 112,
   "metadata": {},
   "outputs": [
    {
     "data": {
      "text/plain": [
       "(0, 1)"
      ]
     },
     "execution_count": 112,
     "metadata": {},
     "output_type": "execute_result"
    }
   ],
   "source": [
    "start_point"
   ]
  },
  {
   "cell_type": "code",
   "execution_count": 84,
   "metadata": {},
   "outputs": [
    {
     "data": {
      "text/plain": [
       "[(2, 1)]"
      ]
     },
     "execution_count": 84,
     "metadata": {},
     "output_type": "execute_result"
    }
   ],
   "source": [
    "obst_list"
   ]
  },
  {
   "cell_type": "code",
   "execution_count": 122,
   "metadata": {},
   "outputs": [],
   "source": [
    "park = [\"OSO\",\"OOO\",\"OXO\",\"OOO\"]\t\n",
    "park_size = (len(park), len(park[0]), )\n",
    "obst_list = list()\n",
    "for i, sebu in enumerate(park):\n",
    "    for j, sebu_str in enumerate(sebu):\n",
    "        if sebu_str == \"S\":\n",
    "            start_point = (i,j)\n",
    "        elif sebu_str == \"X\":\n",
    "            obst_list.append((i,j))"
   ]
  },
  {
   "cell_type": "code",
   "execution_count": 123,
   "metadata": {},
   "outputs": [
    {
     "name": "stdout",
     "output_type": "stream",
     "text": [
      "current_point :  (0, 2)\n",
      "current_point :  (0, 3)\n",
      "size 오류\n",
      "[(0, 2), (0, 3)]\n",
      "end_point :  (0, 1)\n",
      "current_point :  (1, 1)\n",
      "current_point :  (2, 1)\n",
      "장애물 오류\n",
      "[(1, 1), (2, 1)]\n",
      "end_point :  (0, 1)\n",
      "current_point :  (0, 0)\n",
      "[(0, 0)]\n",
      "end_point :  (0, 0)\n"
     ]
    }
   ],
   "source": [
    "routes = [\"E 2\",\"S 3\",\"W 1\"]\n",
    "\n",
    "for route in routes:\n",
    "    direction = route[0]\n",
    "    route_count = int(route[-1])\n",
    "    current_point = start_point\n",
    "    middle_point_list = list()\n",
    "    \n",
    "    for count in range(route_count):\n",
    "        if direction == \"E\":\n",
    "            current_point = (current_point[0], current_point[1]+1)\n",
    "            middle_point_list.append(current_point)\n",
    "        if direction == \"W\":\n",
    "            current_point = (current_point[0], current_point[1]-1)\n",
    "            middle_point_list.append(current_point)\n",
    "        if direction == \"N\":\n",
    "            current_point = (current_point[0]-1, current_point[1])\n",
    "            middle_point_list.append(current_point)\n",
    "        if direction == \"S\":\n",
    "            current_point = (current_point[0]+1, current_point[1])\n",
    "            middle_point_list.append(current_point)\n",
    "        print(\"current_point : \", current_point)\n",
    "            \n",
    "        if (current_point[0]) < 0 or (current_point[1]) < 0 or (current_point[0] >= park_size[0]) or (current_point[1] >= park_size[1]):\n",
    "            # print(\"size 오류\")\n",
    "            current_point = start_point\n",
    "            break\n",
    "        \n",
    "        if current_point in obst_list:\n",
    "            # print(\"장애물 오류\")\n",
    "            current_point = start_point\n",
    "            break\n",
    "        \n",
    "    print(middle_point_list)\n",
    "    start_point = current_point\n",
    "    print(\"end_point : \", start_point)\n",
    "    \n",
    "            "
   ]
  },
  {
   "cell_type": "code",
   "execution_count": 109,
   "metadata": {},
   "outputs": [
    {
     "data": {
      "text/plain": [
       "(4, 3)"
      ]
     },
     "execution_count": 109,
     "metadata": {},
     "output_type": "execute_result"
    }
   ],
   "source": [
    "park_size"
   ]
  },
  {
   "cell_type": "code",
   "execution_count": 87,
   "metadata": {},
   "outputs": [
    {
     "data": {
      "text/plain": [
       "(0, 1)"
      ]
     },
     "execution_count": 87,
     "metadata": {},
     "output_type": "execute_result"
    }
   ],
   "source": [
    "current_point"
   ]
  },
  {
   "cell_type": "code",
   "execution_count": 125,
   "metadata": {},
   "outputs": [
    {
     "data": {
      "text/plain": [
       "{1: 0, 2: 0, 3: 0, 4: 0, 5: 0, 6: 0, 7: 0, 8: 0}"
      ]
     },
     "execution_count": 125,
     "metadata": {},
     "output_type": "execute_result"
    }
   ],
   "source": [
    "n = 8\n",
    "wall_dict = dict()\n",
    "for i in range(n):\n",
    "    wall_dict[i+1] = 0\n",
    "    \n",
    "wall_dict"
   ]
  },
  {
   "cell_type": "code",
   "execution_count": 138,
   "metadata": {},
   "outputs": [
    {
     "data": {
      "text/plain": [
       "{1: 0, 2: 1, 3: 1, 4: 0, 5: 0, 6: 1, 7: 0, 8: 0}"
      ]
     },
     "execution_count": 138,
     "metadata": {},
     "output_type": "execute_result"
    }
   ],
   "source": [
    "section = [2,3,6]\n",
    "\n",
    "for section_i in section:\n",
    "    wall_dict[section_i] = 1\n",
    "\n",
    "wall_dict"
   ]
  },
  {
   "cell_type": "code",
   "execution_count": 135,
   "metadata": {},
   "outputs": [
    {
     "data": {
      "text/plain": [
       "{1: 0, 2: 0, 3: 1, 4: 0, 5: 0, 6: 1, 7: 0, 8: 0}"
      ]
     },
     "execution_count": 135,
     "metadata": {},
     "output_type": "execute_result"
    }
   ],
   "source": [
    "wall_dict[2] = 0\n",
    "wall_dict"
   ]
  },
  {
   "cell_type": "code",
   "execution_count": 147,
   "metadata": {},
   "outputs": [
    {
     "name": "stdout",
     "output_type": "stream",
     "text": [
      "{1: 0, 2: 1, 3: 1, 4: 1}\n",
      "{1: 0, 2: 0, 3: 1, 4: 1}\n",
      "{1: 0, 2: 0, 3: 0, 4: 1}\n",
      "{1: 0, 2: 0, 3: 0, 4: 0}\n"
     ]
    }
   ],
   "source": [
    "n = 4\n",
    "m = 1\n",
    "\n",
    "section = [1,2,3,4]\n",
    "\n",
    "count = 0\n",
    "\n",
    "wall_dict = dict()\n",
    "for i in range(n):\n",
    "    wall_dict[i+1] = 0\n",
    "    \n",
    "for section_i in section:\n",
    "    wall_dict[section_i] = 1\n",
    "    \n",
    "\n",
    "for section_i in section:\n",
    "    if wall_dict[section_i] == 1:\n",
    "        for paint_i in range(m):\n",
    "            try:\n",
    "                wall_dict[section_i + paint_i] = 0\n",
    "            except:\n",
    "                pass\n",
    "        count += 1\n",
    "    else:\n",
    "        continue\n",
    "    "
   ]
  },
  {
   "cell_type": "code",
   "execution_count": 148,
   "metadata": {},
   "outputs": [
    {
     "data": {
      "text/plain": [
       "4"
      ]
     },
     "execution_count": 148,
     "metadata": {},
     "output_type": "execute_result"
    }
   ],
   "source": [
    "count"
   ]
  },
  {
   "cell_type": "code",
   "execution_count": 149,
   "metadata": {},
   "outputs": [
    {
     "data": {
      "text/plain": [
       "{'A': 100, 'B': 100, 'C': 100, 'D': 100}"
      ]
     },
     "execution_count": 149,
     "metadata": {},
     "output_type": "execute_result"
    }
   ],
   "source": [
    "targets = [\"ABCD\", \"AABB\"]\n",
    "target_dict = dict()\n",
    "\n",
    "# target에 있는 글자들로 딕셔너리 만들기\n",
    "for target in targets:\n",
    "    for target_string in target:\n",
    "        target_dict[target_string] = 100\n",
    "        \n",
    "target_dict"
   ]
  },
  {
   "cell_type": "code",
   "execution_count": 152,
   "metadata": {},
   "outputs": [
    {
     "data": {
      "text/plain": [
       "{'A': 1, 'B': 1, 'C': 2, 'D': 5, 'E': 3, 'F': 4}"
      ]
     },
     "execution_count": 152,
     "metadata": {},
     "output_type": "execute_result"
    }
   ],
   "source": [
    "keymap = [\"ABACD\", \"BCEFD\"]\n",
    "key_map_dict = dict()\n",
    "for keymap_each in keymap:\n",
    "    for keymap_each_index, keymap_each_string in enumerate(keymap_each):\n",
    "        if keymap_each_string in key_map_dict.keys():\n",
    "            if keymap_each_index +1 < key_map_dict[keymap_each_string]:\n",
    "                key_map_dict[keymap_each_string] = keymap_each_index +1\n",
    "        else:\n",
    "            key_map_dict[keymap_each_string] = keymap_each_index +1\n",
    "            \n",
    "key_map_dict"
   ]
  },
  {
   "cell_type": "code",
   "execution_count": 161,
   "metadata": {},
   "outputs": [
    {
     "name": "stdout",
     "output_type": "stream",
     "text": [
      "E\n",
      "A\n",
      "Z\n",
      "E\n",
      "R\n"
     ]
    },
    {
     "data": {
      "text/plain": [
       "[4, 1, -1, 4, -1]"
      ]
     },
     "execution_count": 161,
     "metadata": {},
     "output_type": "execute_result"
    }
   ],
   "source": [
    "keymap = [\"ABCE\"]\n",
    "targets = [\"E\", \"A\",\"Z\",\"E\",\"R\"]\n",
    "\n",
    "key_map_dict = dict()\n",
    "for keymap_each in keymap:\n",
    "    for keymap_each_index, keymap_each_string in enumerate(keymap_each):\n",
    "        if keymap_each_string in key_map_dict.keys():\n",
    "            if keymap_each_index +1 < key_map_dict[keymap_each_string]:\n",
    "                key_map_dict[keymap_each_string] = keymap_each_index +1\n",
    "        else:\n",
    "            key_map_dict[keymap_each_string] = keymap_each_index +1\n",
    "            \n",
    "answer = []\n",
    "\n",
    "for target in targets:\n",
    "    possible = True\n",
    "    print(target)\n",
    "    count = 0\n",
    "    for target_string in target:\n",
    "        if target_string in key_map_dict.keys():\n",
    "            count += key_map_dict[target_string]\n",
    "        else:\n",
    "            possible = False\n",
    "            break\n",
    "    if possible:\n",
    "        answer.append(count)\n",
    "    else:\n",
    "        answer.append(-1)\n",
    "        \n",
    "    \n",
    "answer"
   ]
  },
  {
   "cell_type": "code",
   "execution_count": 163,
   "metadata": {},
   "outputs": [
    {
     "data": {
      "text/plain": [
       "{'want': 0, 'to': 1}"
      ]
     },
     "execution_count": 163,
     "metadata": {},
     "output_type": "execute_result"
    }
   ],
   "source": [
    "cards1 = [\"i\", \"water\", \"drink\"]\n",
    "cards2 = [\"want\", \"to\"]\n",
    "\n",
    "cards1_dict = dict()\n",
    "cards2_dict = dict()\n",
    "for card1_index, card1 in enumerate(cards1):\n",
    "    cards1_dict[card1] = card1_index\n",
    "    \n",
    "for card2_index, card2 in enumerate(cards2):\n",
    "    cards2_dict[card2] = card2_index\n",
    "    \n",
    "cards2_dict"
   ]
  },
  {
   "cell_type": "code",
   "execution_count": 184,
   "metadata": {},
   "outputs": [],
   "source": [
    "cards1 =  [\"def\", \"bcd\"]\n",
    "cards2 = [\"b\", \"c\", \"d\"]\n",
    "goal = [\"bcd\"]\n",
    "\n",
    "card1_list, card2_list = list(), list()\n",
    "for goal_string in goal:\n",
    "    if goal_string in cards1:\n",
    "        card1_list.append(goal_string)\n",
    "    else:\n",
    "        card2_list.append(goal_string)\n",
    "        \n",
    "card1_check_list = list()\n",
    "card2_check_list = list()\n",
    "for cards1_elmt in cards1:\n",
    "    if cards1_elmt in card1_list:\n",
    "        card1_check_list.append(cards1_elmt)\n",
    "for cards2_elmt in cards2:\n",
    "    if cards2_elmt in card2_list:\n",
    "        card2_check_list.append(cards2_elmt)"
   ]
  },
  {
   "cell_type": "code",
   "execution_count": 188,
   "metadata": {},
   "outputs": [
    {
     "name": "stdout",
     "output_type": "stream",
     "text": [
      "No\n"
     ]
    }
   ],
   "source": [
    "if (card1_list == card1_check_list) and (card2_list == card2_check_list):\n",
    "    if len(card1_check_list) != 0 and card1_check_list[0] == cards1[0]:\n",
    "        if card1_check_list[0] == cards1[0]:\n",
    "            print(\"No\")\n",
    "    elif len(card2_check_list) != 0:\n",
    "        if card2_check_list[0] != cards2[0]:\n",
    "            print(\"No\")\n",
    "    else:\n",
    "        print( \"Yes\")\n",
    "else:\n",
    "    print( \"No\")"
   ]
  },
  {
   "cell_type": "code",
   "execution_count": 187,
   "metadata": {},
   "outputs": [
    {
     "ename": "IndexError",
     "evalue": "list index out of range",
     "output_type": "error",
     "traceback": [
      "\u001b[1;31m---------------------------------------------------------------------------\u001b[0m",
      "\u001b[1;31mIndexError\u001b[0m                                Traceback (most recent call last)",
      "\u001b[1;32mc:\\WorkSpace\\BeomJin\\2_SelfStudy\\PRGMS\\question.ipynb Cell 31\u001b[0m line \u001b[0;36m2\n\u001b[0;32m      <a href='vscode-notebook-cell:/c%3A/WorkSpace/BeomJin/2_SelfStudy/PRGMS/question.ipynb#X44sZmlsZQ%3D%3D?line=0'>1</a>\u001b[0m a \u001b[39m=\u001b[39m \u001b[39mlist\u001b[39m()\n\u001b[1;32m----> <a href='vscode-notebook-cell:/c%3A/WorkSpace/BeomJin/2_SelfStudy/PRGMS/question.ipynb#X44sZmlsZQ%3D%3D?line=1'>2</a>\u001b[0m a[\u001b[39m0\u001b[39;49m]\n",
      "\u001b[1;31mIndexError\u001b[0m: list index out of range"
     ]
    }
   ],
   "source": [
    "a = list()\n",
    "a[0]"
   ]
  },
  {
   "cell_type": "code",
   "execution_count": 185,
   "metadata": {},
   "outputs": [
    {
     "data": {
      "text/plain": [
       "['bcd']"
      ]
     },
     "execution_count": 185,
     "metadata": {},
     "output_type": "execute_result"
    }
   ],
   "source": [
    "card1_check_list = list()\n",
    "card2_check_list = list()\n",
    "for cards1_elmt in cards1:\n",
    "    if cards1_elmt in card1_list:\n",
    "        card1_check_list.append(cards1_elmt)\n",
    "for cards2_elmt in cards2:\n",
    "    if cards2_elmt in card2_list:\n",
    "        card2_check_list.append(cards2_elmt)\n",
    "        \n",
    "card1_check_list"
   ]
  },
  {
   "cell_type": "code",
   "execution_count": 195,
   "metadata": {},
   "outputs": [],
   "source": [
    "t = \"500220839878\"\n",
    "p = \"7\"\n",
    "\n",
    "len_t = len(t)\n",
    "len_p = len(p)"
   ]
  },
  {
   "cell_type": "code",
   "execution_count": 196,
   "metadata": {},
   "outputs": [
    {
     "data": {
      "text/plain": [
       "[5, 0, 0, 2, 2, 0, 8, 3, 9, 8, 7, 8]"
      ]
     },
     "execution_count": 196,
     "metadata": {},
     "output_type": "execute_result"
    }
   ],
   "source": [
    "num_list = list()\n",
    "for i in range(len_t - len_p + 1):\n",
    "    num_list.append(int(t[i: i+len_p]))\n",
    "    \n",
    "num_list"
   ]
  },
  {
   "cell_type": "code",
   "execution_count": 197,
   "metadata": {},
   "outputs": [
    {
     "data": {
      "text/plain": [
       "8"
      ]
     },
     "execution_count": 197,
     "metadata": {},
     "output_type": "execute_result"
    }
   ],
   "source": [
    "count = 0\n",
    "for num in num_list:\n",
    "    if num <= int(p):\n",
    "        count+=1\n",
    "count"
   ]
  },
  {
   "cell_type": "code",
   "execution_count": 199,
   "metadata": {},
   "outputs": [],
   "source": [
    "s = \"banana\"\n",
    "s_dict = dict()\n",
    "answer = []\n",
    "for string_index, string in enumerate(s):\n",
    "    if string in s_dict.keys():\n",
    "        answer.append(string_index - s_dict[string])\n",
    "    else:\n",
    "        s_dict[string] = string_index\n",
    "        answer.append(-1)"
   ]
  },
  {
   "cell_type": "code",
   "execution_count": 203,
   "metadata": {},
   "outputs": [
    {
     "ename": "KeyboardInterrupt",
     "evalue": "",
     "output_type": "error",
     "traceback": [
      "\u001b[1;31m---------------------------------------------------------------------------\u001b[0m",
      "\u001b[1;31mKeyboardInterrupt\u001b[0m                         Traceback (most recent call last)",
      "\u001b[1;32mc:\\WorkSpace\\BeomJin\\2_SelfStudy\\PRGMS\\question.ipynb Cell 37\u001b[0m line \u001b[0;36m4\n\u001b[0;32m      <a href='vscode-notebook-cell:/c%3A/WorkSpace/BeomJin/2_SelfStudy/PRGMS/question.ipynb#X52sZmlsZQ%3D%3D?line=1'>2</a>\u001b[0m answer \u001b[39m=\u001b[39m \u001b[39m0\u001b[39m\n\u001b[0;32m      <a href='vscode-notebook-cell:/c%3A/WorkSpace/BeomJin/2_SelfStudy/PRGMS/question.ipynb#X52sZmlsZQ%3D%3D?line=2'>3</a>\u001b[0m \u001b[39mwhile\u001b[39;00m \u001b[39mTrue\u001b[39;00m:\n\u001b[1;32m----> <a href='vscode-notebook-cell:/c%3A/WorkSpace/BeomJin/2_SelfStudy/PRGMS/question.ipynb#X52sZmlsZQ%3D%3D?line=3'>4</a>\u001b[0m     x \u001b[39m=\u001b[39m s[\u001b[39m0\u001b[39m]\n\u001b[0;32m      <a href='vscode-notebook-cell:/c%3A/WorkSpace/BeomJin/2_SelfStudy/PRGMS/question.ipynb#X52sZmlsZQ%3D%3D?line=5'>6</a>\u001b[0m     x_count \u001b[39m=\u001b[39m \u001b[39m1\u001b[39m\n\u001b[0;32m      <a href='vscode-notebook-cell:/c%3A/WorkSpace/BeomJin/2_SelfStudy/PRGMS/question.ipynb#X52sZmlsZQ%3D%3D?line=6'>7</a>\u001b[0m     another_count \u001b[39m=\u001b[39m \u001b[39m0\u001b[39m\n",
      "\u001b[1;31mKeyboardInterrupt\u001b[0m: "
     ]
    }
   ],
   "source": [
    "s = \"banana\"\n",
    "answer = 0\n",
    "while True:\n",
    "    x = s[0]\n",
    "    \n",
    "    x_count = 1\n",
    "    another_count = 0\n",
    "    for index, i in enumerate(s[1:]):\n",
    "        if i == x:\n",
    "            x_count += 1\n",
    "        else:\n",
    "            another_count += 1\n",
    "        \n",
    "        if x_count == another_count:\n",
    "            s = s[index+1:]\n",
    "            answer += 1\n",
    "            continue\n",
    "    if len(s) == 0:\n",
    "        break"
   ]
  },
  {
   "cell_type": "code",
   "execution_count": 221,
   "metadata": {},
   "outputs": [
    {
     "name": "stdout",
     "output_type": "stream",
     "text": [
      "7\n",
      "11\n",
      "13\n",
      "a\n"
     ]
    }
   ],
   "source": [
    "s = \"aaabbaccccabba\"\n",
    "\n",
    "x = s[0]\n",
    "\n",
    "x_count = 0\n",
    "an_count = 0\n",
    "answer = 0\n",
    "for i in range(len(s)):\n",
    "    if s[i] == x:\n",
    "        x_count += 1\n",
    "    else:\n",
    "        an_count += 1\n",
    "    \n",
    "    if x_count == an_count:\n",
    "        print(i)\n",
    "        if i == len(s)-1:\n",
    "            print(\"a\")\n",
    "            pass\n",
    "        else:\n",
    "            x = s[i+1]\n",
    "            x_count = 0\n",
    "            an_count = 0\n",
    "        answer += 1\n",
    "    else:\n",
    "        if i == len(s)-1:\n",
    "            print(\"b\")\n",
    "            answer += 1"
   ]
  },
  {
   "cell_type": "code",
   "execution_count": 222,
   "metadata": {},
   "outputs": [
    {
     "data": {
      "text/plain": [
       "3"
      ]
     },
     "execution_count": 222,
     "metadata": {},
     "output_type": "execute_result"
    }
   ],
   "source": [
    "answer"
   ]
  },
  {
   "cell_type": "code",
   "execution_count": 3,
   "metadata": {},
   "outputs": [
    {
     "name": "stdout",
     "output_type": "stream",
     "text": [
      "10\n",
      "10\n",
      "10\n",
      "20\n",
      "20\n",
      "100\n",
      "100\n"
     ]
    }
   ],
   "source": [
    "k = 3\n",
    "score = [10, 100, 20, 150, 1, 100, 200]\n",
    "answer_list = []\n",
    "return_list = list()\n",
    "for score_each in score:\n",
    "    if len(answer_list) != k:\n",
    "        answer_list.append(score_each)\n",
    "        answer_list.sort()\n",
    "    else:\n",
    "        answer_list.append(score_each)\n",
    "        answer_list.sort()\n",
    "        answer_list = answer_list[1:]\n",
    "    return_list.append(answer_list[0])\n",
    "        "
   ]
  },
  {
   "cell_type": "code",
   "execution_count": 4,
   "metadata": {},
   "outputs": [
    {
     "data": {
      "text/plain": [
       "4"
      ]
     },
     "execution_count": 4,
     "metadata": {},
     "output_type": "execute_result"
    }
   ],
   "source": [
    "# 약수 개수 구하기\n",
    "def count_yaksoo(number):\n",
    "    count = 0\n",
    "    for i in range(1, number):\n",
    "        if number % i == 0:\n",
    "            count += 1\n",
    "            \n",
    "    return count + 1\n",
    "\n",
    "count_yaksoo(15)"
   ]
  },
  {
   "cell_type": "code",
   "execution_count": 6,
   "metadata": {},
   "outputs": [
    {
     "data": {
      "text/plain": [
       "21"
      ]
     },
     "execution_count": 6,
     "metadata": {},
     "output_type": "execute_result"
    }
   ],
   "source": [
    "number = 10\n",
    "limit = 3\n",
    "power = 2\n",
    "sum = 0\n",
    "for i in range(1,number+1):\n",
    "    count_ys = count_yaksoo(i)\n",
    "    if count_ys > 3:\n",
    "        sum += power\n",
    "    else:\n",
    "        sum += count_ys\n",
    "        \n",
    "sum"
   ]
  },
  {
   "cell_type": "code",
   "execution_count": 7,
   "metadata": {},
   "outputs": [
    {
     "data": {
      "text/plain": [
       "[0, 1, 2, 2, 3, 2, 4, 2, 4, 3, 4, 2, 6, 2, 4, 4]"
      ]
     },
     "execution_count": 7,
     "metadata": {},
     "output_type": "execute_result"
    }
   ],
   "source": [
    "number = 15\n",
    "divisor=[0 for i in range(number+1)]\n",
    "for i in range(2,number+1):\n",
    "    print(min(number//i+1))\n",
    "    print(i)\n",
    "    for j in range(1,min(number//i+1,i)):\n",
    "        divisor[i*j]+=2\n",
    "for i in range(1,int(number**(1/2))+1):\n",
    "    divisor[i**2]+=1\n",
    "    \n",
    "divisor"
   ]
  },
  {
   "cell_type": "code",
   "execution_count": 22,
   "metadata": {},
   "outputs": [
    {
     "data": {
      "text/plain": [
       "[0, 0, 0, 0, 0, 0, 0, 0, 0, 0, 0, 0, 0, 0, 0, 0]"
      ]
     },
     "execution_count": 22,
     "metadata": {},
     "output_type": "execute_result"
    }
   ],
   "source": [
    "number = 15\n",
    "divisor=[0 for i in range(number+1)]\n",
    "divisor"
   ]
  },
  {
   "cell_type": "code",
   "execution_count": 26,
   "metadata": {},
   "outputs": [
    {
     "name": "stdout",
     "output_type": "stream",
     "text": [
      "8 2\n",
      "6 3\n",
      "4 4\n",
      "4 5\n",
      "3 6\n",
      "3 7\n",
      "2 8\n",
      "2 9\n",
      "2 10\n",
      "2 11\n",
      "2 12\n",
      "2 13\n",
      "2 14\n",
      "2 15\n"
     ]
    }
   ],
   "source": [
    "for i in range(2,number+1):\n",
    "    print(number//i+1, i)\n",
    "    for j in range(1,min(number//i+1,i)):\n",
    "        \n",
    "        divisor[i*j]+=2\n",
    "        # print(i, j)\n",
    "# divisor"
   ]
  },
  {
   "cell_type": "code",
   "execution_count": 12,
   "metadata": {},
   "outputs": [
    {
     "data": {
      "text/plain": [
       "5"
      ]
     },
     "execution_count": 12,
     "metadata": {},
     "output_type": "execute_result"
    }
   ],
   "source": [
    "15//3"
   ]
  },
  {
   "cell_type": "code",
   "execution_count": 3,
   "metadata": {},
   "outputs": [],
   "source": [
    "attacks = [[2, 10], [9, 15], [10, 5], [11, 5]]"
   ]
  },
  {
   "cell_type": "code",
   "execution_count": 9,
   "metadata": {},
   "outputs": [
    {
     "data": {
      "text/plain": [
       "{2: 10, 9: 15, 10: 5, 11: 5}"
      ]
     },
     "execution_count": 9,
     "metadata": {},
     "output_type": "execute_result"
    }
   ],
   "source": [
    "attack_dict = dict()\n",
    "for attack in attacks:\n",
    "    attack_dict[attack[0]] = attack[1]\n",
    "\n",
    "attack_dict"
   ]
  },
  {
   "cell_type": "code",
   "execution_count": 10,
   "metadata": {},
   "outputs": [
    {
     "data": {
      "text/plain": [
       "11"
      ]
     },
     "execution_count": 10,
     "metadata": {},
     "output_type": "execute_result"
    }
   ],
   "source": [
    "final_attack_time = attacks[-1][0]\n",
    "final_attack_time"
   ]
  },
  {
   "cell_type": "code",
   "execution_count": 11,
   "metadata": {},
   "outputs": [
    {
     "data": {
      "text/plain": [
       "30"
      ]
     },
     "execution_count": 11,
     "metadata": {},
     "output_type": "execute_result"
    }
   ],
   "source": [
    "health = 30\n",
    "max_health = health\n",
    "max_health"
   ]
  },
  {
   "cell_type": "code",
   "execution_count": 6,
   "metadata": {},
   "outputs": [],
   "source": [
    "bandage = [5, 1, 5]"
   ]
  },
  {
   "cell_type": "code",
   "execution_count": 8,
   "metadata": {},
   "outputs": [
    {
     "name": "stdout",
     "output_type": "stream",
     "text": [
      "5 1 5\n"
     ]
    }
   ],
   "source": [
    "bandage_time, bandage_basic_heal, bandage_adv_heal = bandage\n",
    "print(bandage_time, bandage_basic_heal, bandage_adv_heal)"
   ]
  },
  {
   "cell_type": "code",
   "execution_count": 44,
   "metadata": {},
   "outputs": [],
   "source": [
    "bandage = [4, 2, 7]\n",
    "health = 20\n",
    "attacks = [[1, 15], [5, 16], [8, 6]]"
   ]
  },
  {
   "cell_type": "code",
   "execution_count": 50,
   "metadata": {},
   "outputs": [],
   "source": [
    "# 공격에 대한 정보를 담은 딕셔너리\n",
    "attack_dict = dict()\n",
    "for attack in attacks:\n",
    "    attack_dict[attack[0]] = attack[1]\n",
    "# 마지막 공격 시간\n",
    "final_attack_time = attacks[-1][0]\n",
    "# 최대체력은 시작할때의 체력\n",
    "max_health = health\n",
    "# 시전시간, 가본힐량, 추가힐량\n",
    "bandage_time, bandage_basic_heal, bandage_adv_heal = bandage"
   ]
  },
  {
   "cell_type": "code",
   "execution_count": 47,
   "metadata": {},
   "outputs": [],
   "source": [
    "def heal(bandage_time, current_heal_time, bandage_basic_heal, bandage_adv_heal):\n",
    "    result_heal = 0\n",
    "    if current_heal_time == bandage_time:\n",
    "        result_heal += bandage_adv_heal\n",
    "        current_heal_time = 0\n",
    "    result_heal += bandage_basic_heal\n",
    "    \n",
    "    return result_heal, current_heal_time"
   ]
  },
  {
   "cell_type": "code",
   "execution_count": 49,
   "metadata": {},
   "outputs": [
    {
     "name": "stdout",
     "output_type": "stream",
     "text": [
      "-22\n",
      "사망\n"
     ]
    }
   ],
   "source": [
    "current_heal_time = 0\n",
    "for battle_time in range(1, final_attack_time+1):\n",
    "    \n",
    "    # 1. 현재 battle time에 몬스터에 공격이 있는지 확인\n",
    "    if battle_time in attack_dict.keys():\n",
    "        health -= attack_dict[battle_time]\n",
    "        current_heal_time = 0\n",
    "        print(health)\n",
    "        \n",
    "    else:\n",
    "        current_heal_time += 1\n",
    "        result_heal, current_heal_time = heal(bandage_time, current_heal_time, bandage_basic_heal, bandage_adv_heal)\n",
    "        health += result_heal\n",
    "        \n",
    "        if health >= max_health:\n",
    "            health = max_health\n",
    "        print(health)\n",
    "        \n",
    "    if health <= 0:\n",
    "        # return -1\n",
    "        print(\"사망\")\n",
    "        break"
   ]
  },
  {
   "cell_type": "code",
   "execution_count": 53,
   "metadata": {},
   "outputs": [],
   "source": [
    "def heal(bandage_time, current_heal_time, bandage_basic_heal, bandage_adv_heal):\n",
    "    result_heal = 0\n",
    "    if current_heal_time == bandage_time:\n",
    "        result_heal += bandage_adv_heal\n",
    "        current_heal_time = 0\n",
    "    result_heal += bandage_basic_heal\n",
    "    \n",
    "    return result_heal, current_heal_time\n",
    "\n",
    "def solution(bandage, health, attacks):\n",
    "    # 공격에 대한 정보를 담은 딕셔너리\n",
    "    attack_dict = dict()\n",
    "    for attack in attacks:\n",
    "        attack_dict[attack[0]] = attack[1]\n",
    "    # 마지막 공격 시간\n",
    "    final_attack_time = attacks[-1][0]\n",
    "    # 최대체력은 시작할때의 체력\n",
    "    max_health = health\n",
    "    # 시전시간, 가본힐량, 추가힐량\n",
    "    bandage_time, bandage_basic_heal, bandage_adv_heal = bandage\n",
    "    \n",
    "    current_heal_time = 0\n",
    "    \n",
    "    for battle_time in range(1, final_attack_time+1):\n",
    "        \n",
    "        # 1. 현재 battle time에 몬스터에 공격이 있는지 확인\n",
    "        if battle_time in attack_dict.keys():\n",
    "            health -= attack_dict[battle_time]\n",
    "            current_heal_time = 0\n",
    "            \n",
    "        else:\n",
    "            current_heal_time += 1\n",
    "            result_heal, current_heal_time = heal(bandage_time, current_heal_time, bandage_basic_heal, bandage_adv_heal)\n",
    "            health += result_heal\n",
    "            \n",
    "            if health >= max_health:\n",
    "                health = max_health\n",
    "            \n",
    "        if health <= 0:\n",
    "            return -1\n",
    "\n",
    "    return health"
   ]
  },
  {
   "cell_type": "code",
   "execution_count": 55,
   "metadata": {},
   "outputs": [
    {
     "data": {
      "text/plain": [
       "3"
      ]
     },
     "execution_count": 55,
     "metadata": {},
     "output_type": "execute_result"
    }
   ],
   "source": [
    "bandage = [1, 1, 1]\n",
    "health = 5\n",
    "attacks = [[1, 2], [3, 2]]\n",
    "\n",
    "solution(bandage, health, attacks)"
   ]
  }
 ],
 "metadata": {
  "kernelspec": {
   "display_name": "Python 3",
   "language": "python",
   "name": "python3"
  },
  "language_info": {
   "codemirror_mode": {
    "name": "ipython",
    "version": 3
   },
   "file_extension": ".py",
   "mimetype": "text/x-python",
   "name": "python",
   "nbconvert_exporter": "python",
   "pygments_lexer": "ipython3",
   "version": "3.8.5"
  }
 },
 "nbformat": 4,
 "nbformat_minor": 2
}
